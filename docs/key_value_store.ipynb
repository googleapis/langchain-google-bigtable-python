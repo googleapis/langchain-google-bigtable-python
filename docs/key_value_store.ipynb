{
 "nbformat": 4,
 "nbformat_minor": 0,
 "metadata": {
  "colab": {
   "provenance": [],
   "collapsed_sections": [
    "_jYpsWThC6y5",
    "lQ_0gASlDCyj",
    "HA1eBhvtDLia",
    "N5H79lwWDQc8",
    "Arto8TN9BLId",
    "Bxin149SPgup",
    "pkpuKtMGPwlJ",
    "OcAijPTzD_kw"
   ],
   "toc_visible": true
  },
  "kernelspec": {
   "name": "python3",
   "display_name": "Python 3"
  },
  "language_info": {
   "name": "python"
  }
 },
 "cells": [
  {
   "cell_type": "markdown",
   "source": [
    "# Google Bigtable\n",
    "\n",
    "> [Bigtable](https://cloud.google.com/bigtable) is a key-value and wide-column store, ideal for fast access to structured, semi-structured, or unstructured data. Extend your database application to build AI-powered experiences leveraging Bigtable's Langchain integrations.\n",
    "\n",
    "This notebook goes over how to use [Bigtable](https://cloud.google.com/bigtable) to [set, get, delete, and find key-value pairs](https://python.langchain.com/docs/concepts/key_value_stores/) with `BigtableByteStore`.\n",
    "\n",
    "Learn more about the package on [GitHub](https://github.com/googleapis/langchain-google-bigtable-python/).\n",
    "\n",
    "[![Open In Colab](https://colab.research.google.com/assets/colab-badge.svg)](https://colab.research.google.com/github/googleapis/langchain-google-bigtable-python/blob/main/docs/key_value_store.ipynb)"
   ],
   "metadata": {
    "id": "hMbol8n5_e37"
   }
  },
  {
   "cell_type": "markdown",
   "source": [
    "## Before You Begin\n",
    "\n",
    "To run this notebook, you will need to do the following:\n",
    "\n",
    "* [Create a Google Cloud Project](https://developers.google.com/workspace/guides/create-project)\n",
    "* [Enable the Bigtable API](https://console.cloud.google.com/flows/enableapi?apiid=bigtable.googleapis.com)\n",
    "* [Create a Bigtable instance](https://cloud.google.com/bigtable/docs/creating-instance)\n",
    "* [Create a Bigtable table](https://cloud.google.com/bigtable/docs/managing-tables)\n",
    "* [Create Bigtable access credentials](https://developers.google.com/workspace/guides/create-credentials)\n",
    "\n",
    "After confirmed access to database in the runtime environment of this notebook, filling the following values and run the cell before running example scripts."
   ],
   "metadata": {
    "id": "fAxIbIOBAQtC"
   }
  },
  {
   "cell_type": "code",
   "source": [
    "# @markdown Please specify an instance and a table for demo purpose.\n",
    "INSTANCE_ID = \"\"  # @param {type:\"string\"}\n",
    "TABLE_ID = \"\"  # @param {type:\"string\"}"
   ],
   "metadata": {
    "id": "fnUcqyaGAQYY"
   },
   "execution_count": null,
   "outputs": []
  },
  {
   "cell_type": "markdown",
   "source": [
    "### 🦜🔗 Library Installation\n",
    "\n",
    "The integration lives in its own `langchain-google-bigtable` package, so we need to install it."
   ],
   "metadata": {
    "id": "tfG-zUjdAbgy"
   }
  },
  {
   "cell_type": "code",
   "execution_count": null,
   "metadata": {
    "id": "OgCbOw3V_GOe"
   },
   "outputs": [],
   "source": [
    "%pip install --quiet langchain-google-bigtable"
   ]
  },
  {
   "cell_type": "markdown",
   "source": [
    "**Colab only**: Uncomment the following cell to restart the kernel or use the button to restart the kernel. For Vertex AI Workbench you can restart the terminal using the button on top."
   ],
   "metadata": {
    "id": "IVygTm50Agp4"
   }
  },
  {
   "cell_type": "code",
   "source": [
    "# Automatically restart kernel after installs so that your environment can access the new packages\n",
    "# import IPython\n",
    "\n",
    "# app = IPython.Application.instance()\n",
    "# app.kernel.do_shutdown(True)"
   ],
   "metadata": {
    "id": "jcrWoTuMAeF-"
   },
   "execution_count": null,
   "outputs": []
  },
  {
   "cell_type": "markdown",
   "source": [
    "### ☁ Set Your Google Cloud Project\n",
    "Set your Google Cloud project so that you can leverage Google Cloud resources within this notebook.\n",
    "\n",
    "If you don't know your project ID, try the following:\n",
    "\n",
    "* Run `gcloud config list`.\n",
    "* Run `gcloud projects list`.\n",
    "* See the support page: [Locate the project ID](https://support.google.com/googleapi/answer/7014113)."
   ],
   "metadata": {
    "id": "QQq5LfMwAk9q"
   }
  },
  {
   "cell_type": "code",
   "source": [
    "# @markdown Please fill in the value below with your Google Cloud project ID and then run the cell.\n",
    "\n",
    "PROJECT_ID = \"\"  # @param {type:\"string\"}\n",
    "\n",
    "# Set the project id\n",
    "!gcloud config set project {PROJECT_ID}"
   ],
   "metadata": {
    "colab": {
     "base_uri": "https://localhost:8080/"
    },
    "id": "emWvmslgAi4k",
    "outputId": "ecc565ce-77a2-4164-c04f-e961c2e32e79"
   },
   "execution_count": null,
   "outputs": [
    {
     "output_type": "stream",
     "name": "stdout",
     "text": [
      "Updated property [core/project].\n"
     ]
    }
   ]
  },
  {
   "cell_type": "markdown",
   "source": [
    "### 🔐 Authentication\n",
    "\n",
    "Authenticate to Google Cloud as the IAM user logged into this notebook in order to access your Google Cloud Project.\n",
    "\n",
    "- If you are using Colab to run this notebook, use the cell below and continue.\n",
    "- If you are using Vertex AI Workbench, check out the setup instructions [here](https://github.com/GoogleCloudPlatform/generative-ai/tree/main/setup-env)."
   ],
   "metadata": {
    "id": "Tm4qnt6dAqO-"
   }
  },
  {
   "cell_type": "code",
   "source": [
    "from google.colab import auth\n",
    "\n",
    "auth.authenticate_user(project_id=PROJECT_ID)"
   ],
   "metadata": {
    "id": "ldGXM-IUApuB"
   },
   "execution_count": null,
   "outputs": []
  },
  {
   "cell_type": "markdown",
   "source": [
    "# Instantiation"
   ],
   "metadata": {
    "id": "7TJgd_ETBR3u"
   }
  },
  {
   "cell_type": "markdown",
   "source": [
    "### Initialize a table"
   ],
   "metadata": {
    "id": "y3FfVDCIJliE"
   }
  },
  {
   "cell_type": "markdown",
   "source": [
    "To use the `BigtableByteStore` class, a table needs to exist. The `langchain_google_bigtable` library provides a function that we can use to create a table."
   ],
   "metadata": {
    "id": "7aMUuRrUJ-RX"
   }
  },
  {
   "cell_type": "code",
   "source": [
    "from langchain_google_bigtable import init_key_value_store_table\n",
    "\n",
    "try:\n",
    "    init_key_value_store_table(\n",
    "        project_id=PROJECT_ID,\n",
    "        instance_id=INSTANCE_ID,\n",
    "        table_id=TABLE_ID,\n",
    "    )\n",
    "except ValueError as e:\n",
    "    print(e)"
   ],
   "metadata": {
    "id": "eVN6imAjJk94"
   },
   "execution_count": null,
   "outputs": []
  },
  {
   "cell_type": "markdown",
   "source": [
    "### BigtableEngine\n",
    "\n",
    "A `BigtableEngine` object will be used to handle the execution context of the store, particularly for asynchronous operations by delegating them to synchronous methods on a blocking background loop. While not strictly required for creating a `BigtableByteStore`, it is highly recommended to initialize a single `BigtableEngine` instance and reuse it across multiple stores for better performance and resource management."
   ],
   "metadata": {
    "id": "3yit7YCwASZb"
   }
  },
  {
   "cell_type": "code",
   "source": [
    "from langchain_google_bigtable import BigtableByteStore, BigtableEngine\n",
    "\n",
    "# Asynchronous Factory Setup\n",
    "engine = await BigtableEngine.async_initialize(project_id=PROJECT_ID)"
   ],
   "metadata": {
    "id": "6x9V1X-uBT7s"
   },
   "execution_count": null,
   "outputs": []
  },
  {
   "cell_type": "code",
   "source": [
    "# # Synchronous Factory Setup\n",
    "# # Uncomment the following block to use the synchronous factory setup instead.\n",
    "# engine = BigtableEngine.initialize(\n",
    "#     project_id = PROJECT_ID\n",
    "# )"
   ],
   "metadata": {
    "id": "dWbAHP1E_6Op"
   },
   "execution_count": null,
   "outputs": []
  },
  {
   "cell_type": "markdown",
   "source": [
    "### BigtableByteStore\n",
    "\n",
    "This is the main class object used to interact with the key-value store in Bigtable. It provides methods for basic operations like setting, getting, deleting, and yielding key-value pairs. It acts as the primary interface for managing data within your Bigtable table through the LangChain integration."
   ],
   "metadata": {
    "id": "NRDIBHn_AutL"
   }
  },
  {
   "cell_type": "code",
   "source": [
    "# Asynchronous Factory Setup\n",
    "store = await BigtableByteStore.create(\n",
    "    engine=engine, instance_id=INSTANCE_ID, table_id=TABLE_ID\n",
    ")"
   ],
   "metadata": {
    "id": "47-9yfpAI-T-"
   },
   "execution_count": null,
   "outputs": []
  },
  {
   "cell_type": "code",
   "source": [
    "# # Synchronous Factory Setup\n",
    "# # Uncomment the following to use the synchronous factory setup instead.\n",
    "# store = BigtableByteStore.create_sync(\n",
    "#     engine=engine,\n",
    "#     instance_id=INSTANCE_ID,\n",
    "#     table_id=TABLE_ID\n",
    "# )"
   ],
   "metadata": {
    "id": "rT68IFOEB1MK"
   },
   "execution_count": null,
   "outputs": []
  },
  {
   "cell_type": "markdown",
   "source": [
    "# Usage"
   ],
   "metadata": {
    "id": "DQLCgC0iAyzY"
   }
  },
  {
   "cell_type": "markdown",
   "source": [
    "## Basic Usage"
   ],
   "metadata": {
    "id": "LHtBRN0bA0mf"
   }
  },
  {
   "cell_type": "markdown",
   "source": [
    "### Setting key-value Pairs"
   ],
   "metadata": {
    "id": "_jYpsWThC6y5"
   }
  },
  {
   "cell_type": "code",
   "source": [
    "# Key-value Pairs to set\n",
    "kv_pairs = [\n",
    "    (\"key 1\", \"value 1\".encode(\"utf-8\")),\n",
    "    (\"key 2\", \"value 2\".encode(\"utf-8\")),\n",
    "    (\"key 3\", \"value 3\".encode(\"utf-8\")),\n",
    "    (\"key 4\", \"value 4\".encode(\"utf-8\")),\n",
    "    (\"key 5\", \"value 5\".encode(\"utf-8\")),\n",
    "    (\"new key\", \"value 6\".encode(\"utf-8\")),\n",
    "]"
   ],
   "metadata": {
    "id": "NXYuMNqEAmxg"
   },
   "execution_count": null,
   "outputs": []
  },
  {
   "cell_type": "code",
   "source": [
    "# Setting Key-value Pairs using asynchronous method 'amset'\n",
    "await store.amset(kv_pairs)"
   ],
   "metadata": {
    "id": "RY95kMAHCTWc"
   },
   "execution_count": null,
   "outputs": []
  },
  {
   "cell_type": "code",
   "source": [
    "# Setting Key-value Pairs using synchronous method 'mset'\n",
    "store.mset(kv_pairs)"
   ],
   "metadata": {
    "id": "rIfD_bkHCRCU"
   },
   "execution_count": null,
   "outputs": []
  },
  {
   "cell_type": "markdown",
   "source": [
    "### Getting Key-value Pairs"
   ],
   "metadata": {
    "id": "lQ_0gASlDCyj"
   }
  },
  {
   "cell_type": "code",
   "source": [
    "# Getting values for a given list of keys using synchronous method 'mget'\n",
    "sync_retrieved_vals = store.mget([\"key 1\", \"key 3\", \"key 7\"])\n",
    "\n",
    "# 'key 7' is not in the store, so the store retrieves 'None` in place\n",
    "print(sync_retrieved_vals)\n",
    "\n",
    "# Convert byte type back to str type\n",
    "sync_retrieved_vals = [\n",
    "    val.decode(\"utf-8\") if val else None for val in sync_retrieved_vals\n",
    "]\n",
    "print(sync_retrieved_vals)"
   ],
   "metadata": {
    "id": "wufhBdy8DGbM"
   },
   "execution_count": null,
   "outputs": []
  },
  {
   "cell_type": "code",
   "source": [
    "# Getting values for a given list of keys using ssynchronous method 'amget'\n",
    "async_retrieved_vals = await store.amget([\"key 2\", \"key 5\", \"key 9\"])\n",
    "\n",
    "# 'key 9' is not in the store, so the store retrieves 'None' in place\n",
    "print(async_retrieved_vals)\n",
    "\n",
    "# Convert the byte type back to str type\n",
    "async_retrieved_vals = [\n",
    "    val.decode(\"utf-8\") if val else None for val in async_retrieved_vals\n",
    "]\n",
    "print(async_retrieved_vals)"
   ],
   "metadata": {
    "id": "vBzwh6dV8-MZ"
   },
   "execution_count": null,
   "outputs": []
  },
  {
   "cell_type": "markdown",
   "source": [
    "### Deleting Key-value Pairs"
   ],
   "metadata": {
    "id": "HA1eBhvtDLia"
   }
  },
  {
   "cell_type": "code",
   "source": [
    "# Deleting Keys synchronously\n",
    "store.mdelete([\"key 3\", \"key 4\"])"
   ],
   "metadata": {
    "id": "2kxkjFoyDLIC"
   },
   "execution_count": null,
   "outputs": []
  },
  {
   "cell_type": "code",
   "source": [
    "# Deleting Keys asynchronously\n",
    "await store.amdelete([\"key 5\"])"
   ],
   "metadata": {
    "id": "e4unqbhC7sq8"
   },
   "execution_count": null,
   "outputs": []
  },
  {
   "cell_type": "markdown",
   "source": [
    "### Yielding Key-value Pairs"
   ],
   "metadata": {
    "id": "N5H79lwWDQc8"
   }
  },
  {
   "cell_type": "code",
   "source": [
    "# Yielding keys with prefix 'key' retrieved synchronously\n",
    "list(store.yield_keys(prefix=\"key\"))"
   ],
   "metadata": {
    "id": "0dEcfHXGDQUL"
   },
   "execution_count": null,
   "outputs": []
  },
  {
   "cell_type": "code",
   "source": [
    "# Yielding all keys with prefix 'new' retrieved asynchronously\n",
    "async def print_keys():\n",
    "    result = []\n",
    "    async for key in store.ayield_keys(prefix=\"new\"):\n",
    "        result.append(key)\n",
    "    print(result)\n",
    "\n",
    "\n",
    "await print_keys()"
   ],
   "metadata": {
    "id": "wnZ1wmBN6gkk"
   },
   "execution_count": null,
   "outputs": []
  },
  {
   "cell_type": "code",
   "source": [
    "# Yielding all keys retrieved synchronously\n",
    "list(store.yield_keys())"
   ],
   "metadata": {
    "id": "K2NOwwmY6_BR"
   },
   "execution_count": null,
   "outputs": []
  },
  {
   "cell_type": "code",
   "source": [
    "# Yielding all keys retrieved asynchronously\n",
    "async def print_keys():\n",
    "    result = []\n",
    "    async for key in store.ayield_keys():\n",
    "        result.append(key)\n",
    "    print(result)\n",
    "\n",
    "\n",
    "await print_keys()"
   ],
   "metadata": {
    "id": "YpLcYFy87LYP"
   },
   "execution_count": null,
   "outputs": []
  },
  {
   "cell_type": "markdown",
   "source": [
    "## Advanced Usage"
   ],
   "metadata": {
    "id": "YhHXNbP1D5FE"
   }
  },
  {
   "cell_type": "markdown",
   "source": [
    "### As an Embedding Caching Layer\n",
    "\n",
    "This section demonstrates how to leverage Bigtable as a **caching layer for embedding models**, which is a primary use case for key-value stores in LangChain. This can significantly reduce the cost and latency of generating embeddings by avoiding recomputing embeddings for repeated queries or when re-indexing content."
   ],
   "metadata": {
    "id": "Arto8TN9BLId"
   }
  },
  {
   "cell_type": "markdown",
   "source": [
    "#### Install Embedding Service Package"
   ],
   "metadata": {
    "id": "Bxin149SPgup"
   }
  },
  {
   "cell_type": "code",
   "source": [
    "!pip install langchain_google_vertexai"
   ],
   "metadata": {
    "id": "p2mfUhelPohl"
   },
   "execution_count": null,
   "outputs": []
  },
  {
   "cell_type": "markdown",
   "source": [
    "#### Usage"
   ],
   "metadata": {
    "id": "pkpuKtMGPwlJ"
   }
  },
  {
   "cell_type": "code",
   "source": [
    "from langchain.embeddings import CacheBackedEmbeddings\n",
    "from langchain_google_vertexai.embeddings import VertexAIEmbeddings"
   ],
   "metadata": {
    "id": "QHujbsgmClaI"
   },
   "execution_count": null,
   "outputs": []
  },
  {
   "cell_type": "code",
   "source": [
    "embedding_store = BigtableByteStore.create_sync(\n",
    "    engine=engine,\n",
    "    instance_id=INSTANCE_ID,\n",
    "    table_id=TABLE_ID,  # Change 'table_id' if you want to use a different table to cache embeddings.\n",
    ")"
   ],
   "metadata": {
    "id": "Iacf6-dSDZ9r"
   },
   "execution_count": null,
   "outputs": []
  },
  {
   "cell_type": "code",
   "source": [
    "embeddings = VertexAIEmbeddings(model_name=\"gemini-embedding-001\")"
   ],
   "metadata": {
    "id": "Fy52UwR-Cv5x"
   },
   "execution_count": null,
   "outputs": []
  },
  {
   "cell_type": "code",
   "source": [
    "cached_embedder = CacheBackedEmbeddings.from_bytes_store(\n",
    "    underlying_embeddings=embeddings,\n",
    "    document_embedding_cache=store,\n",
    "    query_embedding_cache=True,\n",
    ")"
   ],
   "metadata": {
    "id": "rOKounqBCs1v"
   },
   "execution_count": null,
   "outputs": []
  },
  {
   "cell_type": "code",
   "source": [
    "list(store.yield_keys())[:5]"
   ],
   "metadata": {
    "id": "8Z5tOFXRY9cn"
   },
   "execution_count": null,
   "outputs": []
  },
  {
   "cell_type": "code",
   "source": [
    "raw_text = \"Hello world\""
   ],
   "metadata": {
    "id": "3RTL2LvmZglR"
   },
   "execution_count": null,
   "outputs": []
  },
  {
   "cell_type": "code",
   "source": [
    "%%time\n",
    "text_embedded = cached_embedder.embed_query(raw_text)"
   ],
   "metadata": {
    "id": "exG1MlCmabrW"
   },
   "execution_count": null,
   "outputs": []
  },
  {
   "cell_type": "code",
   "source": [
    "# Embedded document/text have been added to the store\n",
    "list(store.yield_keys())[:5]"
   ],
   "metadata": {
    "id": "IYKZjAgH4C_1"
   },
   "execution_count": null,
   "outputs": []
  },
  {
   "cell_type": "code",
   "source": [
    "%%time\n",
    "\n",
    "# Returns the cached embedding instead of recomputing the embedding for the string 'Hello world'\n",
    "text_embedded = cached_embedder.aembed_query(raw_text)"
   ],
   "metadata": {
    "id": "T-5q6TU-alsa"
   },
   "execution_count": null,
   "outputs": []
  },
  {
   "cell_type": "markdown",
   "source": [
    "### As a Simple Document Retriever\n",
    "\n",
    "This section shows how to create a simple retriever using the Bigtable key-value store. This is another use case for key-value stores in LangChain, acting as a **simple Document persistence layer**. The retriever will fetch documents based on a prefix match with the query."
   ],
   "metadata": {
    "id": "OcAijPTzD_kw"
   }
  },
  {
   "cell_type": "code",
   "source": [
    "from langchain_core.retrievers import BaseRetriever\n",
    "from langchain_core.documents import Document\n",
    "from langchain_core.callbacks import CallbackManagerForRetrieverRun\n",
    "from typing import List, Optional, Any, Union\n",
    "import json\n",
    "\n",
    "\n",
    "class SimpleKVStoreRetriever(BaseRetriever):\n",
    "    \"\"\"A simple retriever that retrieves documents based on a prefix match in the key-value store.\"\"\"\n",
    "\n",
    "    store: BigtableByteStore\n",
    "    documents: List[Union[Document, str]]\n",
    "    k: int\n",
    "\n",
    "    def set_up_store(self):\n",
    "        kv_pairs_to_set = []\n",
    "        for i, doc in enumerate(self.documents):\n",
    "            if isinstance(doc, str):\n",
    "                doc = Document(page_content=doc)\n",
    "            if not doc.id:\n",
    "                doc.id = str(i)\n",
    "            value = (\n",
    "                \"Page Content\\n\"\n",
    "                + doc.page_content\n",
    "                + \"\\nMetadata\"\n",
    "                + json.dumps(doc.metadata)\n",
    "            )\n",
    "            kv_pairs_to_set.append((doc.id, value.encode(\"utf-8\")))\n",
    "        self.store.mset(kv_pairs_to_set)\n",
    "\n",
    "    async def _aget_relevant_documents(\n",
    "        self,\n",
    "        query: str,\n",
    "        *,\n",
    "        run_manager: Optional[CallbackManagerForRetrieverRun] = None,\n",
    "    ) -> List[Document]:\n",
    "        keys = [key async for key in self.store.ayield_keys(prefix=query)][: self.k]\n",
    "        documents_retrieved = []\n",
    "        async for document in await self.store.amget(keys):\n",
    "            if document:\n",
    "                document_str = document.decode(\"utf-8\")\n",
    "                page_content = document_str.split(\"Content\\n\")[1].split(\"\\nMetadata\")[0]\n",
    "                metadata = json.loads(document_str.split(\"\\nMetadata\")[1])\n",
    "                documents_retrieved.append(\n",
    "                    Document(page_content=page_content, metadata=metadata)\n",
    "                )\n",
    "        return documents_retrieved\n",
    "\n",
    "    def _get_relevant_documents(\n",
    "        self,\n",
    "        query: str,\n",
    "        *,\n",
    "        run_manager: Optional[CallbackManagerForRetrieverRun] = None,\n",
    "    ) -> list[Document]:\n",
    "        keys = [key for key in self.store.yield_keys(prefix=query)][: self.k]\n",
    "        documents_retrieved = []\n",
    "        for document in self.store.mget(keys):\n",
    "            if document:\n",
    "                document_str = document.decode(\"utf-8\")\n",
    "                page_content = document_str.split(\"Content\\n\")[1].split(\"\\nMetadata\")[0]\n",
    "                metadata = json.loads(document_str.split(\"\\nMetadata\")[1])\n",
    "                documents_retrieved.append(\n",
    "                    Document(page_content=page_content, metadata=metadata)\n",
    "                )\n",
    "        return documents_retrieved"
   ],
   "metadata": {
    "id": "T9Dstpu-Hfk9"
   },
   "execution_count": null,
   "outputs": []
  },
  {
   "cell_type": "code",
   "source": [
    "documents = [\n",
    "    Document(\n",
    "        page_content=\"Goldfish are popular pets for beginners, requiring relatively simple care.\",\n",
    "        metadata={\"type\": \"fish\", \"trait\": \"low maintenance\"},\n",
    "        id=\"fish#Goldfish\",\n",
    "    ),\n",
    "    Document(\n",
    "        page_content=\"Cats are independent pets that often enjoy their own space.\",\n",
    "        metadata={\"type\": \"cat\", \"trait\": \"independence\"},\n",
    "        id=\"mammals#Cats\",\n",
    "    ),\n",
    "    Document(\n",
    "        page_content=\"Rabbits are social animals that need plenty of space to hop around.\",\n",
    "        metadata={\"type\": \"rabbit\", \"trait\": \"social\"},\n",
    "        id=\"mammals#Rabbits\",\n",
    "    ),\n",
    "]"
   ],
   "metadata": {
    "id": "lG7lWxCyPTlo"
   },
   "execution_count": null,
   "outputs": []
  },
  {
   "cell_type": "code",
   "source": [
    "store = BigtableByteStore.create_sync(\n",
    "    engine=engine, instance_id=INSTANCE_ID, table_id=TABLE_ID\n",
    ")\n",
    "\n",
    "KVDocumentRetriever = SimpleKVStoreRetriever(store=store, documents=documents, k=2)\n",
    "\n",
    "KVDocumentRetriever.set_up_store()"
   ],
   "metadata": {
    "id": "5ox7Mm4bReeX"
   },
   "execution_count": null,
   "outputs": []
  },
  {
   "cell_type": "code",
   "source": [
    "KVDocumentRetriever.invoke(\"fish\")"
   ],
   "metadata": {
    "id": "ghEnoyc1RZs0"
   },
   "execution_count": null,
   "outputs": []
  },
  {
   "cell_type": "code",
   "source": [
    "KVDocumentRetriever.invoke(\"mammals\")"
   ],
   "metadata": {
    "id": "ZC_Sn4kBgn2T"
   },
   "execution_count": null,
   "outputs": []
  }
 ]
}
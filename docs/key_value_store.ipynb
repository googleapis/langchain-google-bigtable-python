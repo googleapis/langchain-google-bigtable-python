{
  "nbformat": 4,
  "nbformat_minor": 0,
  "metadata": {
    "colab": {
      "provenance": [],
      "collapsed_sections": [
        "_jYpsWThC6y5",
        "lQ_0gASlDCyj",
        "HA1eBhvtDLia",
        "N5H79lwWDQc8",
        "Arto8TN9BLId",
        "Bxin149SPgup",
        "OcAijPTzD_kw"
      ],
      "toc_visible": true
    },
    "kernelspec": {
      "name": "python3",
      "display_name": "Python 3"
    },
    "language_info": {
      "name": "python"
    }
  },
  "cells": [
    {
      "cell_type": "markdown",
      "source": [
        "# Google Bigtable\n",
        "\n",
        "> [Bigtable](https://cloud.google.com/bigtable) is a key-value and wide-column store, ideal for fast access to structured, semi-structured, or unstructured data. Extend your database application to build AI-powered experiences leveraging Bigtable's Langchain integrations.\n",
        "\n",
        "This notebook goes over how to use [Bigtable](https://cloud.google.com/bigtable) to [set, get, delete, and find key-value pairs](https://python.langchain.com/docs/concepts/key_value_stores/) with `BigtableByteStore`.\n",
        "\n",
        "Learn more about the package on [GitHub](https://github.com/googleapis/langchain-google-bigtable-python/).\n",
        "\n",
        "[![Open In Colab](https://colab.research.google.com/assets/colab-badge.svg)](https://colab.research.google.com/github/googleapis/langchain-google-bigtable-python/blob/main/docs/key_value_store.ipynb)"
      ],
      "metadata": {
        "id": "hMbol8n5_e37"
      }
    },
    {
      "cell_type": "markdown",
      "source": [
        "## Before You Begin\n",
        "\n",
        "To run this notebook, you will need to do the following:\n",
        "\n",
        "* [Create a Google Cloud Project](https://developers.google.com/workspace/guides/create-project)\n",
        "* [Enable the Bigtable API](https://console.cloud.google.com/flows/enableapi?apiid=bigtable.googleapis.com)\n",
        "* [Create a Bigtable instance](https://cloud.google.com/bigtable/docs/creating-instance)\n",
        "* [Create a Bigtable table](https://cloud.google.com/bigtable/docs/managing-tables)\n",
        "* [Create Bigtable access credentials](https://developers.google.com/workspace/guides/create-credentials)\n",
        "\n",
        "After confirmed access to database in the runtime environment of this notebook, filling the following values and run the cell before running example scripts."
      ],
      "metadata": {
        "id": "fAxIbIOBAQtC"
      }
    },
    {
      "cell_type": "code",
      "source": [
        "# @markdown Please specify an instance and a table for demo purpose.\n",
        "INSTANCE_ID = \"\"  # @param {type:\"string\"}\n",
        "TABLE_ID = \"\"  # @param {type:\"string\"}"
      ],
      "metadata": {
        "id": "fnUcqyaGAQYY"
      },
      "execution_count": null,
      "outputs": []
    },
    {
      "cell_type": "markdown",
      "source": [
        "### 🦜🔗 Library Installation\n",
        "\n",
        "The integration lives in its own `langchain-google-bigtable` package, so we need to install it."
      ],
      "metadata": {
        "id": "tfG-zUjdAbgy"
      }
    },
    {
      "cell_type": "code",
      "execution_count": null,
      "metadata": {
        "colab": {
          "base_uri": "https://localhost:8080/"
        },
        "id": "OgCbOw3V_GOe",
        "outputId": "79454073-07d5-4a29-b5fc-5c2bce35cd4e"
      },
      "outputs": [
        {
          "output_type": "stream",
          "name": "stdout",
          "text": [
            "\u001b[?25l   \u001b[90m━━━━━━━━━━━━━━━━━━━━━━━━━━━━━━━━━━━━━━━━\u001b[0m \u001b[32m0.0/488.1 kB\u001b[0m \u001b[31m?\u001b[0m eta \u001b[36m-:--:--\u001b[0m\r\u001b[2K   \u001b[91m━━━━━━━━━━━━━━━━━━━━━━━━━━━━━━━━━━━━━━\u001b[0m\u001b[91m╸\u001b[0m\u001b[90m━\u001b[0m \u001b[32m471.0/488.1 kB\u001b[0m \u001b[31m14.0 MB/s\u001b[0m eta \u001b[36m0:00:01\u001b[0m\r\u001b[2K   \u001b[90m━━━━━━━━━━━━━━━━━━━━━━━━━━━━━━━━━━━━━━━━\u001b[0m \u001b[32m488.1/488.1 kB\u001b[0m \u001b[31m9.7 MB/s\u001b[0m eta \u001b[36m0:00:00\u001b[0m\n",
            "\u001b[?25h"
          ]
        }
      ],
      "source": [
        "%pip install --quiet langchain-google-bigtable"
      ]
    },
    {
      "cell_type": "markdown",
      "source": [
        "**Colab only**: Uncomment the following cell to restart the kernel or use the button to restart the kernel. For Vertex AI Workbench you can restart the terminal using the button on top."
      ],
      "metadata": {
        "id": "IVygTm50Agp4"
      }
    },
    {
      "cell_type": "code",
      "source": [
        "# Automatically restart kernel after installs so that your environment can access the new packages\n",
        "# import IPython\n",
        "\n",
        "# app = IPython.Application.instance()\n",
        "# app.kernel.do_shutdown(True)"
      ],
      "metadata": {
        "id": "jcrWoTuMAeF-"
      },
      "execution_count": null,
      "outputs": []
    },
    {
      "cell_type": "markdown",
      "source": [
        "### ☁ Set Your Google Cloud Project\n",
        "Set your Google Cloud project so that you can leverage Google Cloud resources within this notebook.\n",
        "\n",
        "If you don't know your project ID, try the following:\n",
        "\n",
        "* Run `gcloud config list`.\n",
        "* Run `gcloud projects list`.\n",
        "* See the support page: [Locate the project ID](https://support.google.com/googleapi/answer/7014113)."
      ],
      "metadata": {
        "id": "QQq5LfMwAk9q"
      }
    },
    {
      "cell_type": "code",
      "source": [
        "# @markdown Please fill in the value below with your Google Cloud project ID and then run the cell.\n",
        "\n",
        "PROJECT_ID = \"\"  # @param {type:\"string\"}\n",
        "\n",
        "# Set the project id\n",
        "!gcloud config set project {PROJECT_ID}"
      ],
      "metadata": {
        "colab": {
          "base_uri": "https://localhost:8080/"
        },
        "id": "emWvmslgAi4k",
        "outputId": "c109bbc8-22b0-41cb-c57f-8bfbebdd8a82"
      },
      "execution_count": null,
      "outputs": [
        {
          "output_type": "stream",
          "name": "stdout",
          "text": [
            "Updated property [core/project].\n"
          ]
        }
      ]
    },
    {
      "cell_type": "markdown",
      "source": [
        "### 🔐 Authentication\n",
        "\n",
        "Authenticate to Google Cloud as the IAM user logged into this notebook in order to access your Google Cloud Project.\n",
        "\n",
        "- If you are using Colab to run this notebook, use the cell below and continue.\n",
        "- If you are using Vertex AI Workbench, check out the setup instructions [here](https://github.com/GoogleCloudPlatform/generative-ai/tree/main/setup-env)."
      ],
      "metadata": {
        "id": "Tm4qnt6dAqO-"
      }
    },
    {
      "cell_type": "code",
      "source": [
        "from google.colab import auth\n",
        "\n",
        "auth.authenticate_user(project_id=PROJECT_ID)"
      ],
      "metadata": {
        "id": "ldGXM-IUApuB"
      },
      "execution_count": null,
      "outputs": []
    },
    {
      "cell_type": "markdown",
      "source": [
        "# Instantiation"
      ],
      "metadata": {
        "id": "7TJgd_ETBR3u"
      }
    },
    {
      "cell_type": "markdown",
      "source": [
        "### Initialize a table"
      ],
      "metadata": {
        "id": "y3FfVDCIJliE"
      }
    },
    {
      "cell_type": "markdown",
      "source": [
        "To use the `BigtableByteStore` class, a table needs to exist. The `langchain_google_bigtable` library provides a function that we can use to create a table."
      ],
      "metadata": {
        "id": "7aMUuRrUJ-RX"
      }
    },
    {
      "cell_type": "code",
      "source": [
        "from langchain_google_bigtable import init_key_value_store_table\n",
        "\n",
        "try:\n",
        "  init_key_value_store_table(\n",
        "      project_id=PROJECT_ID,\n",
        "      instance_id=INSTANCE_ID,\n",
        "      table_id=TABLE_ID,\n",
        "  )\n",
        "except ValueError as e:\n",
        "  print(e)"
      ],
      "metadata": {
        "id": "eVN6imAjJk94"
      },
      "execution_count": null,
      "outputs": []
    },
    {
      "cell_type": "markdown",
      "source": [
        "# Initialize"
      ],
      "metadata": {
        "id": "ioEKudEOKd80"
      }
    },
    {
      "cell_type": "markdown",
      "source": [
        "### Initialize BigtableEngine\n",
        "\n",
        "A `BigtableEngine` object will be used to handle the execution context of the store, particularly for asynchronous operations by delegating them to synchronous methods on a blocking background loop. While not strictly required for creating a `BigtableByteStore`, it is highly recommended to initialize a single `BigtableEngine` instance and reuse it across multiple stores for better performance and resource management."
      ],
      "metadata": {
        "id": "3yit7YCwASZb"
      }
    },
    {
      "cell_type": "code",
      "source": [
        "from langchain_google_bigtable import BigtableByteStore, BigtableEngine\n",
        "\n",
        "# Initialize BigtableEngine\n",
        "# Asynchronous Factory Setup\n",
        "engine = await BigtableEngine.async_initialize(\n",
        "    project_id = PROJECT_ID\n",
        ")"
      ],
      "metadata": {
        "id": "6x9V1X-uBT7s"
      },
      "execution_count": null,
      "outputs": []
    },
    {
      "cell_type": "code",
      "source": [
        "# # Synchronous Factory Setup\n",
        "# # Uncomment the following block to use the synchronous factory setup instead.\n",
        "# engine = BigtableEngine.initialize(\n",
        "#     project_id = PROJECT_ID\n",
        "# )"
      ],
      "metadata": {
        "id": "dWbAHP1E_6Op"
      },
      "execution_count": null,
      "outputs": []
    },
    {
      "cell_type": "markdown",
      "source": [
        "### BigtableByteStore\n",
        "\n",
        "This is the main class object used to interact with the key-value store in Bigtable. It provides methods for basic operations like setting, getting, deleting, and yielding key-value pairs. It acts as the primary interface for managing data within your Bigtable table through the LangChain integration."
      ],
      "metadata": {
        "id": "NRDIBHn_AutL"
      }
    },
    {
      "cell_type": "code",
      "source": [
        "# Asynchronous Factory Setup\n",
        "store = await BigtableByteStore.create(\n",
        "    engine=engine,\n",
        "    instance_id=INSTANCE_ID,\n",
        "    table_id=TABLE_ID\n",
        ")"
      ],
      "metadata": {
        "id": "47-9yfpAI-T-"
      },
      "execution_count": null,
      "outputs": []
    },
    {
      "cell_type": "code",
      "source": [
        "# # Synchronous Factory Setup\n",
        "# # Uncomment the following to use the synchronous factory setup instead.\n",
        "# store = BigtableByteStore.create_sync(\n",
        "#     engine=engine,\n",
        "#     instance_id=INSTANCE_ID,\n",
        "#     table_id=TABLE_ID\n",
        "# )\n"
      ],
      "metadata": {
        "id": "rT68IFOEB1MK"
      },
      "execution_count": null,
      "outputs": []
    },
    {
      "cell_type": "markdown",
      "source": [
        "## Usage"
      ],
      "metadata": {
        "id": "DQLCgC0iAyzY"
      }
    },
    {
      "cell_type": "markdown",
      "source": [
        "## Basic Usage"
      ],
      "metadata": {
        "id": "LHtBRN0bA0mf"
      }
    },
    {
      "cell_type": "markdown",
      "source": [
        "### Setting key-value Pairs"
      ],
      "metadata": {
        "id": "_jYpsWThC6y5"
      }
    },
    {
      "cell_type": "code",
      "source": [
        "# Key-value Pairs to set\n",
        "kv_pairs = [\n",
        "    (\"key 1\", \"value 1\".encode(\"utf-8\")),\n",
        "    (\"key 2\", \"value 2\".encode(\"utf-8\")),\n",
        "    (\"key 3\", \"value 3\".encode(\"utf-8\")),\n",
        "    (\"key 4\", \"value 4\".encode(\"utf-8\")),\n",
        "    (\"key 5\", \"value 5\".encode(\"utf-8\")),\n",
        "    (\"new key\", \"value 6\".encode(\"utf-8\")),\n",
        "]"
      ],
      "metadata": {
        "id": "NXYuMNqEAmxg"
      },
      "execution_count": null,
      "outputs": []
    },
    {
      "cell_type": "code",
      "source": [
        "# Setting Key-value Pairs using asynchronous method 'amset'\n",
        "await store.amset(kv_pairs)"
      ],
      "metadata": {
        "id": "RY95kMAHCTWc"
      },
      "execution_count": null,
      "outputs": []
    },
    {
      "cell_type": "code",
      "source": [
        "# Setting Key-value Pairs using synchronous method 'mset'\n",
        "store.mset(kv_pairs)"
      ],
      "metadata": {
        "id": "rIfD_bkHCRCU"
      },
      "execution_count": null,
      "outputs": []
    },
    {
      "cell_type": "markdown",
      "source": [
        "### Getting Key-value Pairs"
      ],
      "metadata": {
        "id": "lQ_0gASlDCyj"
      }
    },
    {
      "cell_type": "code",
      "source": [
        "# Getting values for a given list of keys using synchronous method 'mget'\n",
        "sync_retrieved_vals = store.mget([\"key 1\", \"key 3\", \"key 7\"])\n",
        "\n",
        "# 'key 7' is not in the store, so the store retrieves 'None` in place\n",
        "print(sync_retrieved_vals)\n",
        "\n",
        "# Convert byte type back to str type\n",
        "sync_retrieved_vals = [val.decode(\"utf-8\") if val else None for val in sync_retrieved_vals]\n",
        "print(sync_retrieved_vals)"
      ],
      "metadata": {
        "id": "wufhBdy8DGbM",
        "colab": {
          "base_uri": "https://localhost:8080/"
        },
        "outputId": "4eb92c1e-06f5-476d-f870-b0495d77140f"
      },
      "execution_count": null,
      "outputs": [
        {
          "output_type": "stream",
          "name": "stdout",
          "text": [
            "[b'value 1', b'value 3', None]\n",
            "['value 1', 'value 3', None]\n"
          ]
        }
      ]
    },
    {
      "cell_type": "code",
      "source": [
        "# Getting values for a given list of keys using ssynchronous method 'amget'\n",
        "async_retrieved_vals = await store.amget([\"key 2\", \"key 5\", \"key 9\"])\n",
        "\n",
        "# 'key 9' is not in the store, so the store retrieves 'None' in place\n",
        "print(async_retrieved_vals)\n",
        "\n",
        "# Convert the byte type back to str type\n",
        "async_retrieved_vals = [val.decode(\"utf-8\") if val else None for val in async_retrieved_vals]\n",
        "print(async_retrieved_vals)"
      ],
      "metadata": {
        "colab": {
          "base_uri": "https://localhost:8080/"
        },
        "id": "vBzwh6dV8-MZ",
        "outputId": "c440c578-ac89-4665-e0b4-e2c83345016f"
      },
      "execution_count": null,
      "outputs": [
        {
          "output_type": "stream",
          "name": "stdout",
          "text": [
            "[b'value 2', b'value 5', None]\n",
            "['value 2', 'value 5', None]\n"
          ]
        }
      ]
    },
    {
      "cell_type": "markdown",
      "source": [
        "### Deleting Key-value Pairs"
      ],
      "metadata": {
        "id": "HA1eBhvtDLia"
      }
    },
    {
      "cell_type": "code",
      "source": [
        "# Deleting Keys synchronously\n",
        "store.mdelete([\"key 3\", \"key 4\"])"
      ],
      "metadata": {
        "id": "2kxkjFoyDLIC"
      },
      "execution_count": null,
      "outputs": []
    },
    {
      "cell_type": "code",
      "source": [
        "# Deleting Keys asynchronously\n",
        "await store.amdelete([\"key 5\"])"
      ],
      "metadata": {
        "id": "e4unqbhC7sq8"
      },
      "execution_count": null,
      "outputs": []
    },
    {
      "cell_type": "markdown",
      "source": [
        "### Yielding Key-value Pairs"
      ],
      "metadata": {
        "id": "N5H79lwWDQc8"
      }
    },
    {
      "cell_type": "code",
      "source": [
        "# Yielding keys with prefix 'key' retrieved synchronously\n",
        "list(store.yield_keys(prefix=\"key\"))"
      ],
      "metadata": {
        "id": "0dEcfHXGDQUL",
        "colab": {
          "base_uri": "https://localhost:8080/"
        },
        "outputId": "12e5544b-dfb8-4522-d0e3-3f8507295b0a"
      },
      "execution_count": null,
      "outputs": [
        {
          "output_type": "execute_result",
          "data": {
            "text/plain": [
              "['key 1', 'key 2']"
            ]
          },
          "metadata": {},
          "execution_count": 17
        }
      ]
    },
    {
      "cell_type": "code",
      "source": [
        "# Yielding all keys with prefix 'new' retrieved asynchronously\n",
        "async def print_keys():\n",
        "  result = []\n",
        "  async for key in store.ayield_keys(prefix=\"new\"):\n",
        "    result.append(key)\n",
        "  print(result)\n",
        "\n",
        "await print_keys()"
      ],
      "metadata": {
        "colab": {
          "base_uri": "https://localhost:8080/"
        },
        "id": "wnZ1wmBN6gkk",
        "outputId": "73915260-a4ef-4b39-ddd3-984bc3cc6e42"
      },
      "execution_count": null,
      "outputs": [
        {
          "output_type": "stream",
          "name": "stdout",
          "text": [
            "['new key']\n"
          ]
        }
      ]
    },
    {
      "cell_type": "code",
      "source": [
        "# Yielding all keys retrieved synchronously\n",
        "list(store.yield_keys())"
      ],
      "metadata": {
        "colab": {
          "base_uri": "https://localhost:8080/"
        },
        "id": "K2NOwwmY6_BR",
        "outputId": "b175e7a3-3e96-42e0-8479-9365af4dad2b"
      },
      "execution_count": null,
      "outputs": [
        {
          "output_type": "execute_result",
          "data": {
            "text/plain": [
              "['key 1', 'key 2', 'new key']"
            ]
          },
          "metadata": {},
          "execution_count": 19
        }
      ]
    },
    {
      "cell_type": "code",
      "source": [
        "# Yielding all keys retrieved asynchronously\n",
        "async def print_keys():\n",
        "  result = []\n",
        "  async for key in store.ayield_keys():\n",
        "    result.append(key)\n",
        "  print(result)\n",
        "\n",
        "await print_keys()"
      ],
      "metadata": {
        "colab": {
          "base_uri": "https://localhost:8080/"
        },
        "id": "YpLcYFy87LYP",
        "outputId": "f13ecebe-d723-49bf-b544-d7409dafa7b2"
      },
      "execution_count": null,
      "outputs": [
        {
          "output_type": "stream",
          "name": "stdout",
          "text": [
            "['key 1', 'key 2', 'new key']\n"
          ]
        }
      ]
    },
    {
      "cell_type": "markdown",
      "source": [
        "## Advanced Usage"
      ],
      "metadata": {
        "id": "YhHXNbP1D5FE"
      }
    },
    {
      "cell_type": "markdown",
      "source": [
        "### As an Embedding Caching Layer\n",
        "\n",
        "This section demonstrates how to leverage Bigtable as a **caching layer for embedding models**, which is a primary use case for key-value stores in LangChain. This can significantly reduce the cost and latency of generating embeddings by avoiding recomputing embeddings for repeated queries or when re-indexing content."
      ],
      "metadata": {
        "id": "Arto8TN9BLId"
      }
    },
    {
      "cell_type": "markdown",
      "source": [
        "#### Install Embedding Service Package"
      ],
      "metadata": {
        "id": "Bxin149SPgup"
      }
    },
    {
      "cell_type": "code",
      "source": [
        "!pip install langchain_google_vertexai"
      ],
      "metadata": {
        "id": "p2mfUhelPohl",
        "colab": {
          "base_uri": "https://localhost:8080/"
        },
        "outputId": "57f97abe-6096-4aa3-ae0e-a01a05b215ca"
      },
      "execution_count": null,
      "outputs": [
        {
          "output_type": "stream",
          "name": "stdout",
          "text": [
            "Collecting langchain_google_vertexai\n",
            "  Downloading langchain_google_vertexai-2.0.28-py3-none-any.whl.metadata (5.3 kB)\n",
            "Requirement already satisfied: bottleneck<2.0.0,>=1.4.2 in /usr/local/lib/python3.11/dist-packages (from langchain_google_vertexai) (1.4.2)\n",
            "Requirement already satisfied: google-cloud-aiplatform<2.0.0,>=1.97.0 in /usr/local/lib/python3.11/dist-packages (from langchain_google_vertexai) (1.106.0)\n",
            "Requirement already satisfied: google-cloud-storage<3.0.0,>=2.18.0 in /usr/local/lib/python3.11/dist-packages (from langchain_google_vertexai) (2.19.0)\n",
            "Requirement already satisfied: httpx<0.29.0,>=0.28.0 in /usr/local/lib/python3.11/dist-packages (from langchain_google_vertexai) (0.28.1)\n",
            "Collecting httpx-sse<0.5.0,>=0.4.0 (from langchain_google_vertexai)\n",
            "  Downloading httpx_sse-0.4.1-py3-none-any.whl.metadata (9.4 kB)\n",
            "Requirement already satisfied: langchain-core<0.4,>=0.3.67 in /usr/local/lib/python3.11/dist-packages (from langchain_google_vertexai) (0.3.72)\n",
            "Requirement already satisfied: numexpr<3.0.0,>=2.8.6 in /usr/local/lib/python3.11/dist-packages (from langchain_google_vertexai) (2.11.0)\n",
            "Collecting pyarrow<20.0.0,>=19.0.1 (from langchain_google_vertexai)\n",
            "  Downloading pyarrow-19.0.1-cp311-cp311-manylinux_2_28_x86_64.whl.metadata (3.3 kB)\n",
            "Requirement already satisfied: pydantic<3.0,>=2.9 in /usr/local/lib/python3.11/dist-packages (from langchain_google_vertexai) (2.11.7)\n",
            "Collecting validators<1,>=0.22.0 (from langchain_google_vertexai)\n",
            "  Downloading validators-0.35.0-py3-none-any.whl.metadata (3.9 kB)\n",
            "Requirement already satisfied: numpy in /usr/local/lib/python3.11/dist-packages (from bottleneck<2.0.0,>=1.4.2->langchain_google_vertexai) (2.0.2)\n",
            "Requirement already satisfied: google-api-core!=2.0.*,!=2.1.*,!=2.2.*,!=2.3.*,!=2.4.*,!=2.5.*,!=2.6.*,!=2.7.*,<3.0.0,>=1.34.1 in /usr/local/lib/python3.11/dist-packages (from google-api-core[grpc]!=2.0.*,!=2.1.*,!=2.2.*,!=2.3.*,!=2.4.*,!=2.5.*,!=2.6.*,!=2.7.*,<3.0.0,>=1.34.1->google-cloud-aiplatform<2.0.0,>=1.97.0->langchain_google_vertexai) (2.25.1)\n",
            "Requirement already satisfied: google-auth<3.0.0,>=2.14.1 in /usr/local/lib/python3.11/dist-packages (from google-cloud-aiplatform<2.0.0,>=1.97.0->langchain_google_vertexai) (2.38.0)\n",
            "Requirement already satisfied: proto-plus<2.0.0,>=1.22.3 in /usr/local/lib/python3.11/dist-packages (from google-cloud-aiplatform<2.0.0,>=1.97.0->langchain_google_vertexai) (1.26.1)\n",
            "Requirement already satisfied: protobuf!=4.21.0,!=4.21.1,!=4.21.2,!=4.21.3,!=4.21.4,!=4.21.5,<7.0.0,>=3.20.2 in /usr/local/lib/python3.11/dist-packages (from google-cloud-aiplatform<2.0.0,>=1.97.0->langchain_google_vertexai) (5.29.5)\n",
            "Requirement already satisfied: packaging>=14.3 in /usr/local/lib/python3.11/dist-packages (from google-cloud-aiplatform<2.0.0,>=1.97.0->langchain_google_vertexai) (25.0)\n",
            "Requirement already satisfied: google-cloud-bigquery!=3.20.0,<4.0.0,>=1.15.0 in /usr/local/lib/python3.11/dist-packages (from google-cloud-aiplatform<2.0.0,>=1.97.0->langchain_google_vertexai) (3.35.1)\n",
            "Requirement already satisfied: google-cloud-resource-manager<3.0.0,>=1.3.3 in /usr/local/lib/python3.11/dist-packages (from google-cloud-aiplatform<2.0.0,>=1.97.0->langchain_google_vertexai) (1.14.2)\n",
            "Requirement already satisfied: shapely<3.0.0 in /usr/local/lib/python3.11/dist-packages (from google-cloud-aiplatform<2.0.0,>=1.97.0->langchain_google_vertexai) (2.1.1)\n",
            "Requirement already satisfied: google-genai<2.0.0,>=1.0.0 in /usr/local/lib/python3.11/dist-packages (from google-cloud-aiplatform<2.0.0,>=1.97.0->langchain_google_vertexai) (1.28.0)\n",
            "Requirement already satisfied: typing_extensions in /usr/local/lib/python3.11/dist-packages (from google-cloud-aiplatform<2.0.0,>=1.97.0->langchain_google_vertexai) (4.14.1)\n",
            "Requirement already satisfied: docstring_parser<1 in /usr/local/lib/python3.11/dist-packages (from google-cloud-aiplatform<2.0.0,>=1.97.0->langchain_google_vertexai) (0.17.0)\n",
            "Requirement already satisfied: google-cloud-core<3.0dev,>=2.3.0 in /usr/local/lib/python3.11/dist-packages (from google-cloud-storage<3.0.0,>=2.18.0->langchain_google_vertexai) (2.4.3)\n",
            "Requirement already satisfied: google-resumable-media>=2.7.2 in /usr/local/lib/python3.11/dist-packages (from google-cloud-storage<3.0.0,>=2.18.0->langchain_google_vertexai) (2.7.2)\n",
            "Requirement already satisfied: requests<3.0.0dev,>=2.18.0 in /usr/local/lib/python3.11/dist-packages (from google-cloud-storage<3.0.0,>=2.18.0->langchain_google_vertexai) (2.32.3)\n",
            "Requirement already satisfied: google-crc32c<2.0dev,>=1.0 in /usr/local/lib/python3.11/dist-packages (from google-cloud-storage<3.0.0,>=2.18.0->langchain_google_vertexai) (1.7.1)\n",
            "Requirement already satisfied: anyio in /usr/local/lib/python3.11/dist-packages (from httpx<0.29.0,>=0.28.0->langchain_google_vertexai) (4.9.0)\n",
            "Requirement already satisfied: certifi in /usr/local/lib/python3.11/dist-packages (from httpx<0.29.0,>=0.28.0->langchain_google_vertexai) (2025.7.14)\n",
            "Requirement already satisfied: httpcore==1.* in /usr/local/lib/python3.11/dist-packages (from httpx<0.29.0,>=0.28.0->langchain_google_vertexai) (1.0.9)\n",
            "Requirement already satisfied: idna in /usr/local/lib/python3.11/dist-packages (from httpx<0.29.0,>=0.28.0->langchain_google_vertexai) (3.10)\n",
            "Requirement already satisfied: h11>=0.16 in /usr/local/lib/python3.11/dist-packages (from httpcore==1.*->httpx<0.29.0,>=0.28.0->langchain_google_vertexai) (0.16.0)\n",
            "Requirement already satisfied: langsmith>=0.3.45 in /usr/local/lib/python3.11/dist-packages (from langchain-core<0.4,>=0.3.67->langchain_google_vertexai) (0.4.9)\n",
            "Requirement already satisfied: tenacity!=8.4.0,<10.0.0,>=8.1.0 in /usr/local/lib/python3.11/dist-packages (from langchain-core<0.4,>=0.3.67->langchain_google_vertexai) (8.5.0)\n",
            "Requirement already satisfied: jsonpatch<2.0,>=1.33 in /usr/local/lib/python3.11/dist-packages (from langchain-core<0.4,>=0.3.67->langchain_google_vertexai) (1.33)\n",
            "Requirement already satisfied: PyYAML>=5.3 in /usr/local/lib/python3.11/dist-packages (from langchain-core<0.4,>=0.3.67->langchain_google_vertexai) (6.0.2)\n",
            "Requirement already satisfied: annotated-types>=0.6.0 in /usr/local/lib/python3.11/dist-packages (from pydantic<3.0,>=2.9->langchain_google_vertexai) (0.7.0)\n",
            "Requirement already satisfied: pydantic-core==2.33.2 in /usr/local/lib/python3.11/dist-packages (from pydantic<3.0,>=2.9->langchain_google_vertexai) (2.33.2)\n",
            "Requirement already satisfied: typing-inspection>=0.4.0 in /usr/local/lib/python3.11/dist-packages (from pydantic<3.0,>=2.9->langchain_google_vertexai) (0.4.1)\n",
            "Requirement already satisfied: googleapis-common-protos<2.0.0,>=1.56.2 in /usr/local/lib/python3.11/dist-packages (from google-api-core!=2.0.*,!=2.1.*,!=2.2.*,!=2.3.*,!=2.4.*,!=2.5.*,!=2.6.*,!=2.7.*,<3.0.0,>=1.34.1->google-api-core[grpc]!=2.0.*,!=2.1.*,!=2.2.*,!=2.3.*,!=2.4.*,!=2.5.*,!=2.6.*,!=2.7.*,<3.0.0,>=1.34.1->google-cloud-aiplatform<2.0.0,>=1.97.0->langchain_google_vertexai) (1.70.0)\n",
            "Requirement already satisfied: grpcio<2.0.0,>=1.33.2 in /usr/local/lib/python3.11/dist-packages (from google-api-core[grpc]!=2.0.*,!=2.1.*,!=2.2.*,!=2.3.*,!=2.4.*,!=2.5.*,!=2.6.*,!=2.7.*,<3.0.0,>=1.34.1->google-cloud-aiplatform<2.0.0,>=1.97.0->langchain_google_vertexai) (1.74.0)\n",
            "Requirement already satisfied: grpcio-status<2.0.0,>=1.33.2 in /usr/local/lib/python3.11/dist-packages (from google-api-core[grpc]!=2.0.*,!=2.1.*,!=2.2.*,!=2.3.*,!=2.4.*,!=2.5.*,!=2.6.*,!=2.7.*,<3.0.0,>=1.34.1->google-cloud-aiplatform<2.0.0,>=1.97.0->langchain_google_vertexai) (1.71.2)\n",
            "Requirement already satisfied: cachetools<6.0,>=2.0.0 in /usr/local/lib/python3.11/dist-packages (from google-auth<3.0.0,>=2.14.1->google-cloud-aiplatform<2.0.0,>=1.97.0->langchain_google_vertexai) (5.5.2)\n",
            "Requirement already satisfied: pyasn1-modules>=0.2.1 in /usr/local/lib/python3.11/dist-packages (from google-auth<3.0.0,>=2.14.1->google-cloud-aiplatform<2.0.0,>=1.97.0->langchain_google_vertexai) (0.4.2)\n",
            "Requirement already satisfied: rsa<5,>=3.1.4 in /usr/local/lib/python3.11/dist-packages (from google-auth<3.0.0,>=2.14.1->google-cloud-aiplatform<2.0.0,>=1.97.0->langchain_google_vertexai) (4.9.1)\n",
            "Requirement already satisfied: python-dateutil<3.0.0,>=2.8.2 in /usr/local/lib/python3.11/dist-packages (from google-cloud-bigquery!=3.20.0,<4.0.0,>=1.15.0->google-cloud-aiplatform<2.0.0,>=1.97.0->langchain_google_vertexai) (2.9.0.post0)\n",
            "Requirement already satisfied: grpc-google-iam-v1<1.0.0,>=0.14.0 in /usr/local/lib/python3.11/dist-packages (from google-cloud-resource-manager<3.0.0,>=1.3.3->google-cloud-aiplatform<2.0.0,>=1.97.0->langchain_google_vertexai) (0.14.2)\n",
            "Requirement already satisfied: websockets<15.1.0,>=13.0.0 in /usr/local/lib/python3.11/dist-packages (from google-genai<2.0.0,>=1.0.0->google-cloud-aiplatform<2.0.0,>=1.97.0->langchain_google_vertexai) (15.0.1)\n",
            "Requirement already satisfied: sniffio>=1.1 in /usr/local/lib/python3.11/dist-packages (from anyio->httpx<0.29.0,>=0.28.0->langchain_google_vertexai) (1.3.1)\n",
            "Requirement already satisfied: jsonpointer>=1.9 in /usr/local/lib/python3.11/dist-packages (from jsonpatch<2.0,>=1.33->langchain-core<0.4,>=0.3.67->langchain_google_vertexai) (3.0.0)\n",
            "Requirement already satisfied: orjson<4.0.0,>=3.9.14 in /usr/local/lib/python3.11/dist-packages (from langsmith>=0.3.45->langchain-core<0.4,>=0.3.67->langchain_google_vertexai) (3.11.1)\n",
            "Requirement already satisfied: requests-toolbelt<2.0.0,>=1.0.0 in /usr/local/lib/python3.11/dist-packages (from langsmith>=0.3.45->langchain-core<0.4,>=0.3.67->langchain_google_vertexai) (1.0.0)\n",
            "Requirement already satisfied: zstandard<0.24.0,>=0.23.0 in /usr/local/lib/python3.11/dist-packages (from langsmith>=0.3.45->langchain-core<0.4,>=0.3.67->langchain_google_vertexai) (0.23.0)\n",
            "Requirement already satisfied: charset-normalizer<4,>=2 in /usr/local/lib/python3.11/dist-packages (from requests<3.0.0dev,>=2.18.0->google-cloud-storage<3.0.0,>=2.18.0->langchain_google_vertexai) (3.4.2)\n",
            "Requirement already satisfied: urllib3<3,>=1.21.1 in /usr/local/lib/python3.11/dist-packages (from requests<3.0.0dev,>=2.18.0->google-cloud-storage<3.0.0,>=2.18.0->langchain_google_vertexai) (2.5.0)\n",
            "Requirement already satisfied: pyasn1<0.7.0,>=0.6.1 in /usr/local/lib/python3.11/dist-packages (from pyasn1-modules>=0.2.1->google-auth<3.0.0,>=2.14.1->google-cloud-aiplatform<2.0.0,>=1.97.0->langchain_google_vertexai) (0.6.1)\n",
            "Requirement already satisfied: six>=1.5 in /usr/local/lib/python3.11/dist-packages (from python-dateutil<3.0.0,>=2.8.2->google-cloud-bigquery!=3.20.0,<4.0.0,>=1.15.0->google-cloud-aiplatform<2.0.0,>=1.97.0->langchain_google_vertexai) (1.17.0)\n",
            "Downloading langchain_google_vertexai-2.0.28-py3-none-any.whl (103 kB)\n",
            "\u001b[2K   \u001b[90m━━━━━━━━━━━━━━━━━━━━━━━━━━━━━━━━━━━━━━━━\u001b[0m \u001b[32m104.0/104.0 kB\u001b[0m \u001b[31m2.6 MB/s\u001b[0m eta \u001b[36m0:00:00\u001b[0m\n",
            "\u001b[?25hDownloading httpx_sse-0.4.1-py3-none-any.whl (8.1 kB)\n",
            "Downloading pyarrow-19.0.1-cp311-cp311-manylinux_2_28_x86_64.whl (42.1 MB)\n",
            "\u001b[2K   \u001b[90m━━━━━━━━━━━━━━━━━━━━━━━━━━━━━━━━━━━━━━━━\u001b[0m \u001b[32m42.1/42.1 MB\u001b[0m \u001b[31m20.8 MB/s\u001b[0m eta \u001b[36m0:00:00\u001b[0m\n",
            "\u001b[?25hDownloading validators-0.35.0-py3-none-any.whl (44 kB)\n",
            "\u001b[2K   \u001b[90m━━━━━━━━━━━━━━━━━━━━━━━━━━━━━━━━━━━━━━━━\u001b[0m \u001b[32m44.7/44.7 kB\u001b[0m \u001b[31m3.4 MB/s\u001b[0m eta \u001b[36m0:00:00\u001b[0m\n",
            "\u001b[?25hInstalling collected packages: validators, pyarrow, httpx-sse, langchain_google_vertexai\n",
            "  Attempting uninstall: pyarrow\n",
            "    Found existing installation: pyarrow 18.1.0\n",
            "    Uninstalling pyarrow-18.1.0:\n",
            "      Successfully uninstalled pyarrow-18.1.0\n",
            "Successfully installed httpx-sse-0.4.1 langchain_google_vertexai-2.0.28 pyarrow-19.0.1 validators-0.35.0\n"
          ]
        }
      ]
    },
    {
      "cell_type": "markdown",
      "source": [
        "#### Usage"
      ],
      "metadata": {
        "id": "pkpuKtMGPwlJ"
      }
    },
    {
      "cell_type": "code",
      "source": [
        "from langchain.embeddings import CacheBackedEmbeddings\n",
        "from langchain_google_vertexai.embeddings import VertexAIEmbeddings"
      ],
      "metadata": {
        "id": "QHujbsgmClaI"
      },
      "execution_count": null,
      "outputs": []
    },
    {
      "cell_type": "code",
      "source": [
        "embedding_store = BigtableByteStore.create_sync(\n",
        "    engine=engine,\n",
        "    instance_id=INSTANCE_ID,\n",
        "    table_id=TABLE_ID, # Change 'table_id' if you want to use a different table to cache embeddings.\n",
        ")"
      ],
      "metadata": {
        "id": "Iacf6-dSDZ9r"
      },
      "execution_count": null,
      "outputs": []
    },
    {
      "cell_type": "code",
      "source": [
        "embeddings = VertexAIEmbeddings(model_name=\"text-embedding-004\")"
      ],
      "metadata": {
        "id": "Fy52UwR-Cv5x",
        "colab": {
          "base_uri": "https://localhost:8080/"
        },
        "outputId": "01aa1565-abf3-4b41-ed75-78ac8afb726f"
      },
      "execution_count": null,
      "outputs": [
        {
          "output_type": "stream",
          "name": "stderr",
          "text": [
            "/usr/local/lib/python3.11/dist-packages/vertexai/_model_garden/_model_garden_models.py:278: UserWarning: This feature is deprecated as of June 24, 2025 and will be removed on June 24, 2026. For details, see https://cloud.google.com/vertex-ai/generative-ai/docs/deprecations/genai-vertexai-sdk.\n",
            "  warning_logs.show_deprecation_warning()\n"
          ]
        }
      ]
    },
    {
      "cell_type": "code",
      "source": [
        "cached_embedder = CacheBackedEmbeddings.from_bytes_store(\n",
        "    underlying_embeddings=embeddings,\n",
        "    document_embedding_cache=store,\n",
        "    query_embedding_cache=True\n",
        ")"
      ],
      "metadata": {
        "id": "rOKounqBCs1v",
        "colab": {
          "base_uri": "https://localhost:8080/"
        },
        "outputId": "2e60ba13-f029-4898-b9c2-91a5c5d96d11"
      },
      "execution_count": null,
      "outputs": [
        {
          "output_type": "stream",
          "name": "stderr",
          "text": [
            "/usr/local/lib/python3.11/dist-packages/langchain/embeddings/cache.py:58: UserWarning: Using default key encoder: SHA-1 is *not* collision-resistant. While acceptable for most cache scenarios, a motivated attacker can craft two different payloads that map to the same cache key. If that risk matters in your environment, supply a stronger encoder (e.g. SHA-256 or BLAKE2) via the `key_encoder` argument. If you change the key encoder, consider also creating a new cache, to avoid (the potential for) collisions with existing keys.\n",
            "  _warn_about_sha1_encoder()\n"
          ]
        }
      ]
    },
    {
      "cell_type": "code",
      "source": [
        "list(store.yield_keys())[:5]"
      ],
      "metadata": {
        "colab": {
          "base_uri": "https://localhost:8080/"
        },
        "id": "8Z5tOFXRY9cn",
        "outputId": "de139491-ab0b-4008-abd7-558dce538d1c"
      },
      "execution_count": null,
      "outputs": [
        {
          "output_type": "execute_result",
          "data": {
            "text/plain": [
              "['key 1', 'key 2', 'new key']"
            ]
          },
          "metadata": {},
          "execution_count": 26
        }
      ]
    },
    {
      "cell_type": "code",
      "source": [
        "raw_text = \"Hello world\""
      ],
      "metadata": {
        "id": "3RTL2LvmZglR"
      },
      "execution_count": null,
      "outputs": []
    },
    {
      "cell_type": "code",
      "source": [
        "%%time\n",
        "text_embedded = cached_embedder.embed_query(raw_text)"
      ],
      "metadata": {
        "colab": {
          "base_uri": "https://localhost:8080/"
        },
        "id": "exG1MlCmabrW",
        "outputId": "707d4358-6978-45d5-b016-dd76b89c47ca"
      },
      "execution_count": null,
      "outputs": [
        {
          "output_type": "stream",
          "name": "stdout",
          "text": [
            "CPU times: user 20 ms, sys: 4.87 ms, total: 24.9 ms\n",
            "Wall time: 523 ms\n"
          ]
        }
      ]
    },
    {
      "cell_type": "code",
      "source": [
        "# Embedded document/text have been added to the store\n",
        "list(store.yield_keys())[:5]"
      ],
      "metadata": {
        "colab": {
          "base_uri": "https://localhost:8080/"
        },
        "id": "IYKZjAgH4C_1",
        "outputId": "03fb6635-ff60-4568-e438-7320b8dce235"
      },
      "execution_count": null,
      "outputs": [
        {
          "output_type": "execute_result",
          "data": {
            "text/plain": [
              "['c12365d8-c230-5e85-a6a2-3dd729707283', 'key 1', 'key 2', 'new key']"
            ]
          },
          "metadata": {},
          "execution_count": 30
        }
      ]
    },
    {
      "cell_type": "code",
      "source": [
        "%%time\n",
        "\n",
        "# Returns the cached embedding instead of recomputing the embedding for the string 'Hello world'\n",
        "text_embedded = cached_embedder.aembed_query(raw_text)"
      ],
      "metadata": {
        "colab": {
          "base_uri": "https://localhost:8080/"
        },
        "id": "T-5q6TU-alsa",
        "outputId": "42914141-3aa3-4f93-9f5c-7dbfc1c9eb83"
      },
      "execution_count": null,
      "outputs": [
        {
          "output_type": "stream",
          "name": "stdout",
          "text": [
            "CPU times: user 17 µs, sys: 2 µs, total: 19 µs\n",
            "Wall time: 23.1 µs\n"
          ]
        }
      ]
    },
    {
      "cell_type": "markdown",
      "source": [
        "### As a Simple Document Retriever\n",
        "\n",
        "This section shows how to create a simple retriever using the Bigtable key-value store. This is another use case for key-value stores in LangChain, acting as a **simple Document persistence layer**. The retriever will fetch documents based on a prefix match with the query."
      ],
      "metadata": {
        "id": "OcAijPTzD_kw"
      }
    },
    {
      "cell_type": "code",
      "source": [
        "from langchain_core.retrievers import BaseRetriever\n",
        "from langchain_core.documents import Document\n",
        "from langchain_core.callbacks import CallbackManagerForRetrieverRun\n",
        "from typing import List, Optional, Any, Union\n",
        "import json\n",
        "\n",
        "class SimpleKVStoreRetriever(BaseRetriever):\n",
        "    \"\"\"A simple retriever that retrieves documents based on a prefix match in the key-value store.\"\"\"\n",
        "    store: BigtableByteStore\n",
        "    documents: List[Union[Document, str]]\n",
        "    k: int\n",
        "\n",
        "    def set_up_store(self):\n",
        "        kv_pairs_to_set = []\n",
        "        for i, doc in enumerate(self.documents):\n",
        "            if isinstance(doc, str):\n",
        "                doc = Document(page_content=doc)\n",
        "            if not doc.id:\n",
        "                doc.id = str(i)\n",
        "            value = \"Page Content\\n\" + doc.page_content + \"\\nMetadata\" + json.dumps(doc.metadata)\n",
        "            kv_pairs_to_set.append((doc.id, value.encode(\"utf-8\")))\n",
        "        self.store.mset(kv_pairs_to_set)\n",
        "\n",
        "    async def _aget_relevant_documents(self, query: str, *, run_manager: Optional[CallbackManagerForRetrieverRun] = None) -> List[Document]:\n",
        "        keys = [key async for key in self.store.ayield_keys(prefix=query)][:self.k]\n",
        "        documents_retrieved = []\n",
        "        async for document in await self.store.amget(keys):\n",
        "            if document:\n",
        "                document_str = document.decode(\"utf-8\")\n",
        "                page_content = document_str.split(\"Content\\n\")[1].split(\"\\nMetadata\")[0]\n",
        "                metadata = json.loads(document_str.split(\"\\nMetadata\")[1])\n",
        "                documents_retrieved.append(Document(page_content=page_content, metadata=metadata))\n",
        "        return documents_retrieved\n",
        "\n",
        "    def _get_relevant_documents(self, query: str, *, run_manager: Optional[CallbackManagerForRetrieverRun] = None) -> list[Document]:\n",
        "        keys = [key for key in self.store.yield_keys(prefix=query)][:self.k]\n",
        "        documents_retrieved = []\n",
        "        for document in self.store.mget(keys):\n",
        "            if document:\n",
        "                document_str = document.decode(\"utf-8\")\n",
        "                page_content = document_str.split(\"Content\\n\")[1].split(\"\\nMetadata\")[0]\n",
        "                metadata = json.loads(document_str.split(\"\\nMetadata\")[1])\n",
        "                documents_retrieved.append(Document(page_content=page_content, metadata=metadata))\n",
        "        return documents_retrieved"
      ],
      "metadata": {
        "id": "T9Dstpu-Hfk9"
      },
      "execution_count": null,
      "outputs": []
    },
    {
      "cell_type": "code",
      "source": [
        "documents = [\n",
        "    Document(\n",
        "        page_content=\"Goldfish are popular pets for beginners, requiring relatively simple care.\",\n",
        "        metadata={\"type\": \"fish\", \"trait\": \"low maintenance\"},\n",
        "        id=\"fish#Goldfish\"\n",
        "    ),\n",
        "    Document(\n",
        "        page_content=\"Cats are independent pets that often enjoy their own space.\",\n",
        "        metadata={\"type\": \"cat\", \"trait\": \"independence\"},\n",
        "        id=\"mammals#Cats\"\n",
        "    ),\n",
        "    Document(\n",
        "        page_content=\"Rabbits are social animals that need plenty of space to hop around.\",\n",
        "        metadata={\"type\": \"rabbit\", \"trait\": \"social\"},\n",
        "        id=\"mammals#Rabbits\"\n",
        "    ),\n",
        "]\n"
      ],
      "metadata": {
        "id": "lG7lWxCyPTlo"
      },
      "execution_count": null,
      "outputs": []
    },
    {
      "cell_type": "code",
      "source": [
        "store = BigtableByteStore.create_sync(\n",
        "    engine=engine,\n",
        "    instance_id=INSTANCE_ID,\n",
        "    table_id=TABLE_ID\n",
        ")\n",
        "\n",
        "KVDocumentRetriever = SimpleKVStoreRetriever(\n",
        "    store=store,\n",
        "    documents=documents,\n",
        "    k=2\n",
        ")\n",
        "\n",
        "KVDocumentRetriever.set_up_store()"
      ],
      "metadata": {
        "id": "5ox7Mm4bReeX"
      },
      "execution_count": null,
      "outputs": []
    },
    {
      "cell_type": "code",
      "source": [
        "KVDocumentRetriever.invoke(\"fish\")"
      ],
      "metadata": {
        "colab": {
          "base_uri": "https://localhost:8080/"
        },
        "id": "ghEnoyc1RZs0",
        "outputId": "7aee495e-f239-4a69-84c4-eda774854cdf"
      },
      "execution_count": null,
      "outputs": [
        {
          "output_type": "execute_result",
          "data": {
            "text/plain": [
              "[Document(metadata={'type': 'fish', 'trait': 'low maintenance'}, page_content='Goldfish are popular pets for beginners, requiring relatively simple care.')]"
            ]
          },
          "metadata": {},
          "execution_count": 36
        }
      ]
    },
    {
      "cell_type": "code",
      "source": [
        "KVDocumentRetriever.invoke(\"mammals\")"
      ],
      "metadata": {
        "colab": {
          "base_uri": "https://localhost:8080/"
        },
        "id": "ZC_Sn4kBgn2T",
        "outputId": "ca207fb9-4fdc-423f-a1d1-4b02b0b4c322"
      },
      "execution_count": null,
      "outputs": [
        {
          "output_type": "execute_result",
          "data": {
            "text/plain": [
              "[Document(metadata={'type': 'cat', 'trait': 'independence'}, page_content='Cats are independent pets that often enjoy their own space.'),\n",
              " Document(metadata={'type': 'rabbit', 'trait': 'social'}, page_content='Rabbits are social animals that need plenty of space to hop around.')]"
            ]
          },
          "metadata": {},
          "execution_count": 37
        }
      ]
    }
  ]
}
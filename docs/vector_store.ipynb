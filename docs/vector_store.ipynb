{
 "nbformat": 4,
 "nbformat_minor": 0,
 "metadata": {
  "colab": {
   "provenance": [],
   "toc_visible": true
  },
  "kernelspec": {
   "name": "python3",
   "display_name": "Python 3"
  },
  "language_info": {
   "name": "python"
  }
 },
 "cells": [
  {
   "cell_type": "markdown",
   "source": [
    "# Google Bigtable\n",
    "\n",
    "> [Bigtable](https://cloud.google.com/bigtable) is a key-value and wide-column store, ideal for fast access to structured, semi-structured, or unstructured data. Extend your database application to build AI-powered experiences leveraging Bigtable's Langchain integrations.\n",
    "\n",
    "This notebook goes over how to use [Bigtable](https://cloud.google.com/bigtable) to [add documents to and query vector stores](https://python.langchain.com/docs/concepts/vectorstores/) with `BigtableVectorStore`.\n",
    "\n",
    "Learn more about the package on [GitHub](https://github.com/googleapis/langchain-google-bigtable-python/).\n",
    "\n",
    "[![Open In Colab](https://colab.research.google.com/assets/colab-badge.svg)](https://colab.research.google.com/github/googleapis/langchain-google-bigtable-python/blob/main/docs/vector_store.ipynb)"
   ],
   "metadata": {
    "id": "w1YQVPyVmnTt"
   }
  },
  {
   "cell_type": "markdown",
   "source": [
    "## Before You Begin\n",
    "\n",
    "To run this notebook, you will need to do the following:\n",
    "\n",
    "* [Create a Google Cloud Project](https://developers.google.com/workspace/guides/create-project)\n",
    "* [Enable the Bigtable API](https://console.cloud.google.com/flows/enableapi?apiid=bigtable.googleapis.com)\n",
    "* [Create a Bigtable instance](https://cloud.google.com/bigtable/docs/creating-instance)\n",
    "* [Create a Bigtable table](https://cloud.google.com/bigtable/docs/managing-tables)\n",
    "* [Create Bigtable access credentials](https://developers.google.com/workspace/guides/create-credentials)\n",
    "\n",
    "After confirmed access to database in the runtime environment of this notebook, filling the following values and run the cell before running example scripts."
   ],
   "metadata": {
    "id": "BJWHVeCknLsG"
   }
  },
  {
   "cell_type": "code",
   "source": [
    "# @markdown Please specify an instance and a table for demo purpose.\n",
    "INSTANCE_ID = \"your-instance-id\"  # @param {type:\"string\"}\n",
    "TABLE_ID = \"your-table-id\"  # @param {type:\"string\"}"
   ],
   "metadata": {
    "id": "nnDWIfEqnPAo"
   },
   "execution_count": null,
   "outputs": []
  },
  {
   "cell_type": "markdown",
   "source": [
    "### 🦜🔗 Library Installation\n",
    "\n",
    "The integration lives in its own `langchain-google-bigtable` package, so we need to install it."
   ],
   "metadata": {
    "id": "Dufw2TyjnX9h"
   }
  },
  {
   "cell_type": "code",
   "source": [
    "%pip install --quiet langchain-google-bigtable"
   ],
   "metadata": {
    "id": "TEfEbGNOnaDD"
   },
   "execution_count": null,
   "outputs": []
  },
  {
   "cell_type": "markdown",
   "source": [
    "**Colab only**: Uncomment the following cell to restart the kernel or use the button to restart the kernel. For Vertex AI Workbench you can restart the terminal using the button on top."
   ],
   "metadata": {
    "id": "_jMwarnCncV4"
   }
  },
  {
   "cell_type": "code",
   "source": [
    "# Automatically restart kernel after installs so that your environment can access the new packages\n",
    "# import IPython\n",
    "\n",
    "# app = IPython.Application.instance()\n",
    "# app.kernel.do_shutdown(True)"
   ],
   "metadata": {
    "id": "NplzOjCPnbxI"
   },
   "execution_count": null,
   "outputs": []
  },
  {
   "cell_type": "markdown",
   "source": [
    "### ☁ Set Your Google Cloud Project\n",
    "Set your Google Cloud project so that you can leverage Google Cloud resources within this notebook.\n",
    "\n",
    "If you don't know your project ID, try the following:\n",
    "\n",
    "* Run `gcloud config list`.\n",
    "* Run `gcloud projects list`.\n",
    "* See the support page: [Locate the project ID](https://support.google.com/googleapi/answer/7014113)."
   ],
   "metadata": {
    "id": "-jdXw2H2nhPf"
   }
  },
  {
   "cell_type": "code",
   "source": [
    "# @markdown Please fill in the value below with your Google Cloud project ID and then run the cell.\n",
    "\n",
    "PROJECT_ID = \"your-project-id\"  # @param {type:\"string\"}\n",
    "\n",
    "# Set the project id\n",
    "!gcloud config set project {PROJECT_ID}"
   ],
   "metadata": {
    "id": "ABpc1ummngps"
   },
   "execution_count": null,
   "outputs": []
  },
  {
   "cell_type": "markdown",
   "source": [
    "### 🔐 Authentication\n",
    "\n",
    "Authenticate to Google Cloud as the IAM user logged into this notebook in order to access your Google Cloud Project.\n",
    "\n",
    "- If you are using Colab to run this notebook, use the cell below and continue.\n",
    "- If you are using Vertex AI Workbench, check out the setup instructions [here](https://github.com/GoogleCloudPlatform/generative-ai/tree/main/setup-env)."
   ],
   "metadata": {
    "id": "9wgr3m4unpdi"
   }
  },
  {
   "cell_type": "code",
   "source": [
    "from google.colab import auth\n",
    "\n",
    "auth.authenticate_user(project_id=PROJECT_ID)"
   ],
   "metadata": {
    "id": "UXDss6WOnrlS"
   },
   "execution_count": null,
   "outputs": []
  },
  {
   "cell_type": "markdown",
   "source": [
    "## Embedding Service Setup\n",
    "\n",
    "To use the vector store to store and search using vectors, an embedding model is needed. For this demonstration, we're using one of VertexAI's embedding models."
   ],
   "metadata": {
    "id": "_b5t0zYqI6_x"
   }
  },
  {
   "cell_type": "code",
   "source": [
    "%pip install --quiet langchain-google-vertexai"
   ],
   "metadata": {
    "id": "YdC_ShzoWFJB"
   },
   "execution_count": null,
   "outputs": []
  },
  {
   "cell_type": "code",
   "source": [
    "from langchain_google_vertexai import VertexAIEmbeddings"
   ],
   "metadata": {
    "id": "-Lv8V5WUJYEM"
   },
   "execution_count": null,
   "outputs": []
  },
  {
   "cell_type": "code",
   "source": [
    "embedding_service = VertexAIEmbeddings(model_name=\"gemini-embedding-001\")"
   ],
   "metadata": {
    "id": "W97r0MRDpSLz"
   },
   "execution_count": null,
   "outputs": []
  },
  {
   "cell_type": "markdown",
   "source": [
    "## Instantiation"
   ],
   "metadata": {
    "id": "Hu4bRlFnI_eF"
   }
  },
  {
   "cell_type": "markdown",
   "source": [
    "### Initialize a table"
   ],
   "metadata": {
    "id": "Ir0Xv4w0pHmx"
   }
  },
  {
   "cell_type": "code",
   "source": [
    "from langchain_google_bigtable.vector_store import init_vector_store_table\n",
    "\n",
    "DATA_COLUMN_FAMILY = \"doc_data\"\n",
    "\n",
    "try:\n",
    "    init_vector_store_table(\n",
    "        project_id=PROJECT_ID,\n",
    "        instance_id=INSTANCE_ID,\n",
    "        table_id=TABLE_ID,\n",
    "        content_column_family=DATA_COLUMN_FAMILY,\n",
    "        embedding_column_family=DATA_COLUMN_FAMILY,\n",
    "    )\n",
    "except ValueError as e:\n",
    "    print(e)"
   ],
   "metadata": {
    "id": "d2uojLreJHOR"
   },
   "execution_count": null,
   "outputs": []
  },
  {
   "cell_type": "markdown",
   "source": [
    "## BigtableEngine\n",
    "\n",
    "A `BigtableEngine` object will be used to handle the execution context of the store. While not strictly required for creating a `BigtableVectorStore`, it is highly recommended to initialize a single `BigtableEngine` instance and reuse it across multiple stores for better performance and resource management."
   ],
   "metadata": {
    "id": "tt6LBhzcpjST"
   }
  },
  {
   "cell_type": "code",
   "source": [
    "from langchain_google_bigtable import BigtableEngine\n",
    "\n",
    "engine = await BigtableEngine.async_initialize(project_id=PROJECT_ID)"
   ],
   "metadata": {
    "id": "X3cDXLaxplpB"
   },
   "execution_count": null,
   "outputs": []
  },
  {
   "cell_type": "markdown",
   "source": [
    "## BigtableVectorStore"
   ],
   "metadata": {
    "id": "qZJvFAQMppw4"
   }
  },
  {
   "cell_type": "code",
   "source": [
    "from langchain_google_bigtable.vector_store import (\n",
    "    BigtableVectorStore,\n",
    "    ColumnConfig,\n",
    "    DistanceStrategy,\n",
    "    Encoding,\n",
    "    QueryParameters,\n",
    "    VectorDataType,\n",
    "    VectorMetadataMapping,\n",
    "    init_vector_store_table,\n",
    ")\n",
    "\n",
    "from langchain_core.documents import Document"
   ],
   "metadata": {
    "id": "sQEk8r54Xv1s"
   },
   "execution_count": null,
   "outputs": []
  },
  {
   "cell_type": "markdown",
   "source": [
    "### Configuring Metadata Storage\n",
    "\n",
    "When creating a `BigtableVectorStore`, you have two optional parameters for handling metadata:\n",
    "\n",
    "* `metadata_mappings`: This is a list of `VectorMetadataMapping` objects. You **must** define a mapping for any metadata key you wish to use for filtering in your search queries. Each mapping specifies the data type (`encoding`) for the metadata field, which is crucial for correct filtering.\n",
    "* `metadata_as_json_column`: This is an optional `ColumnConfig` that tells the store to save the *entire* metadata dictionary as a single JSON string in a specific column. This is useful for efficiently retrieving all of a document's metadata at once, including fields not defined in `metadata_mappings`. **Note:** Fields stored only in this JSON column cannot be used for filtering."
   ],
   "metadata": {
    "id": "U-08kG2rLWJP"
   }
  },
  {
   "cell_type": "code",
   "source": [
    "collection = \"fiction_docs\"\n",
    "\n",
    "# Prepare a list of MetadataMappings to be used for filtering later on.\n",
    "metadata_mappings = [\n",
    "    VectorMetadataMapping(metadata_key=\"author\", encoding=Encoding.UTF8),\n",
    "    VectorMetadataMapping(metadata_key=\"category\", encoding=Encoding.UTF8),\n",
    "    VectorMetadataMapping(metadata_key=\"year\", encoding=Encoding.INT_BIG_ENDIAN),\n",
    "    VectorMetadataMapping(metadata_key=\"is_public\", encoding=Encoding.BOOL),\n",
    "    VectorMetadataMapping(metadata_key=\"rating\", encoding=Encoding.FLOAT),\n",
    "]\n",
    "\n",
    "# Configure the columns for your store.\n",
    "content_column = ColumnConfig(\n",
    "    column_family=DATA_COLUMN_FAMILY, column_qualifier=\"content\"\n",
    ")\n",
    "embedding_column = ColumnConfig(\n",
    "    column_family=DATA_COLUMN_FAMILY, column_qualifier=\"embedding\"\n",
    ")\n",
    "metadata_as_json_column = ColumnConfig(\n",
    "    column_family=DATA_COLUMN_FAMILY, column_qualifier=\"metadata_json\"\n",
    ")"
   ],
   "metadata": {
    "id": "bV0HacQMpsDc"
   },
   "execution_count": null,
   "outputs": []
  },
  {
   "cell_type": "code",
   "source": [
    "vector_store = await BigtableVectorStore.create(\n",
    "    project_id=PROJECT_ID,\n",
    "    instance_id=INSTANCE_ID,\n",
    "    table_id=TABLE_ID,\n",
    "    engine=engine,\n",
    "    embedding_service=embedding_service,\n",
    "    collection=collection,\n",
    "    metadata_mappings=metadata_mappings,\n",
    "    metadata_as_json_column=metadata_as_json_column,  # Optional: for storing all metadata\n",
    "    content_column=content_column,\n",
    "    embedding_column=embedding_column,\n",
    ")"
   ],
   "metadata": {
    "id": "qhQ4eKrMqAca"
   },
   "execution_count": null,
   "outputs": []
  },
  {
   "cell_type": "markdown",
   "source": [
    "## Usage"
   ],
   "metadata": {
    "id": "pXz2FsYyqXOK"
   }
  },
  {
   "cell_type": "markdown",
   "source": [
    "### Populate the Vector Store"
   ],
   "metadata": {
    "id": "_tpuZlFBJXgU"
   }
  },
  {
   "cell_type": "markdown",
   "source": [
    "#### Documents to Add\n",
    "\n",
    "This is a smaller list of documents, but it contains enough variety in metadata and IDs to demonstrate all filtering capabilities. If a document is added without an `id`, the vector store will automatically generate a UUID4 for it."
   ],
   "metadata": {
    "id": "zJN1QMgTN4Rp"
   }
  },
  {
   "cell_type": "code",
   "source": [
    "# Example documents to use for this demonstration\n",
    "documents_to_add = [\n",
    "    Document(\n",
    "        page_content=\"A young farm boy, Luke Skywalker, is thrust into a galactic conflict.\",\n",
    "        metadata={\n",
    "            \"author\": \"George Lucas\",\n",
    "            \"year\": 1977,\n",
    "            \"category\": \"sci-fi\",\n",
    "            \"rating\": 4.8,\n",
    "            \"is_public\": True,\n",
    "        },\n",
    "        id=\"group_A/doc_1\",\n",
    "    ),\n",
    "    Document(\n",
    "        page_content=\"In a distant future, the noble House Atreides rules the desert planet Arrakis.\",\n",
    "        metadata={\n",
    "            \"author\": \"Frank Herbert\",\n",
    "            \"year\": 1965,\n",
    "            \"category\": \"sci-fi\",\n",
    "            \"rating\": 4.9,\n",
    "            \"is_public\": True,\n",
    "        },\n",
    "        id=\"group_A/doc_2\",\n",
    "    ),\n",
    "    Document(\n",
    "        page_content=\"A hobbit named Frodo Baggins must destroy a powerful ring.\",\n",
    "        metadata={\n",
    "            \"author\": \"J.R.R. Tolkien\",\n",
    "            \"year\": 1954,\n",
    "            \"category\": \"fantasy\",\n",
    "            \"rating\": 4.9,\n",
    "            \"is_public\": True,\n",
    "        },\n",
    "        id=\"group_B/doc_3\",\n",
    "    ),\n",
    "    Document(\n",
    "        page_content=\"A group of children confront an evil entity emerging from the sewers.\",\n",
    "        metadata={\n",
    "            \"author\": \"Stephen King\",\n",
    "            \"year\": 1986,\n",
    "            \"category\": \"horror\",\n",
    "            \"rating\": 4.5,\n",
    "            \"is_public\": False,\n",
    "        },\n",
    "        id=\"group_B/doc_4\",\n",
    "    ),\n",
    "    Document(\n",
    "        page_content=\"The last human is whisked off Planet Earth by his alien friend.\",\n",
    "        metadata={\n",
    "            \"author\": \"Douglas Adams\",\n",
    "            \"year\": 1979,\n",
    "            \"category\": \"sci-fi\",\n",
    "            \"rating\": 4.8,\n",
    "            \"is_public\": True,\n",
    "        },\n",
    "        id=\"group_A/doc_5\",\n",
    "    ),\n",
    "    Document(\n",
    "        page_content=\"A young wizard, Harry Potter, discovers his heritage and battles a dark wizard.\",\n",
    "        metadata={\n",
    "            \"author\": \"J.K. Rowling\",\n",
    "            \"year\": 1997,\n",
    "            \"category\": \"fantasy\",\n",
    "            \"rating\": 4.9,\n",
    "            \"is_public\": True,\n",
    "        },\n",
    "        id=\"group_B/doc_6\",\n",
    "    ),\n",
    "    # Documents without a pre-defined ID\n",
    "    Document(\n",
    "        page_content=\"A dystopian novel set where people are genetically engineered into a caste system.\",\n",
    "        metadata={\n",
    "            \"author\": \"Aldous Huxley\",\n",
    "            \"year\": 1932,\n",
    "            \"category\": \"dystopian\",\n",
    "            \"rating\": 4.5,\n",
    "            \"is_public\": True,\n",
    "        },\n",
    "    ),\n",
    "    Document(\n",
    "        page_content=\"An exploration of the history of humankind, from the Stone Age to the present day.\",\n",
    "        metadata={\n",
    "            \"author\": \"Yuval Noah Harari\",\n",
    "            \"year\": 2011,\n",
    "            \"category\": \"non-fiction\",\n",
    "            \"rating\": 4.9,\n",
    "            \"is_public\": True,\n",
    "        },\n",
    "    ),\n",
    "]"
   ],
   "metadata": {
    "id": "2LOa1uvJJakk"
   },
   "execution_count": null,
   "outputs": []
  },
  {
   "cell_type": "markdown",
   "source": [
    "#### Add Documents"
   ],
   "metadata": {
    "id": "r1mR23iPN7cD"
   }
  },
  {
   "cell_type": "code",
   "source": [
    "added_ids = await vector_store.aadd_documents(documents_to_add)"
   ],
   "metadata": {
    "id": "f38oiGhSJjn9"
   },
   "execution_count": null,
   "outputs": []
  },
  {
   "cell_type": "code",
   "source": [
    "print(added_ids)"
   ],
   "metadata": {
    "id": "pl44dyLKF9nc"
   },
   "execution_count": null,
   "outputs": []
  },
  {
   "cell_type": "markdown",
   "source": [
    "### Using the Vector Store as a Retriever"
   ],
   "metadata": {
    "id": "vIdD8TdnNZJE_new"
   }
  },
  {
   "cell_type": "code",
   "source": [
    "query_params_retriever = QueryParameters(\n",
    "    filters={\"ColumnValueFilter\": {\"category\": {\"==\": \"sci-fi\"}}}\n",
    ")\n",
    "retriever = vector_store.as_retriever(\n",
    "    search_type=\"mmr\",\n",
    "    search_kwargs={\n",
    "        \"k\": 2,\n",
    "        \"lambda_mult\": 0.2,  # prioritizes diversity over similarity\n",
    "        \"query_parameters\": query_params_retriever,  # Apply a filter\n",
    "    },\n",
    ")\n",
    "\n",
    "print(\"Created a retriever configured for MMR search on 'sci-fi' documents.\\n\")\n",
    "\n",
    "query = \"a story about humanity's future on a desert planet\"\n",
    "print(f\"Invoking retriever with query: '{query}'\\n\")\n",
    "\n",
    "retrieved_docs = await retriever.ainvoke(query)\n",
    "\n",
    "print(f\"Retriever found {len(retrieved_docs)} documents:\")\n",
    "for doc in retrieved_docs:\n",
    "    print(\"-\" * 30)\n",
    "    print(f\"Content: {doc.page_content}\")\n",
    "    print(f\"Metadata: {doc.metadata}\")"
   ],
   "metadata": {
    "id": "pTIaLQkkNamO_new"
   },
   "execution_count": null,
   "outputs": []
  },
  {
   "cell_type": "markdown",
   "source": [
    "### Search with Filters"
   ],
   "metadata": {
    "id": "JfWOeL_lLu1V_new"
   }
  },
  {
   "cell_type": "markdown",
   "source": [
    "#### The kNN Search Algorithm and Filtering\n",
    "\n",
    "By default, `BigtableVectorStore` uses a **k-Nearest Neighbors (kNN)** search algorithm to find the `k` vectors in the database that are most similar to your query vector. The vector store offers filtering to reduce the search space *before* the kNN search is performed, which can make queries faster and more relevant.\n",
    "\n",
    "#### Configuring Queries with `QueryParameters`\n",
    "\n",
    "All search settings are controlled via the `QueryParameters` object. This object allows you to specify not only filters but also other important search aspects:\n",
    "* `algorithm`: The search algorithm to use. Defaults to `\"kNN\"`.\n",
    "* `distance_strategy`: The metric used for comparison, such as `COSINE` (default) or `EUCLIDEAN`.\n",
    "* `vector_data_type`: The data type of the stored vectors, like `FLOAT32` or `DOUBLE64`. This should match the precision of your embeddings.\n",
    "* `filters`: A dictionary defining the filtering logic to apply.\n",
    "\n",
    "#### Understanding Encodings\n",
    "\n",
    "To filter on metadata fields, you must define them in `metadata_mappings` with the correct `encoding` so Bigtable can properly interpret the data. Supported encodings include:\n",
    "* **String**: `UTF8`, `UTF16`, `ASCII` for text-based metadata.\n",
    "* **Numeric**: `INT_BIG_ENDIAN` or `INT_LITTLE_ENDIAN` for integers, and `FLOAT` or `DOUBLE` for decimal numbers.\n",
    "* **Boolean**: `BOOL` for true/false values.\n",
    "\n",
    "#### Supported Filter Types\n",
    "\n",
    "`BigtableVectorStore` supports three main categories of filters to refine your search:\n",
    "\n",
    "* **Row Key (Document ID) Filters**:\n",
    "    * `RowKeyFilter`: Narrows the search to document IDs and a specific row prefix. The document ID filter is always applied by default.\n",
    "\n",
    "* **Metadata Key (Qualifier) Filters**: Checks for the *presence* of metadata keys.\n",
    "    * `ColumnQualifiers`: Checks for one or more exact keys.\n",
    "    * `ColumnQualifierPrefix`: Checks if a key starts with a given prefix.\n",
    "    * `ColumnQualifierRegex`: Checks if a key matches a regular expression.\n",
    "\n",
    "* **Metadata Value Filters**: Filters on the actual values of metadata fields.\n",
    "    * `ColumnValueFilter`: Filters on the values of the metadata keys. The following list showcases the supported operators.\n",
    "    * **Supported Operators**: `==`, `!=`, `>`, `<`, `>=`, `<=`, `in`, `nin`, `contains`, `like`.\n",
    "\n",
    "* **Logical Filters**: Combines value-based conditions.\n",
    "    * `ColumnValueChainFilter`: Logical AND.\n",
    "    * `ColumnValueUnionFilter`: Logical OR."
   ],
   "metadata": {
    "id": "Pr-Ai5hgLWJQ_new"
   }
  },
  {
   "cell_type": "markdown",
   "source": [
    "#### Filter Example 1 - Row Key and Value Filter (Implicit AND)\n",
    "\n",
    "Find sci-fi books published after 1970 within `group_A`. When you provide multiple filters at the top level, they are combined with a logical AND."
   ],
   "metadata": {
    "id": "VHnv6CJQCGop_new"
   }
  },
  {
   "cell_type": "code",
   "source": [
    "query = \"a story about space and destiny\"\n",
    "\n",
    "filter_1 = {\n",
    "    \"RowKeyFilter\": \"group_A/\",\n",
    "    \"ColumnValueFilter\": {\"year\": {\">\": 1970}, \"category\": {\"==\": \"sci-fi\"}},\n",
    "}\n",
    "\n",
    "query_params_1 = QueryParameters(filters=filter_1)\n",
    "\n",
    "print(f\"Querying for: '{query}'\")\n",
    "print(f\"With filter: In 'group_A' AND category is 'sci-fi' AND year > 1970\\n\")\n",
    "\n",
    "results_1 = await vector_store.asimilarity_search(\n",
    "    query, k=5, query_parameters=query_params_1\n",
    ")\n",
    "\n",
    "print(f\"Found {len(results_1)} documents matching the filter:\")\n",
    "for doc in results_1:\n",
    "    print(f\"- ID: {doc.id}, Metadata: {doc.metadata}\")"
   ],
   "metadata": {
    "id": "eBLEFFiLCGW6_new"
   },
   "execution_count": null,
   "outputs": []
  },
  {
   "cell_type": "markdown",
   "source": [
    "#### Filter Example 2 - Complex Logical Filter (AND/OR)\n",
    "\n",
    "Find books that are either (`category` is 'fantasy' AND `is_public` is `True`) OR (`rating` is less than 4.6)."
   ],
   "metadata": {
    "id": "STQFSy6FKgI7_new"
   }
  },
  {
   "cell_type": "code",
   "source": [
    "query = \"a tale of magic and quests\"\n",
    "\n",
    "filter_2 = {\n",
    "    \"ColumnValueFilter\": {\n",
    "        \"ColumnValueUnionFilter\": {  # Logical OR\n",
    "            \"ColumnValueChainFilter\": {  # Logical AND\n",
    "                \"category\": {\"==\": \"fantasy\"},\n",
    "                \"is_public\": {\"==\": True},\n",
    "            },\n",
    "            \"rating\": {\"<\": 4.6},\n",
    "        }\n",
    "    }\n",
    "}\n",
    "\n",
    "query_params_2 = QueryParameters(filters=filter_2)\n",
    "\n",
    "print(f\"Querying for: '{query}'\")\n",
    "print(f\"With filter: (category is 'fantasy' AND is_public) OR (rating < 4.6)\\n\")\n",
    "\n",
    "results_2 = await vector_store.asimilarity_search(\n",
    "    query, k=5, query_parameters=query_params_2\n",
    ")\n",
    "\n",
    "print(f\"Found {len(results_2)} documents matching the filter:\")\n",
    "for doc in results_2:\n",
    "    print(f\"- ID: {doc.id}, Metadata: {doc.metadata}\")"
   ],
   "metadata": {
    "id": "waF94fF3KlZ5_new"
   },
   "execution_count": null,
   "outputs": []
  },
  {
   "cell_type": "markdown",
   "source": [
    "#### Filter Example 3 - Full `QueryParameters` with List Membership\n",
    "\n",
    "Here, we use the entire `QueryParameters` object to customize the search. We are changing the `distance_strategy`, specifying the `vector_data_type`, and filtering for books where the author is in a specific list, using the `in` operator."
   ],
   "metadata": {
    "id": "Bq58DhgiKrI4_new"
   }
  },
  {
   "cell_type": "code",
   "source": [
    "query = \"a story of good versus evil\"\n",
    "\n",
    "filter_3 = {\"ColumnValueFilter\": {\"author\": {\"in\": [\"J.R.R. Tolkien\", \"J.K. Rowling\"]}}}\n",
    "\n",
    "# Create a full QueryParameters object\n",
    "query_params_3 = QueryParameters(\n",
    "    algorithm=\"kNN\",  # Explicitly setting the default algorithm\n",
    "    distance_strategy=DistanceStrategy.EUCLIDEAN,\n",
    "    vector_data_type=VectorDataType.FLOAT32,  # Specifying the vector data type\n",
    "    filters=filter_3,\n",
    ")\n",
    "\n",
    "print(f\"Querying for: '{query}'\")\n",
    "print(f\"With filter: author is 'J.R.R. Tolkien' or 'J.K. Rowling'\")\n",
    "print(f\"Using algorithm: {query_params_3.algorithm}\")\n",
    "print(f\"Using distance strategy: {query_params_3.distance_strategy.name}\\n\")\n",
    "\n",
    "results_3 = await vector_store.asimilarity_search(\n",
    "    query, k=2, query_parameters=query_params_3\n",
    ")\n",
    "\n",
    "print(f\"Found {len(results_3)} documents matching the filter:\")\n",
    "for doc in results_3:\n",
    "    print(f\"- ID: {doc.id}, Metadata: {doc.metadata}\")"
   ],
   "metadata": {
    "id": "z0LpaiDLKuKI_new"
   },
   "execution_count": null,
   "outputs": []
  }
 ]
}

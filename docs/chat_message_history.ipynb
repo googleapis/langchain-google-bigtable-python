{
    "cells": [
        {
            "cell_type": "markdown",
            "metadata": {},
            "source": [
                "# Bigtable\n",
                "\n",
                "[Bigtable](https://cloud.google.com/bigtable) is a key-value and wide-column store, ideal for fast access to structured, semi-structured, or unstructured data.\n"
            ]
        },
        {
            "cell_type": "markdown",
            "metadata": {},
            "source": [
                "## Before you begin"
            ]
        },
        {
            "cell_type": "markdown",
            "metadata": {},
            "source": [
                "To run this notebook, you will need a Google Cloud Project, a Bigtable instance, and Google credentials."
            ]
        },
        {
            "cell_type": "code",
            "execution_count": null,
            "metadata": {},
            "outputs": [],
            "source": [
                "%pip install langchain-google-bigtable"
            ]
        },
        {
            "cell_type": "markdown",
            "metadata": {},
            "source": [
                "## Basic Usage"
            ]
        },
        {
            "cell_type": "code",
            "execution_count": null,
            "metadata": {},
            "outputs": [],
            "source": [
                "from langchain_google_bigtable import (\n",
                "    BigtableChatMessageHistory,\n",
                ")\n",
                "\n",
                "message_history = BigtableChatMessageHistory(\n",
                "    instance_id=\"my-instance\",\n",
                "    table_id=\"my-table\",\n",
                "    session_id=\"user-session-id\",\n",
                ")\n",
                "\n",
                "message_history.add_user_message(\"hi!\")\n",
                "message_history.add_ai_message(\"whats up?\")"
            ]
        },
        {
            "cell_type": "code",
            "execution_count": null,
            "metadata": {},
            "outputs": [
                {
                    "data": {
                        "text/plain": [
                            "[HumanMessage(content='hi!'),\n",
                            " HumanMessage(content='hi!'),\n",
                            " AIMessage(content='whats up?')]"
                        ]
                    },
                    "metadata": {},
                    "output_type": "display_data"
                }
            ],
            "source": [
                "message_history.messages"
            ]
        },
        {
            "cell_type": "markdown",
            "metadata": {},
            "source": [
                "## Initializing schema\n",
                "\n",
                "The chat history will be written to a column called `history` in a column family called `langchain`. If this column family does not exist in your table, you will need to call init_schema:"
            ]
        },
        {
            "cell_type": "code",
            "execution_count": null,
            "metadata": {},
            "outputs": [],
            "source": [
                "message_history = BigtableChatMessageHistory(\n",
                "    instance_id=\"my-instance\",\n",
                "    table_id=\"my-table\",\n",
                ")\n",
                "\n",
                "message_history.init_schema()"
            ]
        },
        {
            "cell_type": "markdown",
            "metadata": {},
            "source": [
                "## Custom client\n",
                "The client created by default is the default client, using only admin=True option. To use a non-default, a [custom client](https://cloud.google.com/python/docs/reference/bigtable/latest/client#class-googlecloudbigtableclientclientprojectnone-credentialsnone-readonlyfalse-adminfalse-clientinfonone-clientoptionsnone-adminclientoptionsnone-channelnone) can be passed to the constructor."
            ]
        },
        {
            "cell_type": "code",
            "execution_count": null,
            "metadata": {},
            "outputs": [],
            "source": [
                "from google.cloud import bigtable\n",
                "\n",
                "custom_client_message_history = BigtableChatMessageHistory(\n",
                "    instance_id=\"my-instance\",\n",
                "    table_id=\"my-table\",\n",
                "    client=bigtable.Client(...),\n",
                ")"
            ]
        },
        {
            "cell_type": "markdown",
            "metadata": {},
            "source": [
                "## Cleaning up\n",
                "\n",
                "When the history of a specific session is obsolete and can be deleted, it can be done the following way.\n",
                "Note: Once deleted, the data is no longer stored in Bigtable and is gone forever."
            ]
        },
        {
            "cell_type": "code",
            "execution_count": null,
            "metadata": {},
            "outputs": [],
            "source": [
                "message_history = BigtableChatMessageHistory(\n",
                "    instance_id=\"my-instance\",\n",
                "    table_id=\"my-table\",\n",
                "    session_id=\"obsolete-session-id\",\n",
                ")\n",
                "\n",
                "message_history.clear()"
            ]
        }
    ],
    "metadata": {
        "kernelspec": {
            "display_name": "Python 3 (ipykernel)",
            "language": "python",
            "name": "python3"
        },
        "language_info": {
            "codemirror_mode": {
                "name": "ipython",
                "version": 3
            },
            "file_extension": ".py",
            "mimetype": "text/x-python",
            "name": "python",
            "nbconvert_exporter": "python",
            "pygments_lexer": "ipython3",
            "version": "3.10.6"
        }
    },
    "nbformat": 4,
    "nbformat_minor": 4
}

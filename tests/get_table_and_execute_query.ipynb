{
 "cells": [
  {
   "cell_type": "markdown",
   "id": "ff5f39c1",
   "metadata": {},
   "source": [
    "# Google Bigtable\n",
    "\n",
    "> [Bigtable](https://cloud.google.com/bigtable) is a key-value and wide-column store, ideal for fast access to structured, semi-structured, or unstructured data. Extend your database application to build AI-powered experiences leveraging Bigtable's Langchain integrations.\n",
    "\n",
    "This notebook goes over how to use an LLM agent to query [Bigtable](https://cloud.google.com/bigtable) with `BigtableGetInstancesAndTableSchemaTool` and `BigtableExecuteQueryTool`.\n"
   ]
  },
  {
   "cell_type": "code",
   "execution_count": null,
   "id": "3fbfa400",
   "metadata": {},
   "outputs": [],
   "source": []
  },
  {
   "cell_type": "markdown",
   "id": "25df1382",
   "metadata": {},
   "source": [
    "## Before You Begin\n",
    "\n",
    "To run this notebook, you will need to do the following:\n",
    "\n",
    "* [Create a Google Cloud Project](https://developers.google.com/workspace/guides/create-project)\n",
    "* [Enable the Bigtable API](https://console.cloud.google.com/flows/enableapi?apiid=bigtable.googleapis.com)\n",
    "* [Create a Bigtable instance](https://cloud.google.com/bigtable/docs/creating-instance)\n",
    "* [Create Bigtable access credentials](https://developers.google.com/workspace/guides/create-credentials)\n",
    "\n",
    "After confirming access to the database in the runtime environment of this notebook, fill in the following values and run the cell before running example scripts."
   ]
  },
  {
   "cell_type": "markdown",
   "id": "494f0ddf",
   "metadata": {},
   "source": [
    "### ☁ Set Your Google Cloud Project and Instance\n",
    "`BigtableGetInstancesAndTableSchemaTool` and `BigtableExecuteQueryTool` requires an existing project and instance."
   ]
  },
  {
   "cell_type": "code",
   "execution_count": 1,
   "id": "9249e7a5",
   "metadata": {},
   "outputs": [],
   "source": [
    "# @markdown Specify a project and an instance for demo purposes.\n",
    "PROJECT_ID = \"testproject-468100\"  # @param {type:\"string\"}\n",
    "INSTANCE_ID = \"myinstance\"  # @param {type:\"string\"}"
   ]
  },
  {
   "cell_type": "markdown",
   "id": "83c87d24",
   "metadata": {},
   "source": [
    "### 🦜🔗 Library Installation\n",
    "\n",
    "Install the required libraries for Bigtable and LangChain integrations."
   ]
  },
  {
   "cell_type": "code",
   "execution_count": null,
   "id": "9717d80d",
   "metadata": {},
   "outputs": [],
   "source": [
    "# Install required libraries\n",
    "%pip install google-cloud-bigtable\n",
    "%pip install --upgrade google-auth\n",
    "%pip install langchain\n",
    "%pip install -U langchain-google-genai\n",
    "%pip install langgraph langchain-google-genai\n",
    "%pip install -U langchain-google-vertexai"
   ]
  },
  {
   "cell_type": "markdown",
   "id": "09410dca",
   "metadata": {},
   "source": [
    "### 🔐 Authentication\n",
    "\n",
    "Authenticate to Google Cloud as the IAM user logged into this notebook in order to access your Google Cloud Project."
   ]
  },
  {
   "cell_type": "code",
   "execution_count": 3,
   "id": "a793be2d",
   "metadata": {},
   "outputs": [
    {
     "name": "stderr",
     "output_type": "stream",
     "text": [
      "Your browser has been opened to visit:\n",
      "\n",
      "    https://accounts.google.com/o/oauth2/auth?response_type=code&client_id=764086051850-6qr4p6gpi6hn506pt8ejuq83di341hur.apps.googleusercontent.com&redirect_uri=http%3A%2F%2Flocalhost%3A8085%2F&scope=openid+https%3A%2F%2Fwww.googleapis.com%2Fauth%2Fuserinfo.email+https%3A%2F%2Fwww.googleapis.com%2Fauth%2Fcloud-platform+https%3A%2F%2Fwww.googleapis.com%2Fauth%2Fsqlservice.login&state=4YyPYHoxM50vBhsqnun0WXHtQ6rKN1&access_type=offline&code_challenge=RIVTSZjGfMYlxuJAPpbDkFaF-KLF-6bYhwakJW-hSMg&code_challenge_method=S256\n",
      "\n",
      "\n",
      "Credentials saved to file: [C:\\Users\\sophi\\AppData\\Roaming\\gcloud\\application_default_credentials.json]\n",
      "\n",
      "These credentials will be used by any library that requests Application Default Credentials (ADC).\n",
      "\n",
      "Quota project \"testproject-468100\" was added to ADC which can be used by Google client libraries for billing and quota. Note that some services may still bill the project owning the resource.\n",
      "Updated property [core/project].\n"
     ]
    }
   ],
   "source": [
    "!gcloud auth application-default login\n",
    "!gcloud config set project {PROJECT_ID}"
   ]
  },
  {
   "cell_type": "markdown",
   "id": "623b2e56",
   "metadata": {},
   "source": [
    "### Initialize Bigtable Client, Create Tables and initialize the Tools\n",
    "\n",
    "We will initialize two Bigtable clients:\n",
    "\n",
    "1. **`admin_client`**: Used for administrative operations, such as creating and deleting tables.\n",
    "2. **`data_client`**: Used for data operations, such as reading and writing rows.\n",
    "\n",
    "We will also initialize the tools:\n",
    "\n",
    "1. **`BigtableGetInstancesAndTableSchemaTool`**: To get instances and table schema.\n",
    "2. **`BigtableExecuteQueryTool`**: To execute SQL query on Bigtable data.\n",
    "\n",
    "We will also create two tables for query test:\n",
    "\n",
    "1. **`hotels` table**: This table will be used for testing SQL queries.\n",
    "2. **`fruits` table**: An unrelated table to demonstrate handling multiple tables.\n",
    "\n",
    "Both tables will be cleaned up after the tests.\n"
   ]
  },
  {
   "cell_type": "code",
   "execution_count": null,
   "id": "80135acd",
   "metadata": {},
   "outputs": [
    {
     "name": "stdout",
     "output_type": "stream",
     "text": [
      "Connected to Bigtable instance: myinstance\n",
      "Tools initialized successfully.\n"
     ]
    }
   ],
   "source": [
    "# Import necessary libraries\n",
    "from google.cloud import bigtable\n",
    "from google.cloud.bigtable import Client\n",
    "from google.cloud.bigtable.data import BigtableDataClient\n",
    "from langchain_google_bigtable.get_instances_and_table_schema import BigtbableGetInstancesAndTableSchemaTool\n",
    "from langchain_google_bigtable.execute_query_tool import BigtableExecuteQueryTool\n",
    "\n",
    "# initialize Bigtable clients\n",
    "admin_client = bigtable.Client(project=PROJECT_ID, admin=True)\n",
    "sync_data_client = BigtableDataClient(project=PROJECT_ID, admin=False)\n",
    "instance = admin_client.instance(INSTANCE_ID)\n",
    "print(f\"Connected to Bigtable instance: {instance.instance_id}\")\n",
    "\n",
    "# Initialize tools\n",
    "get_instances_and_table_schema_tool = BigtableGetInstancesAndTableSchemaTool(client=admin_client)\n",
    "execute_query_tool = BigtableExecuteQueryTool(client=sync_data_client)\n",
    "print(\"Tools initialized successfully.\")"
   ]
  },
  {
   "cell_type": "code",
   "execution_count": 5,
   "id": "c92f07c1",
   "metadata": {},
   "outputs": [],
   "source": [
    "# Create a hotel table and insert data for demo purposes\n",
    "instance = admin_client.instance(INSTANCE_ID)\n",
    "hotels_table_id = \"test-table-hotels\"\n",
    "hotels_table = instance.table(hotels_table_id)\n",
    "column_families = {\n",
    "    \"cf\": bigtable.column_family.MaxVersionsGCRule(1),\n",
    "}\n",
    "\n",
    "if not hotels_table.exists():\n",
    "    hotels_table.create(column_families=column_families)\n",
    "\n",
    "    # Define columns and data\n",
    "    columns = [\"id\", \"name\", \"location\", \"price_tier\", \"checkin_date\", \"checkout_date\", \"booked\"]\n",
    "    data = [\n",
    "        [1, 'Hilton Basel', 'Basel', 'Luxury', '2024-04-20', '2024-04-22', False],\n",
    "        [2, 'Marriott Zurich', 'Zurich', 'Upscale', '2024-04-14', '2024-04-21', False],\n",
    "        [3, 'Hyatt Regency Basel', 'Basel', 'Upper Upscale', '2024-04-02', '2024-04-20', False],\n",
    "        [4, 'Radisson Blu Lucerne', 'Lucerne', 'Midscale', '2024-04-05', '2024-04-24', False],\n",
    "        [5, 'Best Western Bern', 'Bern', 'Upper Midscale', '2024-04-01', '2024-04-23', False],\n",
    "        [6, 'InterContinental Geneva', 'Geneva', 'Luxury', '2024-04-23', '2024-04-28', False],\n",
    "        [7, 'Sheraton Zurich', 'Zurich', 'Upper Upscale', '2024-04-02', '2024-04-27', False],\n",
    "        [8, 'Holiday Inn Basel', 'Basel', 'Upper Midscale', '2024-04-09', '2024-04-24', False],\n",
    "        [9, 'Courtyard Zurich', 'Zurich', 'Upscale', '2024-04-03', '2024-04-13', False],\n",
    "        [10, 'Comfort Inn Bern', 'Bern', 'Midscale', '2024-04-04', '2024-04-16', False],\n",
    "    ]\n",
    "\n",
    "    # Insert data into the table\n",
    "    mutations = []\n",
    "    batcher = hotels_table.mutations_batcher(max_row_bytes=1024)\n",
    "    for row in data:\n",
    "        row_key = f\"hotels#{row[0]}#{row[2]}#{row[1]}#{row[3]}\"\n",
    "        mutation = hotels_table.direct_row(row_key)\n",
    "        for col, value in zip(columns, row):\n",
    "            mutation.set_cell(\"cf\", col.encode(\"utf-8\"), str(value).encode(\"utf-8\"))\n",
    "        mutations.append(mutation)\n",
    "    for mutation in mutations:\n",
    "        batcher.mutate(mutation)\n",
    "\n",
    "#create a fruits table and insert data for demo purposes\n",
    "fruits_table_id = \"test-table-fruits\"\n",
    "fruits_table = instance.table(fruits_table_id)\n",
    "column_families = {\n",
    "    \"cf\": bigtable.column_family.MaxVersionsGCRule(1),\n",
    "} \n",
    "if not fruits_table.exists():\n",
    "        fruits_table.create(column_families=column_families)\n",
    "\n",
    "        columns = [\"id\", \"name\", \"color\", \"price_per_kg\", \"in_stock\"]\n",
    "        data = [\n",
    "            [1, 'Apple', 'Red', 3.5, True],\n",
    "            [2, 'Banana', 'Yellow', 1.2, True],\n",
    "            [3, 'Grapes', 'Purple', 2.8, False],\n",
    "            [4, 'Orange', 'Orange', 2.0, True],\n",
    "            [5, 'Blueberry', 'Blue', 4.0, False],\n",
    "            [6, 'Strawberry', 'Red', 3.8, True],\n",
    "            [7, 'Pineapple', 'Brown', 2.5, True],\n",
    "            [8, 'Mango', 'Yellow', 3.0, False],\n",
    "            [9, 'Watermelon', 'Green', 1.5, True],\n",
    "            [10, 'Kiwi', 'Brown', 4.2, False],\n",
    "        ]\n",
    "\n",
    "        mutations = []\n",
    "        batcher = fruits_table.mutations_batcher(max_row_bytes=1024)\n",
    "        for row in data:\n",
    "            row_key = f\"fruits#{row[0]}#{row[1]}#{row[2]}\"\n",
    "            mutation = fruits_table.direct_row(row_key)\n",
    "            for col, value in zip(columns, row):\n",
    "                mutation.set_cell(\"cf\", col.encode(\"utf-8\"), str(value).encode(\"utf-8\"))\n",
    "            mutations.append(mutation)\n",
    "        for mutation in mutations:\n",
    "            batcher.mutate(mutation)"
   ]
  },
  {
   "cell_type": "markdown",
   "id": "ad465583",
   "metadata": {},
   "source": [
    "### Usage\n",
    "\n",
    "This section demonstrates a sample usage of the Bigtable get table schema and execute query tool in the context of an LLM gemini agent.\n",
    "\n",
    "\n",
    "`Note`: If you are using a Google model (e.g., `gemini-2.5-pro`), you need to set your Google API key. \n",
    "This key is required to authenticate and access Google's Generative AI services.\n",
    "\n",
    "\n",
    "you can use the `create_react_agent` function to build a conversational agent.\n",
    "This allows you to ask follow-up questions and interact dynamically with the Bigtable data.\n",
    "\n",
    "### Steps:\n",
    "\n",
    "1. Set the `GOOGLE_API_KEY` environment variable with your API key.\n",
    "2. Use the `create_react_agent` function to initialize the agent.\n",
    "3. Provide a prompt to guide the agent's behavior.\n",
    "4. Ask questions interactively and process the responses."
   ]
  },
  {
   "cell_type": "code",
   "execution_count": null,
   "id": "fc285539",
   "metadata": {},
   "outputs": [],
   "source": [
    "# Set your Google API key\n",
    "import os\n",
    "os.environ[\"GOOGLE_API_KEY\"]  = \"\""
   ]
  },
  {
   "cell_type": "code",
   "execution_count": null,
   "id": "758b5cde",
   "metadata": {},
   "outputs": [],
   "source": [
    "# Create a conversational agent\n",
    "from langgraph.prebuilt import create_react_agent\n",
    "\n",
    "agent = create_react_agent(\n",
    "    model=\"gemini-2.5-pro\",\n",
    "    tools=[get_instances_and_table_schema_tool, execute_query_tool],\n",
    "    prompt=\"You are a helpful assistant. Make sure to process the data retrieved from the Bigtable execute query tool to answer user questions effectively.\"\n",
    ")\n",
    "\n",
    "# Ask the agent a question about the hotels table\n",
    "response = agent.invoke({\n",
    "    \"messages\": [\n",
    "        {\n",
    "            \"role\": \"user\",\n",
    "            \"content\": (\n",
    "                \"I want to figure out what hotels are luxurious. Don't ask me for any other information. Use the tools at your disposal to get the information you need.\"\n",
    "            )\n",
    "        }\n",
    "    ]\n",
    "})\n",
    "\n",
    "# Print the agent's response to debug - the result is verbose and contains all the steps the agent took to arrive at the final answer\n",
    "# print(response)"
   ]
  },
  {
   "cell_type": "code",
   "execution_count": 48,
   "id": "659d1e9d",
   "metadata": {},
   "outputs": [
    {
     "name": "stdout",
     "output_type": "stream",
     "text": [
      "Final Thought:\n",
      "==================================\u001b[1m Ai Message \u001b[0m==================================\n",
      "\n",
      "The most luxurious hotels are the Hilton Basel and the InterContinental Geneva. Other high-end hotels include the Hyatt Regency Basel, Sheraton Zurich, Marriott Zurich and Courtyard Zurich.\n",
      "\n",
      "\n",
      "All Steps:\n",
      "\n",
      "Step 1:\n",
      "================================\u001b[1m Human Message \u001b[0m=================================\n",
      "\n",
      "I want to figure out what hotels are luxurious. Don't ask me for any other information. Use the tools at your disposal to get the information you need.\n",
      "\n",
      "\n",
      "Step 2:\n",
      "==================================\u001b[1m Ai Message \u001b[0m==================================\n",
      "Tool Calls:\n",
      "  GetBigtableInstancesAndTableSchema (70cac6f7-66e1-4163-ba2e-6b54b0674c7b)\n",
      " Call ID: 70cac6f7-66e1-4163-ba2e-6b54b0674c7b\n",
      "  Args:\n",
      "\n",
      "\n",
      "Step 3:\n",
      "=================================\u001b[1m Tool Message \u001b[0m=================================\n",
      "Name: GetBigtableInstancesAndTableSchema\n",
      "\n",
      "{\"myinstance\": {\"hotel1\": {\"column_families\": [\"cf\"], \"possible_columns\": [\"cf['price_tier']\", \"cf['checkout_date']\", \"cf['location']\", \"cf['id']\", \"cf['booked']\", \"cf['checkin_date']\", \"cf['name']\"]}, \"hotels\": {\"column_families\": [\"cf\"], \"possible_columns\": [\"cf['price_tier']\", \"cf['checkout_date']\", \"cf['location']\", \"cf['id']\", \"cf['booked']\", \"cf['checkin_date']\", \"cf['name']\"]}}}\n",
      "\n",
      "\n",
      "Step 4:\n",
      "==================================\u001b[1m Ai Message \u001b[0m==================================\n",
      "Tool Calls:\n",
      "  bigtable_execute_query (e3359afb-4aed-4fd7-96e0-87a1367b8abf)\n",
      " Call ID: e3359afb-4aed-4fd7-96e0-87a1367b8abf\n",
      "  Args:\n",
      "    query: SELECT cf['name'], cf['price_tier'] FROM hotels ORDER BY cf['price_tier'] DESC\n",
      "    instance_id: myinstance\n",
      "\n",
      "\n",
      "Step 5:\n",
      "=================================\u001b[1m Tool Message \u001b[0m=================================\n",
      "Name: bigtable_execute_query\n",
      "\n",
      "[{\"$col1\": \"Marriott Zurich\", \"$col2\": \"Upscale\"}, {\"$col1\": \"Courtyard Zurich\", \"$col2\": \"Upscale\"}, {\"$col1\": \"Hyatt Regency Basel\", \"$col2\": \"Upper Upscale\"}, {\"$col1\": \"Sheraton Zurich\", \"$col2\": \"Upper Upscale\"}, {\"$col1\": \"Best Western Bern\", \"$col2\": \"Upper Midscale\"}, {\"$col1\": \"Holiday Inn Basel\", \"$col2\": \"Upper Midscale\"}, {\"$col1\": \"Comfort Inn Bern\", \"$col2\": \"Midscale\"}, {\"$col1\": \"Radisson Blu Lucerne\", \"$col2\": \"Midscale\"}, {\"$col1\": \"Hilton Basel\", \"$col2\": \"Luxury\"}, {\"$col1\": \"InterContinental Geneva\", \"$col2\": \"Luxury\"}]\n",
      "\n",
      "\n",
      "Step 6:\n",
      "==================================\u001b[1m Ai Message \u001b[0m==================================\n",
      "\n",
      "The most luxurious hotels are the Hilton Basel and the InterContinental Geneva. Other high-end hotels include the Hyatt Regency Basel, Sheraton Zurich, Marriott Zurich and Courtyard Zurich.\n",
      "\n",
      "\n"
     ]
    }
   ],
   "source": [
    "# Import the AiMessage class\n",
    "from langchain_core.messages.ai import BaseMessage\n",
    "\n",
    "\n",
    "# Print the final thought and agent return.\n",
    "final_message: BaseMessage = response[\"messages\"][-1]\n",
    "print(\"Final Thought:\")\n",
    "final_message.pretty_print()\n",
    "print(\"\\n\")\n",
    "\n",
    "\n",
    "# Print each thought.\n",
    "print(\"All Steps:\\n\")\n",
    "for i, message in enumerate(response[\"messages\"], start=1):\n",
    "    message: BaseMessage\n",
    "    print(f\"Step {i}:\")\n",
    "    message.pretty_print()\n",
    "    print(\"\\n\")\n"
   ]
  },
  {
   "cell_type": "markdown",
   "id": "4cc18651",
   "metadata": {},
   "source": [
    "### Cleanup\n",
    "\n",
    "After the tests, the `hotels` and `fruits` tables should be deleted to clean up resources."
   ]
  },
  {
   "cell_type": "code",
   "execution_count": 9,
   "id": "f9c09239",
   "metadata": {},
   "outputs": [
    {
     "name": "stdout",
     "output_type": "stream",
     "text": [
      "Table 'test-table-hotels' deleted successfully.\n",
      "Table 'test-table-fruits' deleted successfully.\n"
     ]
    }
   ],
   "source": [
    "# Cleanup tables\n",
    "def delete_table(table):\n",
    "    if table.exists():\n",
    "        table.delete()\n",
    "        print(f\"Table '{table.table_id}' deleted successfully.\")\n",
    "    else:\n",
    "        print(f\"Table '{table.table_id}' does not exist.\")\n",
    "\n",
    "delete_table(hotels_table)\n",
    "delete_table(fruits_table)"
   ]
  }
 ],
 "metadata": {
  "kernelspec": {
   "display_name": "base",
   "language": "python",
   "name": "python3"
  },
  "language_info": {
   "codemirror_mode": {
    "name": "ipython",
    "version": 3
   },
   "file_extension": ".py",
   "mimetype": "text/x-python",
   "name": "python",
   "nbconvert_exporter": "python",
   "pygments_lexer": "ipython3",
   "version": "3.13.5"
  }
 },
 "nbformat": 4,
 "nbformat_minor": 5
}

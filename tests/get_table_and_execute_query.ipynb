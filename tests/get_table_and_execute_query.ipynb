{
 "cells": [
  {
   "cell_type": "markdown",
   "id": "ff5f39c1",
   "metadata": {},
   "source": [
    "# Google Bigtable\n",
    "\n",
    "> [Bigtable](https://cloud.google.com/bigtable) is a key-value and wide-column store, ideal for fast access to structured, semi-structured, or unstructured data. Extend your database application to build AI-powered experiences leveraging Bigtable's Langchain integrations.\n",
    "\n",
    "This notebook goes over how to use an LLM agent to query [Bigtable](https://cloud.google.com/bigtable) with `BigtableGetInstancesAndTableSchemaTool` and `BigtableExecuteQueryTool`.\n"
   ]
  },
  {
   "cell_type": "markdown",
   "id": "25df1382",
   "metadata": {},
   "source": [
    "## Before You Begin\n",
    "\n",
    "To run this notebook, you will need to do the following:\n",
    "\n",
    "* [Create a Google Cloud Project](https://developers.google.com/workspace/guides/create-project)\n",
    "* [Enable the Bigtable API](https://console.cloud.google.com/flows/enableapi?apiid=bigtable.googleapis.com)\n",
    "* [Create a Bigtable instance](https://cloud.google.com/bigtable/docs/creating-instance)\n",
    "* [Create Bigtable access credentials](https://developers.google.com/workspace/guides/create-credentials)\n",
    "\n",
    "After confirming access to the database in the runtime environment of this notebook, fill in the following values and run the cell before running example scripts."
   ]
  },
  {
   "cell_type": "markdown",
   "id": "494f0ddf",
   "metadata": {},
   "source": [
    "### ☁ Set Your Google Cloud Project and Instance\n",
    "`BigtableGetInstancesAndTableSchemaTool` and `BigtableExecuteQueryTool` requires an existing project and instance."
   ]
  },
  {
   "cell_type": "code",
   "execution_count": null,
   "id": "9249e7a5",
   "metadata": {},
   "outputs": [],
   "source": [
    "# @markdown Specify a project and an instance for demo purposes.\n",
    "PROJECT_ID = \"\"  # @param {type:\"string\"}\n",
    "INSTANCE_ID = \"\"  # @param {type:\"string\"}"
   ]
  },
  {
   "cell_type": "markdown",
   "id": "83c87d24",
   "metadata": {},
   "source": [
    "### 🦜🔗 Library Installation\n",
    "\n",
    "Install the required libraries for Bigtable and LangChain integrations."
   ]
  },
  {
   "cell_type": "code",
   "execution_count": 50,
   "id": "9717d80d",
   "metadata": {},
   "outputs": [
    {
     "name": "stdout",
     "output_type": "stream",
     "text": [
      "Requirement already satisfied: google-cloud-bigtable in c:\\programdata\\anaconda3\\lib\\site-packages (2.31.0)\n",
      "Requirement already satisfied: google-api-core<3.0.0,>=2.16.0 in c:\\programdata\\anaconda3\\lib\\site-packages (from google-api-core[grpc]<3.0.0,>=2.16.0->google-cloud-bigtable) (2.25.1)\n",
      "Requirement already satisfied: google-cloud-core<3.0.0,>=1.4.4 in c:\\programdata\\anaconda3\\lib\\site-packages (from google-cloud-bigtable) (2.4.3)\n",
      "Requirement already satisfied: google-auth!=2.24.0,!=2.25.0,<3.0.0,>=2.14.1 in c:\\programdata\\anaconda3\\lib\\site-packages (from google-cloud-bigtable) (2.40.3)\n",
      "Requirement already satisfied: grpc-google-iam-v1<1.0.0,>=0.12.4 in c:\\programdata\\anaconda3\\lib\\site-packages (from google-cloud-bigtable) (0.14.2)\n",
      "Requirement already satisfied: proto-plus<2.0.0,>=1.22.3 in c:\\programdata\\anaconda3\\lib\\site-packages (from google-cloud-bigtable) (1.26.1)\n",
      "Requirement already satisfied: protobuf!=4.21.0,!=4.21.1,!=4.21.2,!=4.21.3,!=4.21.4,!=4.21.5,<7.0.0,>=3.20.2 in c:\\programdata\\anaconda3\\lib\\site-packages (from google-cloud-bigtable) (6.32.0)\n",
      "Requirement already satisfied: google-crc32c<2.0.0dev,>=1.5.0 in c:\\programdata\\anaconda3\\lib\\site-packages (from google-cloud-bigtable) (1.7.1)\n",
      "Requirement already satisfied: googleapis-common-protos<2.0.0,>=1.56.2 in c:\\programdata\\anaconda3\\lib\\site-packages (from google-api-core<3.0.0,>=2.16.0->google-api-core[grpc]<3.0.0,>=2.16.0->google-cloud-bigtable) (1.70.0)\n",
      "Requirement already satisfied: requests<3.0.0,>=2.18.0 in c:\\programdata\\anaconda3\\lib\\site-packages (from google-api-core<3.0.0,>=2.16.0->google-api-core[grpc]<3.0.0,>=2.16.0->google-cloud-bigtable) (2.32.3)\n",
      "Requirement already satisfied: grpcio<2.0.0,>=1.33.2 in c:\\programdata\\anaconda3\\lib\\site-packages (from google-api-core[grpc]<3.0.0,>=2.16.0->google-cloud-bigtable) (1.74.0)\n",
      "Requirement already satisfied: grpcio-status<2.0.0,>=1.33.2 in c:\\programdata\\anaconda3\\lib\\site-packages (from google-api-core[grpc]<3.0.0,>=2.16.0->google-cloud-bigtable) (1.74.0)\n",
      "Requirement already satisfied: cachetools<6.0,>=2.0.0 in c:\\programdata\\anaconda3\\lib\\site-packages (from google-auth!=2.24.0,!=2.25.0,<3.0.0,>=2.14.1->google-cloud-bigtable) (5.5.1)\n",
      "Requirement already satisfied: pyasn1-modules>=0.2.1 in c:\\programdata\\anaconda3\\lib\\site-packages (from google-auth!=2.24.0,!=2.25.0,<3.0.0,>=2.14.1->google-cloud-bigtable) (0.2.8)\n",
      "Requirement already satisfied: rsa<5,>=3.1.4 in c:\\programdata\\anaconda3\\lib\\site-packages (from google-auth!=2.24.0,!=2.25.0,<3.0.0,>=2.14.1->google-cloud-bigtable) (4.9.1)\n",
      "Requirement already satisfied: charset-normalizer<4,>=2 in c:\\programdata\\anaconda3\\lib\\site-packages (from requests<3.0.0,>=2.18.0->google-api-core<3.0.0,>=2.16.0->google-api-core[grpc]<3.0.0,>=2.16.0->google-cloud-bigtable) (3.3.2)\n",
      "Requirement already satisfied: idna<4,>=2.5 in c:\\programdata\\anaconda3\\lib\\site-packages (from requests<3.0.0,>=2.18.0->google-api-core<3.0.0,>=2.16.0->google-api-core[grpc]<3.0.0,>=2.16.0->google-cloud-bigtable) (3.7)\n",
      "Requirement already satisfied: urllib3<3,>=1.21.1 in c:\\programdata\\anaconda3\\lib\\site-packages (from requests<3.0.0,>=2.18.0->google-api-core<3.0.0,>=2.16.0->google-api-core[grpc]<3.0.0,>=2.16.0->google-cloud-bigtable) (2.3.0)\n",
      "Requirement already satisfied: certifi>=2017.4.17 in c:\\programdata\\anaconda3\\lib\\site-packages (from requests<3.0.0,>=2.18.0->google-api-core<3.0.0,>=2.16.0->google-api-core[grpc]<3.0.0,>=2.16.0->google-cloud-bigtable) (2025.4.26)\n",
      "Requirement already satisfied: pyasn1>=0.1.3 in c:\\programdata\\anaconda3\\lib\\site-packages (from rsa<5,>=3.1.4->google-auth!=2.24.0,!=2.25.0,<3.0.0,>=2.14.1->google-cloud-bigtable) (0.4.8)\n",
      "Note: you may need to restart the kernel to use updated packages.\n"
     ]
    },
    {
     "name": "stderr",
     "output_type": "stream",
     "text": [
      "WARNING: Ignoring invalid distribution ~angchain-core (c:\\ProgramData\\anaconda3\\Lib\\site-packages)\n",
      "WARNING: Ignoring invalid distribution ~angchain-core (c:\\ProgramData\\anaconda3\\Lib\\site-packages)\n",
      "WARNING: Ignoring invalid distribution ~angchain-core (c:\\ProgramData\\anaconda3\\Lib\\site-packages)\n"
     ]
    },
    {
     "name": "stdout",
     "output_type": "stream",
     "text": [
      "Requirement already satisfied: google-auth in c:\\programdata\\anaconda3\\lib\\site-packages (2.40.3)\n",
      "Requirement already satisfied: cachetools<6.0,>=2.0.0 in c:\\programdata\\anaconda3\\lib\\site-packages (from google-auth) (5.5.1)\n",
      "Requirement already satisfied: pyasn1-modules>=0.2.1 in c:\\programdata\\anaconda3\\lib\\site-packages (from google-auth) (0.2.8)\n",
      "Requirement already satisfied: rsa<5,>=3.1.4 in c:\\programdata\\anaconda3\\lib\\site-packages (from google-auth) (4.9.1)\n",
      "Requirement already satisfied: pyasn1>=0.1.3 in c:\\programdata\\anaconda3\\lib\\site-packages (from rsa<5,>=3.1.4->google-auth) (0.4.8)\n",
      "Note: you may need to restart the kernel to use updated packages.\n"
     ]
    },
    {
     "name": "stderr",
     "output_type": "stream",
     "text": [
      "WARNING: Ignoring invalid distribution ~angchain-core (c:\\ProgramData\\anaconda3\\Lib\\site-packages)\n",
      "WARNING: Ignoring invalid distribution ~angchain-core (c:\\ProgramData\\anaconda3\\Lib\\site-packages)\n",
      "WARNING: Ignoring invalid distribution ~angchain-core (c:\\ProgramData\\anaconda3\\Lib\\site-packages)\n"
     ]
    },
    {
     "name": "stdout",
     "output_type": "stream",
     "text": [
      "Requirement already satisfied: langchain in c:\\programdata\\anaconda3\\lib\\site-packages (0.3.27)\n",
      "Requirement already satisfied: langchain-core<1.0.0,>=0.3.72 in c:\\programdata\\anaconda3\\lib\\site-packages (from langchain) (0.3.75)\n",
      "Requirement already satisfied: langchain-text-splitters<1.0.0,>=0.3.9 in c:\\programdata\\anaconda3\\lib\\site-packages (from langchain) (0.3.9)\n",
      "Requirement already satisfied: langsmith>=0.1.17 in c:\\programdata\\anaconda3\\lib\\site-packages (from langchain) (0.4.15)\n",
      "Requirement already satisfied: pydantic<3.0.0,>=2.7.4 in c:\\programdata\\anaconda3\\lib\\site-packages (from langchain) (2.10.3)\n",
      "Requirement already satisfied: SQLAlchemy<3,>=1.4 in c:\\users\\sophi\\appdata\\roaming\\python\\python313\\site-packages (from langchain) (2.0.40)\n",
      "Requirement already satisfied: requests<3,>=2 in c:\\programdata\\anaconda3\\lib\\site-packages (from langchain) (2.32.3)\n",
      "Requirement already satisfied: PyYAML>=5.3 in c:\\programdata\\anaconda3\\lib\\site-packages (from langchain) (6.0.2)\n",
      "Requirement already satisfied: tenacity!=8.4.0,<10.0.0,>=8.1.0 in c:\\programdata\\anaconda3\\lib\\site-packages (from langchain-core<1.0.0,>=0.3.72->langchain) (9.0.0)\n",
      "Requirement already satisfied: jsonpatch<2.0,>=1.33 in c:\\programdata\\anaconda3\\lib\\site-packages (from langchain-core<1.0.0,>=0.3.72->langchain) (1.33)\n",
      "Requirement already satisfied: typing-extensions>=4.7 in c:\\users\\sophi\\appdata\\roaming\\python\\python313\\site-packages (from langchain-core<1.0.0,>=0.3.72->langchain) (4.13.2)\n",
      "Requirement already satisfied: packaging>=23.2 in c:\\users\\sophi\\appdata\\roaming\\python\\python313\\site-packages (from langchain-core<1.0.0,>=0.3.72->langchain) (25.0)\n",
      "Requirement already satisfied: jsonpointer>=1.9 in c:\\programdata\\anaconda3\\lib\\site-packages (from jsonpatch<2.0,>=1.33->langchain-core<1.0.0,>=0.3.72->langchain) (2.1)\n",
      "Requirement already satisfied: annotated-types>=0.6.0 in c:\\programdata\\anaconda3\\lib\\site-packages (from pydantic<3.0.0,>=2.7.4->langchain) (0.6.0)\n",
      "Requirement already satisfied: pydantic-core==2.27.1 in c:\\programdata\\anaconda3\\lib\\site-packages (from pydantic<3.0.0,>=2.7.4->langchain) (2.27.1)\n",
      "Requirement already satisfied: charset-normalizer<4,>=2 in c:\\programdata\\anaconda3\\lib\\site-packages (from requests<3,>=2->langchain) (3.3.2)\n",
      "Requirement already satisfied: idna<4,>=2.5 in c:\\programdata\\anaconda3\\lib\\site-packages (from requests<3,>=2->langchain) (3.7)\n",
      "Requirement already satisfied: urllib3<3,>=1.21.1 in c:\\programdata\\anaconda3\\lib\\site-packages (from requests<3,>=2->langchain) (2.3.0)\n",
      "Requirement already satisfied: certifi>=2017.4.17 in c:\\programdata\\anaconda3\\lib\\site-packages (from requests<3,>=2->langchain) (2025.4.26)\n",
      "Requirement already satisfied: greenlet>=1 in c:\\users\\sophi\\appdata\\roaming\\python\\python313\\site-packages (from SQLAlchemy<3,>=1.4->langchain) (3.2.0)\n",
      "Requirement already satisfied: httpx<1,>=0.23.0 in c:\\programdata\\anaconda3\\lib\\site-packages (from langsmith>=0.1.17->langchain) (0.28.1)\n",
      "Requirement already satisfied: orjson>=3.9.14 in c:\\programdata\\anaconda3\\lib\\site-packages (from langsmith>=0.1.17->langchain) (3.11.2)\n",
      "Requirement already satisfied: requests-toolbelt>=1.0.0 in c:\\programdata\\anaconda3\\lib\\site-packages (from langsmith>=0.1.17->langchain) (1.0.0)\n",
      "Requirement already satisfied: zstandard>=0.23.0 in c:\\programdata\\anaconda3\\lib\\site-packages (from langsmith>=0.1.17->langchain) (0.23.0)\n",
      "Requirement already satisfied: anyio in c:\\programdata\\anaconda3\\lib\\site-packages (from httpx<1,>=0.23.0->langsmith>=0.1.17->langchain) (4.10.0)\n",
      "Requirement already satisfied: httpcore==1.* in c:\\programdata\\anaconda3\\lib\\site-packages (from httpx<1,>=0.23.0->langsmith>=0.1.17->langchain) (1.0.9)\n",
      "Requirement already satisfied: h11>=0.16 in c:\\programdata\\anaconda3\\lib\\site-packages (from httpcore==1.*->httpx<1,>=0.23.0->langsmith>=0.1.17->langchain) (0.16.0)\n",
      "Requirement already satisfied: sniffio>=1.1 in c:\\programdata\\anaconda3\\lib\\site-packages (from anyio->httpx<1,>=0.23.0->langsmith>=0.1.17->langchain) (1.3.0)\n",
      "Note: you may need to restart the kernel to use updated packages.\n"
     ]
    },
    {
     "name": "stderr",
     "output_type": "stream",
     "text": [
      "WARNING: Ignoring invalid distribution ~angchain-core (c:\\ProgramData\\anaconda3\\Lib\\site-packages)\n",
      "WARNING: Ignoring invalid distribution ~angchain-core (c:\\ProgramData\\anaconda3\\Lib\\site-packages)\n",
      "WARNING: Ignoring invalid distribution ~angchain-core (c:\\ProgramData\\anaconda3\\Lib\\site-packages)\n"
     ]
    },
    {
     "name": "stdout",
     "output_type": "stream",
     "text": [
      "Requirement already satisfied: langchain-google-genai in c:\\programdata\\anaconda3\\lib\\site-packages (2.1.10)\n",
      "Requirement already satisfied: filetype<2.0.0,>=1.2.0 in c:\\programdata\\anaconda3\\lib\\site-packages (from langchain-google-genai) (1.2.0)\n",
      "Requirement already satisfied: google-ai-generativelanguage<0.7.0,>=0.6.18 in c:\\programdata\\anaconda3\\lib\\site-packages (from langchain-google-genai) (0.6.18)\n",
      "Requirement already satisfied: langchain-core<0.4.0,>=0.3.75 in c:\\programdata\\anaconda3\\lib\\site-packages (from langchain-google-genai) (0.3.75)\n",
      "Requirement already satisfied: pydantic<3,>=2 in c:\\programdata\\anaconda3\\lib\\site-packages (from langchain-google-genai) (2.10.3)\n",
      "Requirement already satisfied: google-api-core!=2.0.*,!=2.1.*,!=2.10.*,!=2.2.*,!=2.3.*,!=2.4.*,!=2.5.*,!=2.6.*,!=2.7.*,!=2.8.*,!=2.9.*,<3.0.0,>=1.34.1 in c:\\programdata\\anaconda3\\lib\\site-packages (from google-api-core[grpc]!=2.0.*,!=2.1.*,!=2.10.*,!=2.2.*,!=2.3.*,!=2.4.*,!=2.5.*,!=2.6.*,!=2.7.*,!=2.8.*,!=2.9.*,<3.0.0,>=1.34.1->google-ai-generativelanguage<0.7.0,>=0.6.18->langchain-google-genai) (2.25.1)\n",
      "Requirement already satisfied: google-auth!=2.24.0,!=2.25.0,<3.0.0,>=2.14.1 in c:\\programdata\\anaconda3\\lib\\site-packages (from google-ai-generativelanguage<0.7.0,>=0.6.18->langchain-google-genai) (2.40.3)\n",
      "Requirement already satisfied: proto-plus<2.0.0,>=1.22.3 in c:\\programdata\\anaconda3\\lib\\site-packages (from google-ai-generativelanguage<0.7.0,>=0.6.18->langchain-google-genai) (1.26.1)\n",
      "Requirement already satisfied: protobuf!=4.21.0,!=4.21.1,!=4.21.2,!=4.21.3,!=4.21.4,!=4.21.5,<7.0.0,>=3.20.2 in c:\\programdata\\anaconda3\\lib\\site-packages (from google-ai-generativelanguage<0.7.0,>=0.6.18->langchain-google-genai) (6.32.0)\n",
      "Requirement already satisfied: googleapis-common-protos<2.0.0,>=1.56.2 in c:\\programdata\\anaconda3\\lib\\site-packages (from google-api-core!=2.0.*,!=2.1.*,!=2.10.*,!=2.2.*,!=2.3.*,!=2.4.*,!=2.5.*,!=2.6.*,!=2.7.*,!=2.8.*,!=2.9.*,<3.0.0,>=1.34.1->google-api-core[grpc]!=2.0.*,!=2.1.*,!=2.10.*,!=2.2.*,!=2.3.*,!=2.4.*,!=2.5.*,!=2.6.*,!=2.7.*,!=2.8.*,!=2.9.*,<3.0.0,>=1.34.1->google-ai-generativelanguage<0.7.0,>=0.6.18->langchain-google-genai) (1.70.0)\n",
      "Requirement already satisfied: requests<3.0.0,>=2.18.0 in c:\\programdata\\anaconda3\\lib\\site-packages (from google-api-core!=2.0.*,!=2.1.*,!=2.10.*,!=2.2.*,!=2.3.*,!=2.4.*,!=2.5.*,!=2.6.*,!=2.7.*,!=2.8.*,!=2.9.*,<3.0.0,>=1.34.1->google-api-core[grpc]!=2.0.*,!=2.1.*,!=2.10.*,!=2.2.*,!=2.3.*,!=2.4.*,!=2.5.*,!=2.6.*,!=2.7.*,!=2.8.*,!=2.9.*,<3.0.0,>=1.34.1->google-ai-generativelanguage<0.7.0,>=0.6.18->langchain-google-genai) (2.32.3)\n",
      "Requirement already satisfied: grpcio<2.0.0,>=1.33.2 in c:\\programdata\\anaconda3\\lib\\site-packages (from google-api-core[grpc]!=2.0.*,!=2.1.*,!=2.10.*,!=2.2.*,!=2.3.*,!=2.4.*,!=2.5.*,!=2.6.*,!=2.7.*,!=2.8.*,!=2.9.*,<3.0.0,>=1.34.1->google-ai-generativelanguage<0.7.0,>=0.6.18->langchain-google-genai) (1.74.0)\n",
      "Requirement already satisfied: grpcio-status<2.0.0,>=1.33.2 in c:\\programdata\\anaconda3\\lib\\site-packages (from google-api-core[grpc]!=2.0.*,!=2.1.*,!=2.10.*,!=2.2.*,!=2.3.*,!=2.4.*,!=2.5.*,!=2.6.*,!=2.7.*,!=2.8.*,!=2.9.*,<3.0.0,>=1.34.1->google-ai-generativelanguage<0.7.0,>=0.6.18->langchain-google-genai) (1.74.0)\n",
      "Requirement already satisfied: cachetools<6.0,>=2.0.0 in c:\\programdata\\anaconda3\\lib\\site-packages (from google-auth!=2.24.0,!=2.25.0,<3.0.0,>=2.14.1->google-ai-generativelanguage<0.7.0,>=0.6.18->langchain-google-genai) (5.5.1)\n",
      "Requirement already satisfied: pyasn1-modules>=0.2.1 in c:\\programdata\\anaconda3\\lib\\site-packages (from google-auth!=2.24.0,!=2.25.0,<3.0.0,>=2.14.1->google-ai-generativelanguage<0.7.0,>=0.6.18->langchain-google-genai) (0.2.8)\n",
      "Requirement already satisfied: rsa<5,>=3.1.4 in c:\\programdata\\anaconda3\\lib\\site-packages (from google-auth!=2.24.0,!=2.25.0,<3.0.0,>=2.14.1->google-ai-generativelanguage<0.7.0,>=0.6.18->langchain-google-genai) (4.9.1)\n",
      "Requirement already satisfied: langsmith>=0.3.45 in c:\\programdata\\anaconda3\\lib\\site-packages (from langchain-core<0.4.0,>=0.3.75->langchain-google-genai) (0.4.15)\n",
      "Requirement already satisfied: tenacity!=8.4.0,<10.0.0,>=8.1.0 in c:\\programdata\\anaconda3\\lib\\site-packages (from langchain-core<0.4.0,>=0.3.75->langchain-google-genai) (9.0.0)\n",
      "Requirement already satisfied: jsonpatch<2.0,>=1.33 in c:\\programdata\\anaconda3\\lib\\site-packages (from langchain-core<0.4.0,>=0.3.75->langchain-google-genai) (1.33)\n",
      "Requirement already satisfied: PyYAML>=5.3 in c:\\programdata\\anaconda3\\lib\\site-packages (from langchain-core<0.4.0,>=0.3.75->langchain-google-genai) (6.0.2)\n",
      "Requirement already satisfied: typing-extensions>=4.7 in c:\\users\\sophi\\appdata\\roaming\\python\\python313\\site-packages (from langchain-core<0.4.0,>=0.3.75->langchain-google-genai) (4.13.2)\n",
      "Requirement already satisfied: packaging>=23.2 in c:\\users\\sophi\\appdata\\roaming\\python\\python313\\site-packages (from langchain-core<0.4.0,>=0.3.75->langchain-google-genai) (25.0)\n",
      "Requirement already satisfied: jsonpointer>=1.9 in c:\\programdata\\anaconda3\\lib\\site-packages (from jsonpatch<2.0,>=1.33->langchain-core<0.4.0,>=0.3.75->langchain-google-genai) (2.1)\n",
      "Requirement already satisfied: annotated-types>=0.6.0 in c:\\programdata\\anaconda3\\lib\\site-packages (from pydantic<3,>=2->langchain-google-genai) (0.6.0)\n",
      "Requirement already satisfied: pydantic-core==2.27.1 in c:\\programdata\\anaconda3\\lib\\site-packages (from pydantic<3,>=2->langchain-google-genai) (2.27.1)\n",
      "Requirement already satisfied: charset-normalizer<4,>=2 in c:\\programdata\\anaconda3\\lib\\site-packages (from requests<3.0.0,>=2.18.0->google-api-core!=2.0.*,!=2.1.*,!=2.10.*,!=2.2.*,!=2.3.*,!=2.4.*,!=2.5.*,!=2.6.*,!=2.7.*,!=2.8.*,!=2.9.*,<3.0.0,>=1.34.1->google-api-core[grpc]!=2.0.*,!=2.1.*,!=2.10.*,!=2.2.*,!=2.3.*,!=2.4.*,!=2.5.*,!=2.6.*,!=2.7.*,!=2.8.*,!=2.9.*,<3.0.0,>=1.34.1->google-ai-generativelanguage<0.7.0,>=0.6.18->langchain-google-genai) (3.3.2)\n",
      "Requirement already satisfied: idna<4,>=2.5 in c:\\programdata\\anaconda3\\lib\\site-packages (from requests<3.0.0,>=2.18.0->google-api-core!=2.0.*,!=2.1.*,!=2.10.*,!=2.2.*,!=2.3.*,!=2.4.*,!=2.5.*,!=2.6.*,!=2.7.*,!=2.8.*,!=2.9.*,<3.0.0,>=1.34.1->google-api-core[grpc]!=2.0.*,!=2.1.*,!=2.10.*,!=2.2.*,!=2.3.*,!=2.4.*,!=2.5.*,!=2.6.*,!=2.7.*,!=2.8.*,!=2.9.*,<3.0.0,>=1.34.1->google-ai-generativelanguage<0.7.0,>=0.6.18->langchain-google-genai) (3.7)\n",
      "Requirement already satisfied: urllib3<3,>=1.21.1 in c:\\programdata\\anaconda3\\lib\\site-packages (from requests<3.0.0,>=2.18.0->google-api-core!=2.0.*,!=2.1.*,!=2.10.*,!=2.2.*,!=2.3.*,!=2.4.*,!=2.5.*,!=2.6.*,!=2.7.*,!=2.8.*,!=2.9.*,<3.0.0,>=1.34.1->google-api-core[grpc]!=2.0.*,!=2.1.*,!=2.10.*,!=2.2.*,!=2.3.*,!=2.4.*,!=2.5.*,!=2.6.*,!=2.7.*,!=2.8.*,!=2.9.*,<3.0.0,>=1.34.1->google-ai-generativelanguage<0.7.0,>=0.6.18->langchain-google-genai) (2.3.0)\n",
      "Requirement already satisfied: certifi>=2017.4.17 in c:\\programdata\\anaconda3\\lib\\site-packages (from requests<3.0.0,>=2.18.0->google-api-core!=2.0.*,!=2.1.*,!=2.10.*,!=2.2.*,!=2.3.*,!=2.4.*,!=2.5.*,!=2.6.*,!=2.7.*,!=2.8.*,!=2.9.*,<3.0.0,>=1.34.1->google-api-core[grpc]!=2.0.*,!=2.1.*,!=2.10.*,!=2.2.*,!=2.3.*,!=2.4.*,!=2.5.*,!=2.6.*,!=2.7.*,!=2.8.*,!=2.9.*,<3.0.0,>=1.34.1->google-ai-generativelanguage<0.7.0,>=0.6.18->langchain-google-genai) (2025.4.26)\n",
      "Requirement already satisfied: pyasn1>=0.1.3 in c:\\programdata\\anaconda3\\lib\\site-packages (from rsa<5,>=3.1.4->google-auth!=2.24.0,!=2.25.0,<3.0.0,>=2.14.1->google-ai-generativelanguage<0.7.0,>=0.6.18->langchain-google-genai) (0.4.8)\n",
      "Requirement already satisfied: httpx<1,>=0.23.0 in c:\\programdata\\anaconda3\\lib\\site-packages (from langsmith>=0.3.45->langchain-core<0.4.0,>=0.3.75->langchain-google-genai) (0.28.1)\n",
      "Requirement already satisfied: orjson>=3.9.14 in c:\\programdata\\anaconda3\\lib\\site-packages (from langsmith>=0.3.45->langchain-core<0.4.0,>=0.3.75->langchain-google-genai) (3.11.2)\n",
      "Requirement already satisfied: requests-toolbelt>=1.0.0 in c:\\programdata\\anaconda3\\lib\\site-packages (from langsmith>=0.3.45->langchain-core<0.4.0,>=0.3.75->langchain-google-genai) (1.0.0)\n",
      "Requirement already satisfied: zstandard>=0.23.0 in c:\\programdata\\anaconda3\\lib\\site-packages (from langsmith>=0.3.45->langchain-core<0.4.0,>=0.3.75->langchain-google-genai) (0.23.0)\n",
      "Requirement already satisfied: anyio in c:\\programdata\\anaconda3\\lib\\site-packages (from httpx<1,>=0.23.0->langsmith>=0.3.45->langchain-core<0.4.0,>=0.3.75->langchain-google-genai) (4.10.0)\n",
      "Requirement already satisfied: httpcore==1.* in c:\\programdata\\anaconda3\\lib\\site-packages (from httpx<1,>=0.23.0->langsmith>=0.3.45->langchain-core<0.4.0,>=0.3.75->langchain-google-genai) (1.0.9)\n",
      "Requirement already satisfied: h11>=0.16 in c:\\programdata\\anaconda3\\lib\\site-packages (from httpcore==1.*->httpx<1,>=0.23.0->langsmith>=0.3.45->langchain-core<0.4.0,>=0.3.75->langchain-google-genai) (0.16.0)\n",
      "Requirement already satisfied: sniffio>=1.1 in c:\\programdata\\anaconda3\\lib\\site-packages (from anyio->httpx<1,>=0.23.0->langsmith>=0.3.45->langchain-core<0.4.0,>=0.3.75->langchain-google-genai) (1.3.0)\n",
      "Note: you may need to restart the kernel to use updated packages.\n"
     ]
    },
    {
     "name": "stderr",
     "output_type": "stream",
     "text": [
      "WARNING: Ignoring invalid distribution ~angchain-core (c:\\ProgramData\\anaconda3\\Lib\\site-packages)\n",
      "WARNING: Ignoring invalid distribution ~angchain-core (c:\\ProgramData\\anaconda3\\Lib\\site-packages)\n",
      "WARNING: Ignoring invalid distribution ~angchain-core (c:\\ProgramData\\anaconda3\\Lib\\site-packages)\n"
     ]
    },
    {
     "name": "stdout",
     "output_type": "stream",
     "text": [
      "Requirement already satisfied: langgraph in c:\\programdata\\anaconda3\\lib\\site-packages (0.6.6)\n",
      "Requirement already satisfied: langchain-google-genai in c:\\programdata\\anaconda3\\lib\\site-packages (2.1.10)\n",
      "Requirement already satisfied: langchain-core>=0.1 in c:\\programdata\\anaconda3\\lib\\site-packages (from langgraph) (0.3.75)\n",
      "Requirement already satisfied: langgraph-checkpoint<3.0.0,>=2.1.0 in c:\\programdata\\anaconda3\\lib\\site-packages (from langgraph) (2.1.1)\n",
      "Requirement already satisfied: langgraph-prebuilt<0.7.0,>=0.6.0 in c:\\programdata\\anaconda3\\lib\\site-packages (from langgraph) (0.6.4)\n",
      "Requirement already satisfied: langgraph-sdk<0.3.0,>=0.2.2 in c:\\programdata\\anaconda3\\lib\\site-packages (from langgraph) (0.2.3)\n",
      "Requirement already satisfied: pydantic>=2.7.4 in c:\\programdata\\anaconda3\\lib\\site-packages (from langgraph) (2.10.3)\n",
      "Requirement already satisfied: xxhash>=3.5.0 in c:\\programdata\\anaconda3\\lib\\site-packages (from langgraph) (3.5.0)\n",
      "Requirement already satisfied: ormsgpack>=1.10.0 in c:\\programdata\\anaconda3\\lib\\site-packages (from langgraph-checkpoint<3.0.0,>=2.1.0->langgraph) (1.10.0)\n",
      "Requirement already satisfied: httpx>=0.25.2 in c:\\programdata\\anaconda3\\lib\\site-packages (from langgraph-sdk<0.3.0,>=0.2.2->langgraph) (0.28.1)\n",
      "Requirement already satisfied: orjson>=3.10.1 in c:\\programdata\\anaconda3\\lib\\site-packages (from langgraph-sdk<0.3.0,>=0.2.2->langgraph) (3.11.2)\n",
      "Requirement already satisfied: filetype<2.0.0,>=1.2.0 in c:\\programdata\\anaconda3\\lib\\site-packages (from langchain-google-genai) (1.2.0)\n",
      "Requirement already satisfied: google-ai-generativelanguage<0.7.0,>=0.6.18 in c:\\programdata\\anaconda3\\lib\\site-packages (from langchain-google-genai) (0.6.18)\n",
      "Requirement already satisfied: google-api-core!=2.0.*,!=2.1.*,!=2.10.*,!=2.2.*,!=2.3.*,!=2.4.*,!=2.5.*,!=2.6.*,!=2.7.*,!=2.8.*,!=2.9.*,<3.0.0,>=1.34.1 in c:\\programdata\\anaconda3\\lib\\site-packages (from google-api-core[grpc]!=2.0.*,!=2.1.*,!=2.10.*,!=2.2.*,!=2.3.*,!=2.4.*,!=2.5.*,!=2.6.*,!=2.7.*,!=2.8.*,!=2.9.*,<3.0.0,>=1.34.1->google-ai-generativelanguage<0.7.0,>=0.6.18->langchain-google-genai) (2.25.1)\n",
      "Requirement already satisfied: google-auth!=2.24.0,!=2.25.0,<3.0.0,>=2.14.1 in c:\\programdata\\anaconda3\\lib\\site-packages (from google-ai-generativelanguage<0.7.0,>=0.6.18->langchain-google-genai) (2.40.3)\n",
      "Requirement already satisfied: proto-plus<2.0.0,>=1.22.3 in c:\\programdata\\anaconda3\\lib\\site-packages (from google-ai-generativelanguage<0.7.0,>=0.6.18->langchain-google-genai) (1.26.1)\n",
      "Requirement already satisfied: protobuf!=4.21.0,!=4.21.1,!=4.21.2,!=4.21.3,!=4.21.4,!=4.21.5,<7.0.0,>=3.20.2 in c:\\programdata\\anaconda3\\lib\\site-packages (from google-ai-generativelanguage<0.7.0,>=0.6.18->langchain-google-genai) (6.32.0)\n",
      "Requirement already satisfied: googleapis-common-protos<2.0.0,>=1.56.2 in c:\\programdata\\anaconda3\\lib\\site-packages (from google-api-core!=2.0.*,!=2.1.*,!=2.10.*,!=2.2.*,!=2.3.*,!=2.4.*,!=2.5.*,!=2.6.*,!=2.7.*,!=2.8.*,!=2.9.*,<3.0.0,>=1.34.1->google-api-core[grpc]!=2.0.*,!=2.1.*,!=2.10.*,!=2.2.*,!=2.3.*,!=2.4.*,!=2.5.*,!=2.6.*,!=2.7.*,!=2.8.*,!=2.9.*,<3.0.0,>=1.34.1->google-ai-generativelanguage<0.7.0,>=0.6.18->langchain-google-genai) (1.70.0)\n",
      "Requirement already satisfied: requests<3.0.0,>=2.18.0 in c:\\programdata\\anaconda3\\lib\\site-packages (from google-api-core!=2.0.*,!=2.1.*,!=2.10.*,!=2.2.*,!=2.3.*,!=2.4.*,!=2.5.*,!=2.6.*,!=2.7.*,!=2.8.*,!=2.9.*,<3.0.0,>=1.34.1->google-api-core[grpc]!=2.0.*,!=2.1.*,!=2.10.*,!=2.2.*,!=2.3.*,!=2.4.*,!=2.5.*,!=2.6.*,!=2.7.*,!=2.8.*,!=2.9.*,<3.0.0,>=1.34.1->google-ai-generativelanguage<0.7.0,>=0.6.18->langchain-google-genai) (2.32.3)\n",
      "Requirement already satisfied: grpcio<2.0.0,>=1.33.2 in c:\\programdata\\anaconda3\\lib\\site-packages (from google-api-core[grpc]!=2.0.*,!=2.1.*,!=2.10.*,!=2.2.*,!=2.3.*,!=2.4.*,!=2.5.*,!=2.6.*,!=2.7.*,!=2.8.*,!=2.9.*,<3.0.0,>=1.34.1->google-ai-generativelanguage<0.7.0,>=0.6.18->langchain-google-genai) (1.74.0)\n",
      "Requirement already satisfied: grpcio-status<2.0.0,>=1.33.2 in c:\\programdata\\anaconda3\\lib\\site-packages (from google-api-core[grpc]!=2.0.*,!=2.1.*,!=2.10.*,!=2.2.*,!=2.3.*,!=2.4.*,!=2.5.*,!=2.6.*,!=2.7.*,!=2.8.*,!=2.9.*,<3.0.0,>=1.34.1->google-ai-generativelanguage<0.7.0,>=0.6.18->langchain-google-genai) (1.74.0)\n",
      "Requirement already satisfied: cachetools<6.0,>=2.0.0 in c:\\programdata\\anaconda3\\lib\\site-packages (from google-auth!=2.24.0,!=2.25.0,<3.0.0,>=2.14.1->google-ai-generativelanguage<0.7.0,>=0.6.18->langchain-google-genai) (5.5.1)\n",
      "Requirement already satisfied: pyasn1-modules>=0.2.1 in c:\\programdata\\anaconda3\\lib\\site-packages (from google-auth!=2.24.0,!=2.25.0,<3.0.0,>=2.14.1->google-ai-generativelanguage<0.7.0,>=0.6.18->langchain-google-genai) (0.2.8)\n",
      "Requirement already satisfied: rsa<5,>=3.1.4 in c:\\programdata\\anaconda3\\lib\\site-packages (from google-auth!=2.24.0,!=2.25.0,<3.0.0,>=2.14.1->google-ai-generativelanguage<0.7.0,>=0.6.18->langchain-google-genai) (4.9.1)\n",
      "Requirement already satisfied: langsmith>=0.3.45 in c:\\programdata\\anaconda3\\lib\\site-packages (from langchain-core>=0.1->langgraph) (0.4.15)\n",
      "Requirement already satisfied: tenacity!=8.4.0,<10.0.0,>=8.1.0 in c:\\programdata\\anaconda3\\lib\\site-packages (from langchain-core>=0.1->langgraph) (9.0.0)\n",
      "Requirement already satisfied: jsonpatch<2.0,>=1.33 in c:\\programdata\\anaconda3\\lib\\site-packages (from langchain-core>=0.1->langgraph) (1.33)\n",
      "Requirement already satisfied: PyYAML>=5.3 in c:\\programdata\\anaconda3\\lib\\site-packages (from langchain-core>=0.1->langgraph) (6.0.2)\n",
      "Requirement already satisfied: typing-extensions>=4.7 in c:\\users\\sophi\\appdata\\roaming\\python\\python313\\site-packages (from langchain-core>=0.1->langgraph) (4.13.2)\n",
      "Requirement already satisfied: packaging>=23.2 in c:\\users\\sophi\\appdata\\roaming\\python\\python313\\site-packages (from langchain-core>=0.1->langgraph) (25.0)\n",
      "Requirement already satisfied: jsonpointer>=1.9 in c:\\programdata\\anaconda3\\lib\\site-packages (from jsonpatch<2.0,>=1.33->langchain-core>=0.1->langgraph) (2.1)\n",
      "Requirement already satisfied: annotated-types>=0.6.0 in c:\\programdata\\anaconda3\\lib\\site-packages (from pydantic>=2.7.4->langgraph) (0.6.0)\n",
      "Requirement already satisfied: pydantic-core==2.27.1 in c:\\programdata\\anaconda3\\lib\\site-packages (from pydantic>=2.7.4->langgraph) (2.27.1)\n",
      "Requirement already satisfied: charset-normalizer<4,>=2 in c:\\programdata\\anaconda3\\lib\\site-packages (from requests<3.0.0,>=2.18.0->google-api-core!=2.0.*,!=2.1.*,!=2.10.*,!=2.2.*,!=2.3.*,!=2.4.*,!=2.5.*,!=2.6.*,!=2.7.*,!=2.8.*,!=2.9.*,<3.0.0,>=1.34.1->google-api-core[grpc]!=2.0.*,!=2.1.*,!=2.10.*,!=2.2.*,!=2.3.*,!=2.4.*,!=2.5.*,!=2.6.*,!=2.7.*,!=2.8.*,!=2.9.*,<3.0.0,>=1.34.1->google-ai-generativelanguage<0.7.0,>=0.6.18->langchain-google-genai) (3.3.2)\n",
      "Requirement already satisfied: idna<4,>=2.5 in c:\\programdata\\anaconda3\\lib\\site-packages (from requests<3.0.0,>=2.18.0->google-api-core!=2.0.*,!=2.1.*,!=2.10.*,!=2.2.*,!=2.3.*,!=2.4.*,!=2.5.*,!=2.6.*,!=2.7.*,!=2.8.*,!=2.9.*,<3.0.0,>=1.34.1->google-api-core[grpc]!=2.0.*,!=2.1.*,!=2.10.*,!=2.2.*,!=2.3.*,!=2.4.*,!=2.5.*,!=2.6.*,!=2.7.*,!=2.8.*,!=2.9.*,<3.0.0,>=1.34.1->google-ai-generativelanguage<0.7.0,>=0.6.18->langchain-google-genai) (3.7)\n",
      "Requirement already satisfied: urllib3<3,>=1.21.1 in c:\\programdata\\anaconda3\\lib\\site-packages (from requests<3.0.0,>=2.18.0->google-api-core!=2.0.*,!=2.1.*,!=2.10.*,!=2.2.*,!=2.3.*,!=2.4.*,!=2.5.*,!=2.6.*,!=2.7.*,!=2.8.*,!=2.9.*,<3.0.0,>=1.34.1->google-api-core[grpc]!=2.0.*,!=2.1.*,!=2.10.*,!=2.2.*,!=2.3.*,!=2.4.*,!=2.5.*,!=2.6.*,!=2.7.*,!=2.8.*,!=2.9.*,<3.0.0,>=1.34.1->google-ai-generativelanguage<0.7.0,>=0.6.18->langchain-google-genai) (2.3.0)\n",
      "Requirement already satisfied: certifi>=2017.4.17 in c:\\programdata\\anaconda3\\lib\\site-packages (from requests<3.0.0,>=2.18.0->google-api-core!=2.0.*,!=2.1.*,!=2.10.*,!=2.2.*,!=2.3.*,!=2.4.*,!=2.5.*,!=2.6.*,!=2.7.*,!=2.8.*,!=2.9.*,<3.0.0,>=1.34.1->google-api-core[grpc]!=2.0.*,!=2.1.*,!=2.10.*,!=2.2.*,!=2.3.*,!=2.4.*,!=2.5.*,!=2.6.*,!=2.7.*,!=2.8.*,!=2.9.*,<3.0.0,>=1.34.1->google-ai-generativelanguage<0.7.0,>=0.6.18->langchain-google-genai) (2025.4.26)\n",
      "Requirement already satisfied: pyasn1>=0.1.3 in c:\\programdata\\anaconda3\\lib\\site-packages (from rsa<5,>=3.1.4->google-auth!=2.24.0,!=2.25.0,<3.0.0,>=2.14.1->google-ai-generativelanguage<0.7.0,>=0.6.18->langchain-google-genai) (0.4.8)\n",
      "Requirement already satisfied: anyio in c:\\programdata\\anaconda3\\lib\\site-packages (from httpx>=0.25.2->langgraph-sdk<0.3.0,>=0.2.2->langgraph) (4.10.0)\n",
      "Requirement already satisfied: httpcore==1.* in c:\\programdata\\anaconda3\\lib\\site-packages (from httpx>=0.25.2->langgraph-sdk<0.3.0,>=0.2.2->langgraph) (1.0.9)\n",
      "Requirement already satisfied: h11>=0.16 in c:\\programdata\\anaconda3\\lib\\site-packages (from httpcore==1.*->httpx>=0.25.2->langgraph-sdk<0.3.0,>=0.2.2->langgraph) (0.16.0)\n",
      "Requirement already satisfied: requests-toolbelt>=1.0.0 in c:\\programdata\\anaconda3\\lib\\site-packages (from langsmith>=0.3.45->langchain-core>=0.1->langgraph) (1.0.0)\n",
      "Requirement already satisfied: zstandard>=0.23.0 in c:\\programdata\\anaconda3\\lib\\site-packages (from langsmith>=0.3.45->langchain-core>=0.1->langgraph) (0.23.0)\n",
      "Requirement already satisfied: sniffio>=1.1 in c:\\programdata\\anaconda3\\lib\\site-packages (from anyio->httpx>=0.25.2->langgraph-sdk<0.3.0,>=0.2.2->langgraph) (1.3.0)\n",
      "Note: you may need to restart the kernel to use updated packages.\n"
     ]
    },
    {
     "name": "stderr",
     "output_type": "stream",
     "text": [
      "WARNING: Ignoring invalid distribution ~angchain-core (c:\\ProgramData\\anaconda3\\Lib\\site-packages)\n",
      "WARNING: Ignoring invalid distribution ~angchain-core (c:\\ProgramData\\anaconda3\\Lib\\site-packages)\n",
      "WARNING: Ignoring invalid distribution ~angchain-core (c:\\ProgramData\\anaconda3\\Lib\\site-packages)\n"
     ]
    },
    {
     "name": "stdout",
     "output_type": "stream",
     "text": [
      "Requirement already satisfied: langchain-google-vertexai in c:\\programdata\\anaconda3\\lib\\site-packages (2.0.28)\n",
      "Requirement already satisfied: bottleneck<2.0.0,>=1.4.2 in c:\\programdata\\anaconda3\\lib\\site-packages (from langchain-google-vertexai) (1.4.2)\n",
      "Requirement already satisfied: google-cloud-aiplatform<2.0.0,>=1.97.0 in c:\\programdata\\anaconda3\\lib\\site-packages (from langchain-google-vertexai) (1.110.0)\n",
      "Requirement already satisfied: google-cloud-storage<3.0.0,>=2.18.0 in c:\\programdata\\anaconda3\\lib\\site-packages (from langchain-google-vertexai) (2.19.0)\n",
      "Requirement already satisfied: httpx<0.29.0,>=0.28.0 in c:\\programdata\\anaconda3\\lib\\site-packages (from langchain-google-vertexai) (0.28.1)\n",
      "Requirement already satisfied: httpx-sse<0.5.0,>=0.4.0 in c:\\programdata\\anaconda3\\lib\\site-packages (from langchain-google-vertexai) (0.4.1)\n",
      "Requirement already satisfied: langchain-core<0.4,>=0.3.67 in c:\\programdata\\anaconda3\\lib\\site-packages (from langchain-google-vertexai) (0.3.75)\n",
      "Requirement already satisfied: numexpr<3.0.0,>=2.8.6 in c:\\programdata\\anaconda3\\lib\\site-packages (from langchain-google-vertexai) (2.10.1)\n",
      "Requirement already satisfied: pyarrow<20.0.0,>=19.0.1 in c:\\programdata\\anaconda3\\lib\\site-packages (from langchain-google-vertexai) (19.0.1)\n",
      "Requirement already satisfied: pydantic<3.0,>=2.9 in c:\\programdata\\anaconda3\\lib\\site-packages (from langchain-google-vertexai) (2.10.3)\n",
      "Requirement already satisfied: validators<1,>=0.22.0 in c:\\programdata\\anaconda3\\lib\\site-packages (from langchain-google-vertexai) (0.35.0)\n",
      "Requirement already satisfied: numpy in c:\\programdata\\anaconda3\\lib\\site-packages (from bottleneck<2.0.0,>=1.4.2->langchain-google-vertexai) (2.1.3)\n",
      "Requirement already satisfied: google-api-core!=2.0.*,!=2.1.*,!=2.2.*,!=2.3.*,!=2.4.*,!=2.5.*,!=2.6.*,!=2.7.*,<3.0.0,>=1.34.1 in c:\\programdata\\anaconda3\\lib\\site-packages (from google-api-core[grpc]!=2.0.*,!=2.1.*,!=2.2.*,!=2.3.*,!=2.4.*,!=2.5.*,!=2.6.*,!=2.7.*,<3.0.0,>=1.34.1->google-cloud-aiplatform<2.0.0,>=1.97.0->langchain-google-vertexai) (2.25.1)\n",
      "Requirement already satisfied: google-auth<3.0.0,>=2.14.1 in c:\\programdata\\anaconda3\\lib\\site-packages (from google-cloud-aiplatform<2.0.0,>=1.97.0->langchain-google-vertexai) (2.40.3)\n",
      "Requirement already satisfied: proto-plus<2.0.0,>=1.22.3 in c:\\programdata\\anaconda3\\lib\\site-packages (from google-cloud-aiplatform<2.0.0,>=1.97.0->langchain-google-vertexai) (1.26.1)\n",
      "Requirement already satisfied: protobuf!=4.21.0,!=4.21.1,!=4.21.2,!=4.21.3,!=4.21.4,!=4.21.5,<7.0.0,>=3.20.2 in c:\\programdata\\anaconda3\\lib\\site-packages (from google-cloud-aiplatform<2.0.0,>=1.97.0->langchain-google-vertexai) (6.32.0)\n",
      "Requirement already satisfied: packaging>=14.3 in c:\\users\\sophi\\appdata\\roaming\\python\\python313\\site-packages (from google-cloud-aiplatform<2.0.0,>=1.97.0->langchain-google-vertexai) (25.0)\n",
      "Requirement already satisfied: google-cloud-bigquery!=3.20.0,<4.0.0,>=1.15.0 in c:\\programdata\\anaconda3\\lib\\site-packages (from google-cloud-aiplatform<2.0.0,>=1.97.0->langchain-google-vertexai) (3.36.0)\n",
      "Requirement already satisfied: google-cloud-resource-manager<3.0.0,>=1.3.3 in c:\\programdata\\anaconda3\\lib\\site-packages (from google-cloud-aiplatform<2.0.0,>=1.97.0->langchain-google-vertexai) (1.14.2)\n",
      "Requirement already satisfied: shapely<3.0.0 in c:\\programdata\\anaconda3\\lib\\site-packages (from google-cloud-aiplatform<2.0.0,>=1.97.0->langchain-google-vertexai) (2.1.1)\n",
      "Requirement already satisfied: google-genai<2.0.0,>=1.0.0 in c:\\programdata\\anaconda3\\lib\\site-packages (from google-cloud-aiplatform<2.0.0,>=1.97.0->langchain-google-vertexai) (1.31.0)\n",
      "Requirement already satisfied: typing_extensions in c:\\users\\sophi\\appdata\\roaming\\python\\python313\\site-packages (from google-cloud-aiplatform<2.0.0,>=1.97.0->langchain-google-vertexai) (4.13.2)\n",
      "Requirement already satisfied: docstring_parser<1 in c:\\programdata\\anaconda3\\lib\\site-packages (from google-cloud-aiplatform<2.0.0,>=1.97.0->langchain-google-vertexai) (0.17.0)\n",
      "Requirement already satisfied: googleapis-common-protos<2.0.0,>=1.56.2 in c:\\programdata\\anaconda3\\lib\\site-packages (from google-api-core!=2.0.*,!=2.1.*,!=2.2.*,!=2.3.*,!=2.4.*,!=2.5.*,!=2.6.*,!=2.7.*,<3.0.0,>=1.34.1->google-api-core[grpc]!=2.0.*,!=2.1.*,!=2.2.*,!=2.3.*,!=2.4.*,!=2.5.*,!=2.6.*,!=2.7.*,<3.0.0,>=1.34.1->google-cloud-aiplatform<2.0.0,>=1.97.0->langchain-google-vertexai) (1.70.0)\n",
      "Requirement already satisfied: requests<3.0.0,>=2.18.0 in c:\\programdata\\anaconda3\\lib\\site-packages (from google-api-core!=2.0.*,!=2.1.*,!=2.2.*,!=2.3.*,!=2.4.*,!=2.5.*,!=2.6.*,!=2.7.*,<3.0.0,>=1.34.1->google-api-core[grpc]!=2.0.*,!=2.1.*,!=2.2.*,!=2.3.*,!=2.4.*,!=2.5.*,!=2.6.*,!=2.7.*,<3.0.0,>=1.34.1->google-cloud-aiplatform<2.0.0,>=1.97.0->langchain-google-vertexai) (2.32.3)\n",
      "Requirement already satisfied: grpcio<2.0.0,>=1.33.2 in c:\\programdata\\anaconda3\\lib\\site-packages (from google-api-core[grpc]!=2.0.*,!=2.1.*,!=2.2.*,!=2.3.*,!=2.4.*,!=2.5.*,!=2.6.*,!=2.7.*,<3.0.0,>=1.34.1->google-cloud-aiplatform<2.0.0,>=1.97.0->langchain-google-vertexai) (1.74.0)\n",
      "Requirement already satisfied: grpcio-status<2.0.0,>=1.33.2 in c:\\programdata\\anaconda3\\lib\\site-packages (from google-api-core[grpc]!=2.0.*,!=2.1.*,!=2.2.*,!=2.3.*,!=2.4.*,!=2.5.*,!=2.6.*,!=2.7.*,<3.0.0,>=1.34.1->google-cloud-aiplatform<2.0.0,>=1.97.0->langchain-google-vertexai) (1.74.0)\n",
      "Requirement already satisfied: cachetools<6.0,>=2.0.0 in c:\\programdata\\anaconda3\\lib\\site-packages (from google-auth<3.0.0,>=2.14.1->google-cloud-aiplatform<2.0.0,>=1.97.0->langchain-google-vertexai) (5.5.1)\n",
      "Requirement already satisfied: pyasn1-modules>=0.2.1 in c:\\programdata\\anaconda3\\lib\\site-packages (from google-auth<3.0.0,>=2.14.1->google-cloud-aiplatform<2.0.0,>=1.97.0->langchain-google-vertexai) (0.2.8)\n",
      "Requirement already satisfied: rsa<5,>=3.1.4 in c:\\programdata\\anaconda3\\lib\\site-packages (from google-auth<3.0.0,>=2.14.1->google-cloud-aiplatform<2.0.0,>=1.97.0->langchain-google-vertexai) (4.9.1)\n",
      "Requirement already satisfied: google-cloud-core<3.0.0,>=2.4.1 in c:\\programdata\\anaconda3\\lib\\site-packages (from google-cloud-bigquery!=3.20.0,<4.0.0,>=1.15.0->google-cloud-aiplatform<2.0.0,>=1.97.0->langchain-google-vertexai) (2.4.3)\n",
      "Requirement already satisfied: google-resumable-media<3.0.0,>=2.0.0 in c:\\programdata\\anaconda3\\lib\\site-packages (from google-cloud-bigquery!=3.20.0,<4.0.0,>=1.15.0->google-cloud-aiplatform<2.0.0,>=1.97.0->langchain-google-vertexai) (2.7.2)\n",
      "Requirement already satisfied: python-dateutil<3.0.0,>=2.8.2 in c:\\users\\sophi\\appdata\\roaming\\python\\python313\\site-packages (from google-cloud-bigquery!=3.20.0,<4.0.0,>=1.15.0->google-cloud-aiplatform<2.0.0,>=1.97.0->langchain-google-vertexai) (2.9.0.post0)\n",
      "Requirement already satisfied: grpc-google-iam-v1<1.0.0,>=0.14.0 in c:\\programdata\\anaconda3\\lib\\site-packages (from google-cloud-resource-manager<3.0.0,>=1.3.3->google-cloud-aiplatform<2.0.0,>=1.97.0->langchain-google-vertexai) (0.14.2)\n",
      "Requirement already satisfied: google-crc32c<2.0dev,>=1.0 in c:\\programdata\\anaconda3\\lib\\site-packages (from google-cloud-storage<3.0.0,>=2.18.0->langchain-google-vertexai) (1.7.1)\n",
      "Requirement already satisfied: anyio<5.0.0,>=4.8.0 in c:\\programdata\\anaconda3\\lib\\site-packages (from google-genai<2.0.0,>=1.0.0->google-cloud-aiplatform<2.0.0,>=1.97.0->langchain-google-vertexai) (4.10.0)\n",
      "Requirement already satisfied: tenacity<9.2.0,>=8.2.3 in c:\\programdata\\anaconda3\\lib\\site-packages (from google-genai<2.0.0,>=1.0.0->google-cloud-aiplatform<2.0.0,>=1.97.0->langchain-google-vertexai) (9.0.0)\n",
      "Requirement already satisfied: websockets<15.1.0,>=13.0.0 in c:\\programdata\\anaconda3\\lib\\site-packages (from google-genai<2.0.0,>=1.0.0->google-cloud-aiplatform<2.0.0,>=1.97.0->langchain-google-vertexai) (15.0.1)\n",
      "Requirement already satisfied: idna>=2.8 in c:\\programdata\\anaconda3\\lib\\site-packages (from anyio<5.0.0,>=4.8.0->google-genai<2.0.0,>=1.0.0->google-cloud-aiplatform<2.0.0,>=1.97.0->langchain-google-vertexai) (3.7)\n",
      "Requirement already satisfied: sniffio>=1.1 in c:\\programdata\\anaconda3\\lib\\site-packages (from anyio<5.0.0,>=4.8.0->google-genai<2.0.0,>=1.0.0->google-cloud-aiplatform<2.0.0,>=1.97.0->langchain-google-vertexai) (1.3.0)\n",
      "Requirement already satisfied: certifi in c:\\programdata\\anaconda3\\lib\\site-packages (from httpx<0.29.0,>=0.28.0->langchain-google-vertexai) (2025.4.26)\n",
      "Requirement already satisfied: httpcore==1.* in c:\\programdata\\anaconda3\\lib\\site-packages (from httpx<0.29.0,>=0.28.0->langchain-google-vertexai) (1.0.9)\n",
      "Requirement already satisfied: h11>=0.16 in c:\\programdata\\anaconda3\\lib\\site-packages (from httpcore==1.*->httpx<0.29.0,>=0.28.0->langchain-google-vertexai) (0.16.0)\n",
      "Requirement already satisfied: langsmith>=0.3.45 in c:\\programdata\\anaconda3\\lib\\site-packages (from langchain-core<0.4,>=0.3.67->langchain-google-vertexai) (0.4.15)\n",
      "Requirement already satisfied: jsonpatch<2.0,>=1.33 in c:\\programdata\\anaconda3\\lib\\site-packages (from langchain-core<0.4,>=0.3.67->langchain-google-vertexai) (1.33)\n",
      "Requirement already satisfied: PyYAML>=5.3 in c:\\programdata\\anaconda3\\lib\\site-packages (from langchain-core<0.4,>=0.3.67->langchain-google-vertexai) (6.0.2)\n",
      "Requirement already satisfied: jsonpointer>=1.9 in c:\\programdata\\anaconda3\\lib\\site-packages (from jsonpatch<2.0,>=1.33->langchain-core<0.4,>=0.3.67->langchain-google-vertexai) (2.1)\n",
      "Requirement already satisfied: annotated-types>=0.6.0 in c:\\programdata\\anaconda3\\lib\\site-packages (from pydantic<3.0,>=2.9->langchain-google-vertexai) (0.6.0)\n",
      "Requirement already satisfied: pydantic-core==2.27.1 in c:\\programdata\\anaconda3\\lib\\site-packages (from pydantic<3.0,>=2.9->langchain-google-vertexai) (2.27.1)\n",
      "Requirement already satisfied: six>=1.5 in c:\\users\\sophi\\appdata\\roaming\\python\\python313\\site-packages (from python-dateutil<3.0.0,>=2.8.2->google-cloud-bigquery!=3.20.0,<4.0.0,>=1.15.0->google-cloud-aiplatform<2.0.0,>=1.97.0->langchain-google-vertexai) (1.17.0)\n",
      "Requirement already satisfied: charset-normalizer<4,>=2 in c:\\programdata\\anaconda3\\lib\\site-packages (from requests<3.0.0,>=2.18.0->google-api-core!=2.0.*,!=2.1.*,!=2.2.*,!=2.3.*,!=2.4.*,!=2.5.*,!=2.6.*,!=2.7.*,<3.0.0,>=1.34.1->google-api-core[grpc]!=2.0.*,!=2.1.*,!=2.2.*,!=2.3.*,!=2.4.*,!=2.5.*,!=2.6.*,!=2.7.*,<3.0.0,>=1.34.1->google-cloud-aiplatform<2.0.0,>=1.97.0->langchain-google-vertexai) (3.3.2)\n",
      "Requirement already satisfied: urllib3<3,>=1.21.1 in c:\\programdata\\anaconda3\\lib\\site-packages (from requests<3.0.0,>=2.18.0->google-api-core!=2.0.*,!=2.1.*,!=2.2.*,!=2.3.*,!=2.4.*,!=2.5.*,!=2.6.*,!=2.7.*,<3.0.0,>=1.34.1->google-api-core[grpc]!=2.0.*,!=2.1.*,!=2.2.*,!=2.3.*,!=2.4.*,!=2.5.*,!=2.6.*,!=2.7.*,<3.0.0,>=1.34.1->google-cloud-aiplatform<2.0.0,>=1.97.0->langchain-google-vertexai) (2.3.0)\n",
      "Requirement already satisfied: pyasn1>=0.1.3 in c:\\programdata\\anaconda3\\lib\\site-packages (from rsa<5,>=3.1.4->google-auth<3.0.0,>=2.14.1->google-cloud-aiplatform<2.0.0,>=1.97.0->langchain-google-vertexai) (0.4.8)\n",
      "Requirement already satisfied: orjson>=3.9.14 in c:\\programdata\\anaconda3\\lib\\site-packages (from langsmith>=0.3.45->langchain-core<0.4,>=0.3.67->langchain-google-vertexai) (3.11.2)\n",
      "Requirement already satisfied: requests-toolbelt>=1.0.0 in c:\\programdata\\anaconda3\\lib\\site-packages (from langsmith>=0.3.45->langchain-core<0.4,>=0.3.67->langchain-google-vertexai) (1.0.0)\n",
      "Requirement already satisfied: zstandard>=0.23.0 in c:\\programdata\\anaconda3\\lib\\site-packages (from langsmith>=0.3.45->langchain-core<0.4,>=0.3.67->langchain-google-vertexai) (0.23.0)\n",
      "Note: you may need to restart the kernel to use updated packages.\n"
     ]
    },
    {
     "name": "stderr",
     "output_type": "stream",
     "text": [
      "WARNING: Ignoring invalid distribution ~angchain-core (c:\\ProgramData\\anaconda3\\Lib\\site-packages)\n",
      "WARNING: Ignoring invalid distribution ~angchain-core (c:\\ProgramData\\anaconda3\\Lib\\site-packages)\n",
      "WARNING: Ignoring invalid distribution ~angchain-core (c:\\ProgramData\\anaconda3\\Lib\\site-packages)\n"
     ]
    }
   ],
   "source": [
    "# Install required libraries\n",
    "%pip install google-cloud-bigtable\n",
    "%pip install --upgrade google-auth\n",
    "%pip install langchain\n",
    "%pip install -U langchain-google-genai\n",
    "%pip install langgraph langchain-google-genai\n",
    "%pip install -U langchain-google-vertexai"
   ]
  },
  {
   "cell_type": "markdown",
   "id": "09410dca",
   "metadata": {},
   "source": [
    "### 🔐 Authentication\n",
    "\n",
    "Authenticate to Google Cloud as the IAM user logged into this notebook in order to access your Google Cloud Project."
   ]
  },
  {
   "cell_type": "code",
   "execution_count": 51,
   "id": "a793be2d",
   "metadata": {},
   "outputs": [
    {
     "name": "stderr",
     "output_type": "stream",
     "text": [
      "Your browser has been opened to visit:\n",
      "\n",
      "    https://accounts.google.com/o/oauth2/auth?response_type=code&client_id=764086051850-6qr4p6gpi6hn506pt8ejuq83di341hur.apps.googleusercontent.com&redirect_uri=http%3A%2F%2Flocalhost%3A8085%2F&scope=openid+https%3A%2F%2Fwww.googleapis.com%2Fauth%2Fuserinfo.email+https%3A%2F%2Fwww.googleapis.com%2Fauth%2Fcloud-platform+https%3A%2F%2Fwww.googleapis.com%2Fauth%2Fsqlservice.login&state=BXLGEQopRCWsCxJrGjocTh2Th4wSsS&access_type=offline&code_challenge=slYz9KPQGBM2kuoNr3-e0DNSQepgQVu9gbVoTWZFnAk&code_challenge_method=S256\n",
      "\n",
      "\n",
      "Credentials saved to file: [C:\\Users\\sophi\\AppData\\Roaming\\gcloud\\application_default_credentials.json]\n",
      "\n",
      "These credentials will be used by any library that requests Application Default Credentials (ADC).\n",
      "\n",
      "Quota project \"testproject-468100\" was added to ADC which can be used by Google client libraries for billing and quota. Note that some services may still bill the project owning the resource.\n",
      "Updated property [core/project].\n"
     ]
    }
   ],
   "source": [
    "!gcloud auth application-default login\n",
    "!gcloud config set project {PROJECT_ID}"
   ]
  },
  {
   "cell_type": "markdown",
   "id": "623b2e56",
   "metadata": {},
   "source": [
    "### 👍Initialize Bigtable Client, Create Tables and initialize the Tools\n",
    "\n",
    "We will initialize two Bigtable clients:\n",
    "\n",
    "1. **`admin_client`**: Used for administrative operations, such as creating and deleting tables.\n",
    "2. **`data_client`**: Used for data operations, such as reading and writing rows.\n",
    "\n",
    "We will also initialize the tools:\n",
    "\n",
    "1. **`BigtableGetInstancesAndTableSchemaTool`**: To get instances and table schema.\n",
    "2. **`BigtableExecuteQueryTool`**: To execute SQL query on Bigtable data.\n",
    "\n",
    "We will also create two tables for query test:\n",
    "\n",
    "1. **`hotels` table**: This table will be used for testing SQL queries.\n",
    "2. **`fruits` table**: An unrelated table to demonstrate handling multiple tables.\n",
    "\n",
    "Both tables will be cleaned up after the tests.\n"
   ]
  },
  {
   "cell_type": "code",
   "execution_count": 52,
   "id": "80135acd",
   "metadata": {},
   "outputs": [
    {
     "name": "stdout",
     "output_type": "stream",
     "text": [
      "Connected to Bigtable instance: myinstance\n",
      "Tools initialized successfully.\n"
     ]
    }
   ],
   "source": [
    "# Import necessary libraries\n",
    "from google.cloud import bigtable\n",
    "from google.cloud.bigtable import Client\n",
    "from google.cloud.bigtable.data import BigtableDataClient\n",
    "from langchain_google_bigtable.get_instances_and_table_schema_tool import BigtableGetInstancesAndTableSchemaTool\n",
    "from langchain_google_bigtable.execute_query_tool import BigtableExecuteQueryTool\n",
    "\n",
    "# initialize Bigtable clients\n",
    "admin_client = bigtable.Client(project=PROJECT_ID, admin=True)\n",
    "sync_data_client = BigtableDataClient(project=PROJECT_ID, admin=False)\n",
    "instance = admin_client.instance(INSTANCE_ID)\n",
    "print(f\"Connected to Bigtable instance: {instance.instance_id}\")\n",
    "\n",
    "# Initialize tools\n",
    "get_instances_and_table_schema_tool = BigtableGetInstancesAndTableSchemaTool(client=admin_client)\n",
    "execute_query_tool = BigtableExecuteQueryTool(client=sync_data_client)\n",
    "print(\"Tools initialized successfully.\")"
   ]
  },
  {
   "cell_type": "code",
   "execution_count": 53,
   "id": "c92f07c1",
   "metadata": {},
   "outputs": [],
   "source": [
    "# Create a hotel table and insert data for demo purposes\n",
    "instance = admin_client.instance(INSTANCE_ID)\n",
    "hotels_table_id = \"test-table-hotels\"\n",
    "hotels_table = instance.table(hotels_table_id)\n",
    "column_families = {\n",
    "    \"cf\": bigtable.column_family.MaxVersionsGCRule(1),\n",
    "}\n",
    "\n",
    "if not hotels_table.exists():\n",
    "    hotels_table.create(column_families=column_families)\n",
    "\n",
    "    # Define columns and data\n",
    "    columns = [\"id\", \"name\", \"location\", \"price_tier\", \"checkin_date\", \"checkout_date\", \"booked\"]\n",
    "    data = [\n",
    "        [1, 'Hilton Basel', 'Basel', 'Luxury', '2024-04-20', '2024-04-22', False],\n",
    "        [2, 'Marriott Zurich', 'Zurich', 'Upscale', '2024-04-14', '2024-04-21', False],\n",
    "        [3, 'Hyatt Regency Basel', 'Basel', 'Upper Upscale', '2024-04-02', '2024-04-20', False],\n",
    "        [4, 'Radisson Blu Lucerne', 'Lucerne', 'Midscale', '2024-04-05', '2024-04-24', False],\n",
    "        [5, 'Best Western Bern', 'Bern', 'Upper Midscale', '2024-04-01', '2024-04-23', False],\n",
    "        [6, 'InterContinental Geneva', 'Geneva', 'Luxury', '2024-04-23', '2024-04-28', False],\n",
    "        [7, 'Sheraton Zurich', 'Zurich', 'Upper Upscale', '2024-04-02', '2024-04-27', False],\n",
    "        [8, 'Holiday Inn Basel', 'Basel', 'Upper Midscale', '2024-04-09', '2024-04-24', False],\n",
    "        [9, 'Courtyard Zurich', 'Zurich', 'Upscale', '2024-04-03', '2024-04-13', False],\n",
    "        [10, 'Comfort Inn Bern', 'Bern', 'Midscale', '2024-04-04', '2024-04-16', False],\n",
    "    ]\n",
    "\n",
    "    # Insert data into the table\n",
    "    mutations = []\n",
    "    batcher = hotels_table.mutations_batcher(max_row_bytes=1024)\n",
    "    for row in data:\n",
    "        row_key = f\"hotels#{row[0]}#{row[2]}#{row[1]}#{row[3]}\"\n",
    "        mutation = hotels_table.direct_row(row_key)\n",
    "        for col, value in zip(columns, row):\n",
    "            mutation.set_cell(\"cf\", col.encode(\"utf-8\"), str(value).encode(\"utf-8\"))\n",
    "        mutations.append(mutation)\n",
    "    for mutation in mutations:\n",
    "        batcher.mutate(mutation)\n",
    "\n",
    "#create a fruits table and insert data for demo purposes\n",
    "fruits_table_id = \"test-table-fruits\"\n",
    "fruits_table = instance.table(fruits_table_id)\n",
    "column_families = {\n",
    "    \"cf\": bigtable.column_family.MaxVersionsGCRule(1),\n",
    "} \n",
    "if not fruits_table.exists():\n",
    "        fruits_table.create(column_families=column_families)\n",
    "\n",
    "        columns = [\"id\", \"name\", \"color\", \"price_per_kg\", \"in_stock\"]\n",
    "        data = [\n",
    "            [1, 'Apple', 'Red', 3.5, True],\n",
    "            [2, 'Banana', 'Yellow', 1.2, True],\n",
    "            [3, 'Grapes', 'Purple', 2.8, False],\n",
    "            [4, 'Orange', 'Orange', 2.0, True],\n",
    "            [5, 'Blueberry', 'Blue', 4.0, False],\n",
    "            [6, 'Strawberry', 'Red', 3.8, True],\n",
    "            [7, 'Pineapple', 'Brown', 2.5, True],\n",
    "            [8, 'Mango', 'Yellow', 3.0, False],\n",
    "            [9, 'Watermelon', 'Green', 1.5, True],\n",
    "            [10, 'Kiwi', 'Brown', 4.2, False],\n",
    "        ]\n",
    "\n",
    "        mutations = []\n",
    "        batcher = fruits_table.mutations_batcher(max_row_bytes=1024)\n",
    "        for row in data:\n",
    "            row_key = f\"fruits#{row[0]}#{row[1]}#{row[2]}\"\n",
    "            mutation = fruits_table.direct_row(row_key)\n",
    "            for col, value in zip(columns, row):\n",
    "                mutation.set_cell(\"cf\", col.encode(\"utf-8\"), str(value).encode(\"utf-8\"))\n",
    "            mutations.append(mutation)\n",
    "        for mutation in mutations:\n",
    "            batcher.mutate(mutation)"
   ]
  },
  {
   "cell_type": "markdown",
   "id": "ad465583",
   "metadata": {},
   "source": [
    "## Usage\n",
    "\n",
    "This section demonstrates a sample usage of the Bigtable get table schema and execute query tool in the context of an LLM gemini agent.\n",
    "\n",
    "\n",
    "`Note`: If you are using a Google model (e.g., `gemini-2.5-pro`), you need to set your Google API key. \n",
    "This key is required to authenticate and access Google's Generative AI services.\n",
    "\n",
    "\n",
    "you can use the `create_react_agent` function to build a conversational agent.\n",
    "This allows you to ask follow-up questions and interact dynamically with the Bigtable data.\n",
    "\n",
    "### Steps:\n",
    "\n",
    "1. Set the `GOOGLE_API_KEY` environment variable with your API key.\n",
    "2. Use the `create_react_agent` function to initialize the agent.\n",
    "3. Provide a prompt to guide the agent's behavior.\n",
    "4. Ask questions interactively and process the responses."
   ]
  },
  {
   "cell_type": "code",
   "execution_count": 54,
   "id": "fc285539",
   "metadata": {},
   "outputs": [],
   "source": [
    "# Set your Google API key\n",
    "import os\n",
    "os.environ[\"GOOGLE_API_KEY\"]  = \"\""
   ]
  },
  {
   "cell_type": "code",
   "execution_count": 55,
   "id": "758b5cde",
   "metadata": {},
   "outputs": [],
   "source": [
    "# Create a conversational agent\n",
    "from langgraph.prebuilt import create_react_agent\n",
    "\n",
    "agent = create_react_agent(\n",
    "    model=\"gemini-2.5-pro\",\n",
    "    tools=[get_instances_and_table_schema_tool, execute_query_tool],\n",
    "    prompt=\"You are a helpful assistant. Make sure to process the data retrieved from the Bigtable execute query tool to answer user questions effectively.\"\n",
    ")\n",
    "\n",
    "# Ask the agent a question about the hotels table\n",
    "response = agent.invoke({\n",
    "    \"messages\": [\n",
    "        {\n",
    "            \"role\": \"user\",\n",
    "            \"content\": (\n",
    "                \"I want to figure out what hotels are luxurious. Don't ask me for any other information. Use the tools at your disposal to get the information you need.\"\n",
    "            )\n",
    "        }\n",
    "    ]\n",
    "})\n",
    "\n",
    "# Print the agent's response to debug - the result is verbose and contains all the steps the agent took to arrive at the final answer\n",
    "# print(response)"
   ]
  },
  {
   "cell_type": "code",
   "execution_count": 56,
   "id": "659d1e9d",
   "metadata": {},
   "outputs": [
    {
     "name": "stdout",
     "output_type": "stream",
     "text": [
      "Final Thought:\n",
      "==================================\u001b[1m Ai Message \u001b[0m==================================\n",
      "\n",
      "Of course. The luxurious hotels are the Hilton Basel, the InterContinental Geneva, the Hyatt Regency Basel, and the Sheraton Zurich.\n",
      "\n",
      "\n",
      "All Steps:\n",
      "\n",
      "Step 1:\n",
      "================================\u001b[1m Human Message \u001b[0m=================================\n",
      "\n",
      "I want to figure out what hotels are luxurious. Don't ask me for any other information. Use the tools at your disposal to get the information you need.\n",
      "\n",
      "\n",
      "Step 2:\n",
      "==================================\u001b[1m Ai Message \u001b[0m==================================\n",
      "Tool Calls:\n",
      "  GetBigtableInstancesAndTableSchema (c6ed80bf-38d4-4f59-b313-dd0925481378)\n",
      " Call ID: c6ed80bf-38d4-4f59-b313-dd0925481378\n",
      "  Args:\n",
      "\n",
      "\n",
      "Step 3:\n",
      "=================================\u001b[1m Tool Message \u001b[0m=================================\n",
      "Name: GetBigtableInstancesAndTableSchema\n",
      "\n",
      "{\"myinstance\": {\"hotel1\": {\"column_families\": [\"cf\"], \"possible_columns\": [\"cf['price_tier']\", \"cf['checkout_date']\", \"cf['location']\", \"cf['id']\", \"cf['booked']\", \"cf['checkin_date']\", \"cf['name']\"]}, \"hotels\": {\"column_families\": [\"cf\"], \"possible_columns\": [\"cf['price_tier']\", \"cf['checkout_date']\", \"cf['location']\", \"cf['id']\", \"cf['booked']\", \"cf['checkin_date']\", \"cf['name']\"]}, \"test-table-fruits\": {\"column_families\": [\"cf\"], \"possible_columns\": [\"cf['color']\", \"cf['price_per_kg']\", \"cf['id']\", \"cf['name']\", \"cf['in_stock']\"]}, \"test-table-hotels\": {\"column_families\": [\"cf\"], \"possible_columns\": [\"cf['price_tier']\", \"cf['checkout_date']\", \"cf['location']\", \"cf['id']\", \"cf['booked']\", \"cf['checkin_date']\", \"cf['name']\"]}}}\n",
      "\n",
      "\n",
      "Step 4:\n",
      "==================================\u001b[1m Ai Message \u001b[0m==================================\n",
      "Tool Calls:\n",
      "  bigtable_execute_query (745be228-81de-411a-be5e-0ca37917746f)\n",
      " Call ID: 745be228-81de-411a-be5e-0ca37917746f\n",
      "  Args:\n",
      "    query: SELECT cf['name'], cf['price_tier'] FROM hotels;\n",
      "    instance_id: myinstance\n",
      "\n",
      "\n",
      "Step 5:\n",
      "=================================\u001b[1m Tool Message \u001b[0m=================================\n",
      "Name: bigtable_execute_query\n",
      "\n",
      "[{\"$col1\": \"Hilton Basel\", \"$col2\": \"Luxury\"}, {\"$col1\": \"Comfort Inn Bern\", \"$col2\": \"Midscale\"}, {\"$col1\": \"Marriott Zurich\", \"$col2\": \"Upscale\"}, {\"$col1\": \"Hyatt Regency Basel\", \"$col2\": \"Upper Upscale\"}, {\"$col1\": \"Radisson Blu Lucerne\", \"$col2\": \"Midscale\"}, {\"$col1\": \"Best Western Bern\", \"$col2\": \"Upper Midscale\"}, {\"$col1\": \"InterContinental Geneva\", \"$col2\": \"Luxury\"}, {\"$col1\": \"Sheraton Zurich\", \"$col2\": \"Upper Upscale\"}, {\"$col1\": \"Holiday Inn Basel\", \"$col2\": \"Upper Midscale\"}, {\"$col1\": \"Courtyard Zurich\", \"$col2\": \"Upscale\"}]\n",
      "\n",
      "\n",
      "Step 6:\n",
      "==================================\u001b[1m Ai Message \u001b[0m==================================\n",
      "\n",
      "Of course. The luxurious hotels are the Hilton Basel, the InterContinental Geneva, the Hyatt Regency Basel, and the Sheraton Zurich.\n",
      "\n",
      "\n"
     ]
    }
   ],
   "source": [
    "# Import the AiMessage class\n",
    "from langchain_core.messages.ai import BaseMessage\n",
    "\n",
    "\n",
    "# Print the final thought and agent return.\n",
    "final_message: BaseMessage = response[\"messages\"][-1]\n",
    "print(\"Final Thought:\")\n",
    "final_message.pretty_print()\n",
    "print(\"\\n\")\n",
    "\n",
    "\n",
    "# Print each thought.\n",
    "print(\"All Steps:\\n\")\n",
    "for i, message in enumerate(response[\"messages\"], start=1):\n",
    "    message: BaseMessage\n",
    "    print(f\"Step {i}:\")\n",
    "    message.pretty_print()\n",
    "    print(\"\\n\")\n"
   ]
  },
  {
   "cell_type": "markdown",
   "id": "4cc18651",
   "metadata": {},
   "source": [
    "### Cleanup\n",
    "\n",
    "After the tests, the `hotels` and `fruits` tables should be deleted to clean up resources."
   ]
  },
  {
   "cell_type": "code",
   "execution_count": 57,
   "id": "f9c09239",
   "metadata": {},
   "outputs": [
    {
     "name": "stdout",
     "output_type": "stream",
     "text": [
      "Table 'test-table-hotels' deleted successfully.\n",
      "Table 'test-table-fruits' deleted successfully.\n"
     ]
    }
   ],
   "source": [
    "# Cleanup tables\n",
    "def delete_table(table):\n",
    "    if table.exists():\n",
    "        table.delete()\n",
    "        print(f\"Table '{table.table_id}' deleted successfully.\")\n",
    "    else:\n",
    "        print(f\"Table '{table.table_id}' does not exist.\")\n",
    "\n",
    "delete_table(hotels_table)\n",
    "delete_table(fruits_table)"
   ]
  }
 ],
 "metadata": {
  "kernelspec": {
   "display_name": "base",
   "language": "python",
   "name": "python3"
  },
  "language_info": {
   "codemirror_mode": {
    "name": "ipython",
    "version": 3
   },
   "file_extension": ".py",
   "mimetype": "text/x-python",
   "name": "python",
   "nbconvert_exporter": "python",
   "pygments_lexer": "ipython3",
   "version": "3.13.5"
  }
 },
 "nbformat": 4,
 "nbformat_minor": 5
}
